{
 "cells": [
  {
   "cell_type": "markdown",
   "id": "cd2519b9",
   "metadata": {},
   "source": [
    "https://towardsdatascience.com/multi-class-text-classification-with-lstm-1590bee1bd17"
   ]
  },
  {
   "cell_type": "code",
   "execution_count": 1,
   "id": "f50a0351",
   "metadata": {},
   "outputs": [
    {
     "name": "stdout",
     "output_type": "stream",
     "text": [
      "Init DB\n"
     ]
    },
    {
     "name": "stderr",
     "output_type": "stream",
     "text": [
      "[nltk_data] Downloading package wordnet to /home/kguttas/nltk_data...\n",
      "[nltk_data]   Package wordnet is already up-to-date!\n"
     ]
    }
   ],
   "source": [
    "from Database import db_mongo\n",
    "from Utilities import clean_text\n",
    "\n",
    "import string\n",
    "\n",
    "db = db_mongo.db_mongo()\n",
    "\n",
    "df_base = db.get_text_full_resume(100000000)\n",
    "\n",
    "df_base = df_base.sample(frac=1).reset_index(drop=True)\n",
    "\n",
    "ct = clean_text.CleanText()\n",
    "\n",
    "df_base['text'] = ct.cleanner_process(df_base[\"text\"])\n",
    "\n",
    "df = df_base.copy()"
   ]
  },
  {
   "cell_type": "code",
   "execution_count": 2,
   "id": "95b49aea",
   "metadata": {},
   "outputs": [
    {
     "data": {
      "text/plain": [
       "array(['ADVOCATE', 'CHEF', 'AVIATION', 'CONSTRUCTION', 'FITNESS',\n",
       "       'TEACHER', 'ACCOUNTANT', 'BUSINESS-DEVELOPMENT', 'ARTS',\n",
       "       'DIGITAL-MEDIA', 'HEALTHCARE', 'APPAREL', 'SALES',\n",
       "       'INFORMATION-TECHNOLOGY', 'ENGINEERING', 'PUBLIC-RELATIONS',\n",
       "       'DESIGNER', 'CONSULTANT', 'AGRICULTURE', 'BANKING', 'HR',\n",
       "       'AUTOMOBILE', 'FINANCE', 'BPO'], dtype=object)"
      ]
     },
     "execution_count": 2,
     "metadata": {},
     "output_type": "execute_result"
    }
   ],
   "source": [
    "df_base[\"class\"].unique()"
   ]
  },
  {
   "cell_type": "code",
   "execution_count": 3,
   "id": "f77d6587",
   "metadata": {},
   "outputs": [
    {
     "name": "stderr",
     "output_type": "stream",
     "text": [
      "2021-12-10 04:59:35.968577: W tensorflow/stream_executor/platform/default/dso_loader.cc:64] Could not load dynamic library 'libcudart.so.11.0'; dlerror: libcudart.so.11.0: cannot open shared object file: No such file or directory\n",
      "2021-12-10 04:59:35.968615: I tensorflow/stream_executor/cuda/cudart_stub.cc:29] Ignore above cudart dlerror if you do not have a GPU set up on your machine.\n"
     ]
    },
    {
     "data": {
      "text/html": [
       "        <script type=\"text/javascript\">\n",
       "        window.PlotlyConfig = {MathJaxConfig: 'local'};\n",
       "        if (window.MathJax) {MathJax.Hub.Config({SVG: {font: \"STIX-Web\"}});}\n",
       "        if (typeof require !== 'undefined') {\n",
       "        require.undef(\"plotly\");\n",
       "        requirejs.config({\n",
       "            paths: {\n",
       "                'plotly': ['https://cdn.plot.ly/plotly-2.6.3.min']\n",
       "            }\n",
       "        });\n",
       "        require(['plotly'], function(Plotly) {\n",
       "            window._Plotly = Plotly;\n",
       "        });\n",
       "        }\n",
       "        </script>\n",
       "        "
      ]
     },
     "metadata": {},
     "output_type": "display_data"
    }
   ],
   "source": [
    "import numpy as np \n",
    "import pandas as pd\n",
    "import matplotlib.pyplot as plt\n",
    "import seaborn as sns\n",
    "from keras.preprocessing.text import Tokenizer\n",
    "from keras.preprocessing.sequence import pad_sequences\n",
    "from keras.models import Sequential\n",
    "from keras.layers import Dense, Embedding, LSTM, SpatialDropout1D\n",
    "from sklearn.model_selection import train_test_split\n",
    "from keras.utils.np_utils import to_categorical\n",
    "from keras.callbacks import EarlyStopping\n",
    "from keras.layers import Dropout\n",
    "import re\n",
    "from nltk.corpus import stopwords\n",
    "from nltk import word_tokenize\n",
    "STOPWORDS = set(stopwords.words('english'))\n",
    "from bs4 import BeautifulSoup\n",
    "import plotly.graph_objs as go\n",
    "#import plotly.plotly as py\n",
    "from chart_studio import plotly as py\n",
    "import cufflinks\n",
    "from IPython.core.interactiveshell import InteractiveShell\n",
    "import plotly.figure_factory as ff\n",
    "InteractiveShell.ast_node_interactivity = 'all'\n",
    "from plotly.offline import iplot\n",
    "cufflinks.go_offline()\n",
    "cufflinks.set_config_file(world_readable=True, theme='pearl')"
   ]
  },
  {
   "cell_type": "code",
   "execution_count": 4,
   "id": "aa8838ad",
   "metadata": {},
   "outputs": [
    {
     "data": {
      "application/vnd.plotly.v1+json": {
       "config": {
        "linkText": "Export to plot.ly",
        "plotlyServerURL": "https://plot.ly",
        "showLink": true
       },
       "data": [
        {
         "marker": {
          "color": "rgba(255, 153, 51, 0.6)",
          "line": {
           "color": "rgba(255, 153, 51, 1.0)",
           "width": 1
          }
         },
         "name": "class",
         "orientation": "v",
         "text": "",
         "type": "bar",
         "x": [
          "BUSINESS-DEVELOPMENT",
          "INFORMATION-TECHNOLOGY",
          "ENGINEERING",
          "ADVOCATE",
          "CHEF",
          "ACCOUNTANT",
          "FINANCE",
          "FITNESS",
          "AVIATION",
          "SALES",
          "HEALTHCARE",
          "CONSULTANT",
          "BANKING",
          "CONSTRUCTION",
          "PUBLIC-RELATIONS",
          "HR",
          "DESIGNER",
          "ARTS",
          "TEACHER",
          "APPAREL",
          "DIGITAL-MEDIA",
          "AGRICULTURE",
          "AUTOMOBILE",
          "BPO"
         ],
         "y": [
          120,
          120,
          118,
          118,
          118,
          118,
          118,
          117,
          117,
          116,
          115,
          115,
          115,
          112,
          111,
          110,
          107,
          103,
          102,
          97,
          96,
          63,
          36,
          22
         ]
        }
       ],
       "layout": {
        "legend": {
         "bgcolor": "#F5F6F9",
         "font": {
          "color": "#4D5663"
         }
        },
        "paper_bgcolor": "#F5F6F9",
        "plot_bgcolor": "#F5F6F9",
        "template": {
         "data": {
          "bar": [
           {
            "error_x": {
             "color": "#2a3f5f"
            },
            "error_y": {
             "color": "#2a3f5f"
            },
            "marker": {
             "line": {
              "color": "#E5ECF6",
              "width": 0.5
             },
             "pattern": {
              "fillmode": "overlay",
              "size": 10,
              "solidity": 0.2
             }
            },
            "type": "bar"
           }
          ],
          "barpolar": [
           {
            "marker": {
             "line": {
              "color": "#E5ECF6",
              "width": 0.5
             },
             "pattern": {
              "fillmode": "overlay",
              "size": 10,
              "solidity": 0.2
             }
            },
            "type": "barpolar"
           }
          ],
          "carpet": [
           {
            "aaxis": {
             "endlinecolor": "#2a3f5f",
             "gridcolor": "white",
             "linecolor": "white",
             "minorgridcolor": "white",
             "startlinecolor": "#2a3f5f"
            },
            "baxis": {
             "endlinecolor": "#2a3f5f",
             "gridcolor": "white",
             "linecolor": "white",
             "minorgridcolor": "white",
             "startlinecolor": "#2a3f5f"
            },
            "type": "carpet"
           }
          ],
          "choropleth": [
           {
            "colorbar": {
             "outlinewidth": 0,
             "ticks": ""
            },
            "type": "choropleth"
           }
          ],
          "contour": [
           {
            "colorbar": {
             "outlinewidth": 0,
             "ticks": ""
            },
            "colorscale": [
             [
              0,
              "#0d0887"
             ],
             [
              0.1111111111111111,
              "#46039f"
             ],
             [
              0.2222222222222222,
              "#7201a8"
             ],
             [
              0.3333333333333333,
              "#9c179e"
             ],
             [
              0.4444444444444444,
              "#bd3786"
             ],
             [
              0.5555555555555556,
              "#d8576b"
             ],
             [
              0.6666666666666666,
              "#ed7953"
             ],
             [
              0.7777777777777778,
              "#fb9f3a"
             ],
             [
              0.8888888888888888,
              "#fdca26"
             ],
             [
              1,
              "#f0f921"
             ]
            ],
            "type": "contour"
           }
          ],
          "contourcarpet": [
           {
            "colorbar": {
             "outlinewidth": 0,
             "ticks": ""
            },
            "type": "contourcarpet"
           }
          ],
          "heatmap": [
           {
            "colorbar": {
             "outlinewidth": 0,
             "ticks": ""
            },
            "colorscale": [
             [
              0,
              "#0d0887"
             ],
             [
              0.1111111111111111,
              "#46039f"
             ],
             [
              0.2222222222222222,
              "#7201a8"
             ],
             [
              0.3333333333333333,
              "#9c179e"
             ],
             [
              0.4444444444444444,
              "#bd3786"
             ],
             [
              0.5555555555555556,
              "#d8576b"
             ],
             [
              0.6666666666666666,
              "#ed7953"
             ],
             [
              0.7777777777777778,
              "#fb9f3a"
             ],
             [
              0.8888888888888888,
              "#fdca26"
             ],
             [
              1,
              "#f0f921"
             ]
            ],
            "type": "heatmap"
           }
          ],
          "heatmapgl": [
           {
            "colorbar": {
             "outlinewidth": 0,
             "ticks": ""
            },
            "colorscale": [
             [
              0,
              "#0d0887"
             ],
             [
              0.1111111111111111,
              "#46039f"
             ],
             [
              0.2222222222222222,
              "#7201a8"
             ],
             [
              0.3333333333333333,
              "#9c179e"
             ],
             [
              0.4444444444444444,
              "#bd3786"
             ],
             [
              0.5555555555555556,
              "#d8576b"
             ],
             [
              0.6666666666666666,
              "#ed7953"
             ],
             [
              0.7777777777777778,
              "#fb9f3a"
             ],
             [
              0.8888888888888888,
              "#fdca26"
             ],
             [
              1,
              "#f0f921"
             ]
            ],
            "type": "heatmapgl"
           }
          ],
          "histogram": [
           {
            "marker": {
             "pattern": {
              "fillmode": "overlay",
              "size": 10,
              "solidity": 0.2
             }
            },
            "type": "histogram"
           }
          ],
          "histogram2d": [
           {
            "colorbar": {
             "outlinewidth": 0,
             "ticks": ""
            },
            "colorscale": [
             [
              0,
              "#0d0887"
             ],
             [
              0.1111111111111111,
              "#46039f"
             ],
             [
              0.2222222222222222,
              "#7201a8"
             ],
             [
              0.3333333333333333,
              "#9c179e"
             ],
             [
              0.4444444444444444,
              "#bd3786"
             ],
             [
              0.5555555555555556,
              "#d8576b"
             ],
             [
              0.6666666666666666,
              "#ed7953"
             ],
             [
              0.7777777777777778,
              "#fb9f3a"
             ],
             [
              0.8888888888888888,
              "#fdca26"
             ],
             [
              1,
              "#f0f921"
             ]
            ],
            "type": "histogram2d"
           }
          ],
          "histogram2dcontour": [
           {
            "colorbar": {
             "outlinewidth": 0,
             "ticks": ""
            },
            "colorscale": [
             [
              0,
              "#0d0887"
             ],
             [
              0.1111111111111111,
              "#46039f"
             ],
             [
              0.2222222222222222,
              "#7201a8"
             ],
             [
              0.3333333333333333,
              "#9c179e"
             ],
             [
              0.4444444444444444,
              "#bd3786"
             ],
             [
              0.5555555555555556,
              "#d8576b"
             ],
             [
              0.6666666666666666,
              "#ed7953"
             ],
             [
              0.7777777777777778,
              "#fb9f3a"
             ],
             [
              0.8888888888888888,
              "#fdca26"
             ],
             [
              1,
              "#f0f921"
             ]
            ],
            "type": "histogram2dcontour"
           }
          ],
          "mesh3d": [
           {
            "colorbar": {
             "outlinewidth": 0,
             "ticks": ""
            },
            "type": "mesh3d"
           }
          ],
          "parcoords": [
           {
            "line": {
             "colorbar": {
              "outlinewidth": 0,
              "ticks": ""
             }
            },
            "type": "parcoords"
           }
          ],
          "pie": [
           {
            "automargin": true,
            "type": "pie"
           }
          ],
          "scatter": [
           {
            "marker": {
             "colorbar": {
              "outlinewidth": 0,
              "ticks": ""
             }
            },
            "type": "scatter"
           }
          ],
          "scatter3d": [
           {
            "line": {
             "colorbar": {
              "outlinewidth": 0,
              "ticks": ""
             }
            },
            "marker": {
             "colorbar": {
              "outlinewidth": 0,
              "ticks": ""
             }
            },
            "type": "scatter3d"
           }
          ],
          "scattercarpet": [
           {
            "marker": {
             "colorbar": {
              "outlinewidth": 0,
              "ticks": ""
             }
            },
            "type": "scattercarpet"
           }
          ],
          "scattergeo": [
           {
            "marker": {
             "colorbar": {
              "outlinewidth": 0,
              "ticks": ""
             }
            },
            "type": "scattergeo"
           }
          ],
          "scattergl": [
           {
            "marker": {
             "colorbar": {
              "outlinewidth": 0,
              "ticks": ""
             }
            },
            "type": "scattergl"
           }
          ],
          "scattermapbox": [
           {
            "marker": {
             "colorbar": {
              "outlinewidth": 0,
              "ticks": ""
             }
            },
            "type": "scattermapbox"
           }
          ],
          "scatterpolar": [
           {
            "marker": {
             "colorbar": {
              "outlinewidth": 0,
              "ticks": ""
             }
            },
            "type": "scatterpolar"
           }
          ],
          "scatterpolargl": [
           {
            "marker": {
             "colorbar": {
              "outlinewidth": 0,
              "ticks": ""
             }
            },
            "type": "scatterpolargl"
           }
          ],
          "scatterternary": [
           {
            "marker": {
             "colorbar": {
              "outlinewidth": 0,
              "ticks": ""
             }
            },
            "type": "scatterternary"
           }
          ],
          "surface": [
           {
            "colorbar": {
             "outlinewidth": 0,
             "ticks": ""
            },
            "colorscale": [
             [
              0,
              "#0d0887"
             ],
             [
              0.1111111111111111,
              "#46039f"
             ],
             [
              0.2222222222222222,
              "#7201a8"
             ],
             [
              0.3333333333333333,
              "#9c179e"
             ],
             [
              0.4444444444444444,
              "#bd3786"
             ],
             [
              0.5555555555555556,
              "#d8576b"
             ],
             [
              0.6666666666666666,
              "#ed7953"
             ],
             [
              0.7777777777777778,
              "#fb9f3a"
             ],
             [
              0.8888888888888888,
              "#fdca26"
             ],
             [
              1,
              "#f0f921"
             ]
            ],
            "type": "surface"
           }
          ],
          "table": [
           {
            "cells": {
             "fill": {
              "color": "#EBF0F8"
             },
             "line": {
              "color": "white"
             }
            },
            "header": {
             "fill": {
              "color": "#C8D4E3"
             },
             "line": {
              "color": "white"
             }
            },
            "type": "table"
           }
          ]
         },
         "layout": {
          "annotationdefaults": {
           "arrowcolor": "#2a3f5f",
           "arrowhead": 0,
           "arrowwidth": 1
          },
          "autotypenumbers": "strict",
          "coloraxis": {
           "colorbar": {
            "outlinewidth": 0,
            "ticks": ""
           }
          },
          "colorscale": {
           "diverging": [
            [
             0,
             "#8e0152"
            ],
            [
             0.1,
             "#c51b7d"
            ],
            [
             0.2,
             "#de77ae"
            ],
            [
             0.3,
             "#f1b6da"
            ],
            [
             0.4,
             "#fde0ef"
            ],
            [
             0.5,
             "#f7f7f7"
            ],
            [
             0.6,
             "#e6f5d0"
            ],
            [
             0.7,
             "#b8e186"
            ],
            [
             0.8,
             "#7fbc41"
            ],
            [
             0.9,
             "#4d9221"
            ],
            [
             1,
             "#276419"
            ]
           ],
           "sequential": [
            [
             0,
             "#0d0887"
            ],
            [
             0.1111111111111111,
             "#46039f"
            ],
            [
             0.2222222222222222,
             "#7201a8"
            ],
            [
             0.3333333333333333,
             "#9c179e"
            ],
            [
             0.4444444444444444,
             "#bd3786"
            ],
            [
             0.5555555555555556,
             "#d8576b"
            ],
            [
             0.6666666666666666,
             "#ed7953"
            ],
            [
             0.7777777777777778,
             "#fb9f3a"
            ],
            [
             0.8888888888888888,
             "#fdca26"
            ],
            [
             1,
             "#f0f921"
            ]
           ],
           "sequentialminus": [
            [
             0,
             "#0d0887"
            ],
            [
             0.1111111111111111,
             "#46039f"
            ],
            [
             0.2222222222222222,
             "#7201a8"
            ],
            [
             0.3333333333333333,
             "#9c179e"
            ],
            [
             0.4444444444444444,
             "#bd3786"
            ],
            [
             0.5555555555555556,
             "#d8576b"
            ],
            [
             0.6666666666666666,
             "#ed7953"
            ],
            [
             0.7777777777777778,
             "#fb9f3a"
            ],
            [
             0.8888888888888888,
             "#fdca26"
            ],
            [
             1,
             "#f0f921"
            ]
           ]
          },
          "colorway": [
           "#636efa",
           "#EF553B",
           "#00cc96",
           "#ab63fa",
           "#FFA15A",
           "#19d3f3",
           "#FF6692",
           "#B6E880",
           "#FF97FF",
           "#FECB52"
          ],
          "font": {
           "color": "#2a3f5f"
          },
          "geo": {
           "bgcolor": "white",
           "lakecolor": "white",
           "landcolor": "#E5ECF6",
           "showlakes": true,
           "showland": true,
           "subunitcolor": "white"
          },
          "hoverlabel": {
           "align": "left"
          },
          "hovermode": "closest",
          "mapbox": {
           "style": "light"
          },
          "paper_bgcolor": "white",
          "plot_bgcolor": "#E5ECF6",
          "polar": {
           "angularaxis": {
            "gridcolor": "white",
            "linecolor": "white",
            "ticks": ""
           },
           "bgcolor": "#E5ECF6",
           "radialaxis": {
            "gridcolor": "white",
            "linecolor": "white",
            "ticks": ""
           }
          },
          "scene": {
           "xaxis": {
            "backgroundcolor": "#E5ECF6",
            "gridcolor": "white",
            "gridwidth": 2,
            "linecolor": "white",
            "showbackground": true,
            "ticks": "",
            "zerolinecolor": "white"
           },
           "yaxis": {
            "backgroundcolor": "#E5ECF6",
            "gridcolor": "white",
            "gridwidth": 2,
            "linecolor": "white",
            "showbackground": true,
            "ticks": "",
            "zerolinecolor": "white"
           },
           "zaxis": {
            "backgroundcolor": "#E5ECF6",
            "gridcolor": "white",
            "gridwidth": 2,
            "linecolor": "white",
            "showbackground": true,
            "ticks": "",
            "zerolinecolor": "white"
           }
          },
          "shapedefaults": {
           "line": {
            "color": "#2a3f5f"
           }
          },
          "ternary": {
           "aaxis": {
            "gridcolor": "white",
            "linecolor": "white",
            "ticks": ""
           },
           "baxis": {
            "gridcolor": "white",
            "linecolor": "white",
            "ticks": ""
           },
           "bgcolor": "#E5ECF6",
           "caxis": {
            "gridcolor": "white",
            "linecolor": "white",
            "ticks": ""
           }
          },
          "title": {
           "x": 0.05
          },
          "xaxis": {
           "automargin": true,
           "gridcolor": "white",
           "linecolor": "white",
           "ticks": "",
           "title": {
            "standoff": 15
           },
           "zerolinecolor": "white",
           "zerolinewidth": 2
          },
          "yaxis": {
           "automargin": true,
           "gridcolor": "white",
           "linecolor": "white",
           "ticks": "",
           "title": {
            "standoff": 15
           },
           "zerolinecolor": "white",
           "zerolinewidth": 2
          }
         }
        },
        "title": {
         "font": {
          "color": "#4D5663"
         },
         "text": "Number resumes in each class"
        },
        "xaxis": {
         "gridcolor": "#E1E5ED",
         "showgrid": true,
         "tickfont": {
          "color": "#4D5663"
         },
         "title": {
          "font": {
           "color": "#4D5663"
          },
          "text": ""
         },
         "zerolinecolor": "#E1E5ED"
        },
        "yaxis": {
         "gridcolor": "#E1E5ED",
         "showgrid": true,
         "tickfont": {
          "color": "#4D5663"
         },
         "title": {
          "font": {
           "color": "#4D5663"
          },
          "text": "Number of Resumes"
         },
         "zerolinecolor": "#E1E5ED"
        }
       }
      },
      "text/html": [
       "<div>                            <div id=\"6b499575-2457-4a3c-9d9c-5f230daf2ee1\" class=\"plotly-graph-div\" style=\"height:525px; width:100%;\"></div>            <script type=\"text/javascript\">                require([\"plotly\"], function(Plotly) {                    window.PLOTLYENV=window.PLOTLYENV || {};\n",
       "                    window.PLOTLYENV.BASE_URL='https://plot.ly';                                    if (document.getElementById(\"6b499575-2457-4a3c-9d9c-5f230daf2ee1\")) {                    Plotly.newPlot(                        \"6b499575-2457-4a3c-9d9c-5f230daf2ee1\",                        [{\"marker\":{\"color\":\"rgba(255, 153, 51, 0.6)\",\"line\":{\"color\":\"rgba(255, 153, 51, 1.0)\",\"width\":1}},\"name\":\"class\",\"orientation\":\"v\",\"text\":\"\",\"x\":[\"BUSINESS-DEVELOPMENT\",\"INFORMATION-TECHNOLOGY\",\"ENGINEERING\",\"ADVOCATE\",\"CHEF\",\"ACCOUNTANT\",\"FINANCE\",\"FITNESS\",\"AVIATION\",\"SALES\",\"HEALTHCARE\",\"CONSULTANT\",\"BANKING\",\"CONSTRUCTION\",\"PUBLIC-RELATIONS\",\"HR\",\"DESIGNER\",\"ARTS\",\"TEACHER\",\"APPAREL\",\"DIGITAL-MEDIA\",\"AGRICULTURE\",\"AUTOMOBILE\",\"BPO\"],\"y\":[120,120,118,118,118,118,118,117,117,116,115,115,115,112,111,110,107,103,102,97,96,63,36,22],\"type\":\"bar\"}],                        {\"legend\":{\"bgcolor\":\"#F5F6F9\",\"font\":{\"color\":\"#4D5663\"}},\"paper_bgcolor\":\"#F5F6F9\",\"plot_bgcolor\":\"#F5F6F9\",\"template\":{\"data\":{\"barpolar\":[{\"marker\":{\"line\":{\"color\":\"#E5ECF6\",\"width\":0.5},\"pattern\":{\"fillmode\":\"overlay\",\"size\":10,\"solidity\":0.2}},\"type\":\"barpolar\"}],\"bar\":[{\"error_x\":{\"color\":\"#2a3f5f\"},\"error_y\":{\"color\":\"#2a3f5f\"},\"marker\":{\"line\":{\"color\":\"#E5ECF6\",\"width\":0.5},\"pattern\":{\"fillmode\":\"overlay\",\"size\":10,\"solidity\":0.2}},\"type\":\"bar\"}],\"carpet\":[{\"aaxis\":{\"endlinecolor\":\"#2a3f5f\",\"gridcolor\":\"white\",\"linecolor\":\"white\",\"minorgridcolor\":\"white\",\"startlinecolor\":\"#2a3f5f\"},\"baxis\":{\"endlinecolor\":\"#2a3f5f\",\"gridcolor\":\"white\",\"linecolor\":\"white\",\"minorgridcolor\":\"white\",\"startlinecolor\":\"#2a3f5f\"},\"type\":\"carpet\"}],\"choropleth\":[{\"colorbar\":{\"outlinewidth\":0,\"ticks\":\"\"},\"type\":\"choropleth\"}],\"contourcarpet\":[{\"colorbar\":{\"outlinewidth\":0,\"ticks\":\"\"},\"type\":\"contourcarpet\"}],\"contour\":[{\"colorbar\":{\"outlinewidth\":0,\"ticks\":\"\"},\"colorscale\":[[0.0,\"#0d0887\"],[0.1111111111111111,\"#46039f\"],[0.2222222222222222,\"#7201a8\"],[0.3333333333333333,\"#9c179e\"],[0.4444444444444444,\"#bd3786\"],[0.5555555555555556,\"#d8576b\"],[0.6666666666666666,\"#ed7953\"],[0.7777777777777778,\"#fb9f3a\"],[0.8888888888888888,\"#fdca26\"],[1.0,\"#f0f921\"]],\"type\":\"contour\"}],\"heatmapgl\":[{\"colorbar\":{\"outlinewidth\":0,\"ticks\":\"\"},\"colorscale\":[[0.0,\"#0d0887\"],[0.1111111111111111,\"#46039f\"],[0.2222222222222222,\"#7201a8\"],[0.3333333333333333,\"#9c179e\"],[0.4444444444444444,\"#bd3786\"],[0.5555555555555556,\"#d8576b\"],[0.6666666666666666,\"#ed7953\"],[0.7777777777777778,\"#fb9f3a\"],[0.8888888888888888,\"#fdca26\"],[1.0,\"#f0f921\"]],\"type\":\"heatmapgl\"}],\"heatmap\":[{\"colorbar\":{\"outlinewidth\":0,\"ticks\":\"\"},\"colorscale\":[[0.0,\"#0d0887\"],[0.1111111111111111,\"#46039f\"],[0.2222222222222222,\"#7201a8\"],[0.3333333333333333,\"#9c179e\"],[0.4444444444444444,\"#bd3786\"],[0.5555555555555556,\"#d8576b\"],[0.6666666666666666,\"#ed7953\"],[0.7777777777777778,\"#fb9f3a\"],[0.8888888888888888,\"#fdca26\"],[1.0,\"#f0f921\"]],\"type\":\"heatmap\"}],\"histogram2dcontour\":[{\"colorbar\":{\"outlinewidth\":0,\"ticks\":\"\"},\"colorscale\":[[0.0,\"#0d0887\"],[0.1111111111111111,\"#46039f\"],[0.2222222222222222,\"#7201a8\"],[0.3333333333333333,\"#9c179e\"],[0.4444444444444444,\"#bd3786\"],[0.5555555555555556,\"#d8576b\"],[0.6666666666666666,\"#ed7953\"],[0.7777777777777778,\"#fb9f3a\"],[0.8888888888888888,\"#fdca26\"],[1.0,\"#f0f921\"]],\"type\":\"histogram2dcontour\"}],\"histogram2d\":[{\"colorbar\":{\"outlinewidth\":0,\"ticks\":\"\"},\"colorscale\":[[0.0,\"#0d0887\"],[0.1111111111111111,\"#46039f\"],[0.2222222222222222,\"#7201a8\"],[0.3333333333333333,\"#9c179e\"],[0.4444444444444444,\"#bd3786\"],[0.5555555555555556,\"#d8576b\"],[0.6666666666666666,\"#ed7953\"],[0.7777777777777778,\"#fb9f3a\"],[0.8888888888888888,\"#fdca26\"],[1.0,\"#f0f921\"]],\"type\":\"histogram2d\"}],\"histogram\":[{\"marker\":{\"pattern\":{\"fillmode\":\"overlay\",\"size\":10,\"solidity\":0.2}},\"type\":\"histogram\"}],\"mesh3d\":[{\"colorbar\":{\"outlinewidth\":0,\"ticks\":\"\"},\"type\":\"mesh3d\"}],\"parcoords\":[{\"line\":{\"colorbar\":{\"outlinewidth\":0,\"ticks\":\"\"}},\"type\":\"parcoords\"}],\"pie\":[{\"automargin\":true,\"type\":\"pie\"}],\"scatter3d\":[{\"line\":{\"colorbar\":{\"outlinewidth\":0,\"ticks\":\"\"}},\"marker\":{\"colorbar\":{\"outlinewidth\":0,\"ticks\":\"\"}},\"type\":\"scatter3d\"}],\"scattercarpet\":[{\"marker\":{\"colorbar\":{\"outlinewidth\":0,\"ticks\":\"\"}},\"type\":\"scattercarpet\"}],\"scattergeo\":[{\"marker\":{\"colorbar\":{\"outlinewidth\":0,\"ticks\":\"\"}},\"type\":\"scattergeo\"}],\"scattergl\":[{\"marker\":{\"colorbar\":{\"outlinewidth\":0,\"ticks\":\"\"}},\"type\":\"scattergl\"}],\"scattermapbox\":[{\"marker\":{\"colorbar\":{\"outlinewidth\":0,\"ticks\":\"\"}},\"type\":\"scattermapbox\"}],\"scatterpolargl\":[{\"marker\":{\"colorbar\":{\"outlinewidth\":0,\"ticks\":\"\"}},\"type\":\"scatterpolargl\"}],\"scatterpolar\":[{\"marker\":{\"colorbar\":{\"outlinewidth\":0,\"ticks\":\"\"}},\"type\":\"scatterpolar\"}],\"scatter\":[{\"marker\":{\"colorbar\":{\"outlinewidth\":0,\"ticks\":\"\"}},\"type\":\"scatter\"}],\"scatterternary\":[{\"marker\":{\"colorbar\":{\"outlinewidth\":0,\"ticks\":\"\"}},\"type\":\"scatterternary\"}],\"surface\":[{\"colorbar\":{\"outlinewidth\":0,\"ticks\":\"\"},\"colorscale\":[[0.0,\"#0d0887\"],[0.1111111111111111,\"#46039f\"],[0.2222222222222222,\"#7201a8\"],[0.3333333333333333,\"#9c179e\"],[0.4444444444444444,\"#bd3786\"],[0.5555555555555556,\"#d8576b\"],[0.6666666666666666,\"#ed7953\"],[0.7777777777777778,\"#fb9f3a\"],[0.8888888888888888,\"#fdca26\"],[1.0,\"#f0f921\"]],\"type\":\"surface\"}],\"table\":[{\"cells\":{\"fill\":{\"color\":\"#EBF0F8\"},\"line\":{\"color\":\"white\"}},\"header\":{\"fill\":{\"color\":\"#C8D4E3\"},\"line\":{\"color\":\"white\"}},\"type\":\"table\"}]},\"layout\":{\"annotationdefaults\":{\"arrowcolor\":\"#2a3f5f\",\"arrowhead\":0,\"arrowwidth\":1},\"autotypenumbers\":\"strict\",\"coloraxis\":{\"colorbar\":{\"outlinewidth\":0,\"ticks\":\"\"}},\"colorscale\":{\"diverging\":[[0,\"#8e0152\"],[0.1,\"#c51b7d\"],[0.2,\"#de77ae\"],[0.3,\"#f1b6da\"],[0.4,\"#fde0ef\"],[0.5,\"#f7f7f7\"],[0.6,\"#e6f5d0\"],[0.7,\"#b8e186\"],[0.8,\"#7fbc41\"],[0.9,\"#4d9221\"],[1,\"#276419\"]],\"sequential\":[[0.0,\"#0d0887\"],[0.1111111111111111,\"#46039f\"],[0.2222222222222222,\"#7201a8\"],[0.3333333333333333,\"#9c179e\"],[0.4444444444444444,\"#bd3786\"],[0.5555555555555556,\"#d8576b\"],[0.6666666666666666,\"#ed7953\"],[0.7777777777777778,\"#fb9f3a\"],[0.8888888888888888,\"#fdca26\"],[1.0,\"#f0f921\"]],\"sequentialminus\":[[0.0,\"#0d0887\"],[0.1111111111111111,\"#46039f\"],[0.2222222222222222,\"#7201a8\"],[0.3333333333333333,\"#9c179e\"],[0.4444444444444444,\"#bd3786\"],[0.5555555555555556,\"#d8576b\"],[0.6666666666666666,\"#ed7953\"],[0.7777777777777778,\"#fb9f3a\"],[0.8888888888888888,\"#fdca26\"],[1.0,\"#f0f921\"]]},\"colorway\":[\"#636efa\",\"#EF553B\",\"#00cc96\",\"#ab63fa\",\"#FFA15A\",\"#19d3f3\",\"#FF6692\",\"#B6E880\",\"#FF97FF\",\"#FECB52\"],\"font\":{\"color\":\"#2a3f5f\"},\"geo\":{\"bgcolor\":\"white\",\"lakecolor\":\"white\",\"landcolor\":\"#E5ECF6\",\"showlakes\":true,\"showland\":true,\"subunitcolor\":\"white\"},\"hoverlabel\":{\"align\":\"left\"},\"hovermode\":\"closest\",\"mapbox\":{\"style\":\"light\"},\"paper_bgcolor\":\"white\",\"plot_bgcolor\":\"#E5ECF6\",\"polar\":{\"angularaxis\":{\"gridcolor\":\"white\",\"linecolor\":\"white\",\"ticks\":\"\"},\"bgcolor\":\"#E5ECF6\",\"radialaxis\":{\"gridcolor\":\"white\",\"linecolor\":\"white\",\"ticks\":\"\"}},\"scene\":{\"xaxis\":{\"backgroundcolor\":\"#E5ECF6\",\"gridcolor\":\"white\",\"gridwidth\":2,\"linecolor\":\"white\",\"showbackground\":true,\"ticks\":\"\",\"zerolinecolor\":\"white\"},\"yaxis\":{\"backgroundcolor\":\"#E5ECF6\",\"gridcolor\":\"white\",\"gridwidth\":2,\"linecolor\":\"white\",\"showbackground\":true,\"ticks\":\"\",\"zerolinecolor\":\"white\"},\"zaxis\":{\"backgroundcolor\":\"#E5ECF6\",\"gridcolor\":\"white\",\"gridwidth\":2,\"linecolor\":\"white\",\"showbackground\":true,\"ticks\":\"\",\"zerolinecolor\":\"white\"}},\"shapedefaults\":{\"line\":{\"color\":\"#2a3f5f\"}},\"ternary\":{\"aaxis\":{\"gridcolor\":\"white\",\"linecolor\":\"white\",\"ticks\":\"\"},\"baxis\":{\"gridcolor\":\"white\",\"linecolor\":\"white\",\"ticks\":\"\"},\"bgcolor\":\"#E5ECF6\",\"caxis\":{\"gridcolor\":\"white\",\"linecolor\":\"white\",\"ticks\":\"\"}},\"title\":{\"x\":0.05},\"xaxis\":{\"automargin\":true,\"gridcolor\":\"white\",\"linecolor\":\"white\",\"ticks\":\"\",\"title\":{\"standoff\":15},\"zerolinecolor\":\"white\",\"zerolinewidth\":2},\"yaxis\":{\"automargin\":true,\"gridcolor\":\"white\",\"linecolor\":\"white\",\"ticks\":\"\",\"title\":{\"standoff\":15},\"zerolinecolor\":\"white\",\"zerolinewidth\":2}}},\"title\":{\"font\":{\"color\":\"#4D5663\"},\"text\":\"Number resumes in each class\"},\"xaxis\":{\"gridcolor\":\"#E1E5ED\",\"showgrid\":true,\"tickfont\":{\"color\":\"#4D5663\"},\"title\":{\"font\":{\"color\":\"#4D5663\"},\"text\":\"\"},\"zerolinecolor\":\"#E1E5ED\"},\"yaxis\":{\"gridcolor\":\"#E1E5ED\",\"showgrid\":true,\"tickfont\":{\"color\":\"#4D5663\"},\"title\":{\"font\":{\"color\":\"#4D5663\"},\"text\":\"Number of Resumes\"},\"zerolinecolor\":\"#E1E5ED\"}},                        {\"showLink\": true, \"linkText\": \"Export to plot.ly\", \"plotlyServerURL\": \"https://plot.ly\", \"responsive\": true}                    ).then(function(){\n",
       "                            \n",
       "var gd = document.getElementById('6b499575-2457-4a3c-9d9c-5f230daf2ee1');\n",
       "var x = new MutationObserver(function (mutations, observer) {{\n",
       "        var display = window.getComputedStyle(gd).display;\n",
       "        if (!display || display === 'none') {{\n",
       "            console.log([gd, 'removed!']);\n",
       "            Plotly.purge(gd);\n",
       "            observer.disconnect();\n",
       "        }}\n",
       "}});\n",
       "\n",
       "// Listen for the removal of the full notebook cells\n",
       "var notebookContainer = gd.closest('#notebook-container');\n",
       "if (notebookContainer) {{\n",
       "    x.observe(notebookContainer, {childList: true});\n",
       "}}\n",
       "\n",
       "// Listen for the clearing of the current output cell\n",
       "var outputEl = gd.closest('.output');\n",
       "if (outputEl) {{\n",
       "    x.observe(outputEl, {childList: true});\n",
       "}}\n",
       "\n",
       "                        })                };                });            </script>        </div>"
      ]
     },
     "metadata": {},
     "output_type": "display_data"
    }
   ],
   "source": [
    "df_base['class'].value_counts().sort_values(ascending=False).iplot(kind='bar', yTitle='Number of Resumes', \n",
    "                                                                title='Number resumes in each class')"
   ]
  },
  {
   "cell_type": "code",
   "execution_count": 5,
   "id": "b65620bf",
   "metadata": {},
   "outputs": [],
   "source": [
    "def print_plot(index):\n",
    "    example = df[df.index == index][['text', 'class']].values[0]\n",
    "    if len(example) > 0:\n",
    "        print(example[0])\n",
    "        print('Class:', example[1])"
   ]
  },
  {
   "cell_type": "code",
   "execution_count": 6,
   "id": "6989ee04",
   "metadata": {},
   "outputs": [
    {
     "name": "stdout",
     "output_type": "stream",
     "text": [
      "fit traineerecr manag intern accomplish volunt newman share food pantri collect nonperish food item lowincom student famili develop profession skill attend profession develop workshop such career fair prepar commun instruct career center profession rauner famili ymca recruit volunt manag ticket halloween fair volunt hour over cours year school program account child age dure activ profession summari experienc sale employe skill event plan microsoft excel custom servic microsoft word microsoft offic strong sale profession with bachelor degre focus recreat sport tourism from univers illinoi urbanachampaign with dean list jame scholar recognit skill excel intermedi microsoft word intermedi powerpoint intermedi data manag team leadership selfmotiv extrem organ staff develop project manag team liaison work histori fit traineerecr manag intern compani name citi state januari current research plan exercis option fitgam identifi creat busi contact updat social medium account with weekli post implement strategi approv owner busi growth research assist compani name citi state februari current code data from survey onto option databas analyz data find correl among survey respons creat graph chart display find write research report find student lead supervisor compani name citi state current creat monthli schedul student employe creat assign daili task student employe keep track personnel dure shift record note weekli meet intern compani name citi state septemb decemb research costeffect market strategi manag multipl social medium account daili increas brand awar front desk process membership payment student employe compani name citi state februari oper cash regist process over transact credit daili stock back stock merchandis maintain inventori orderli greet custom answer question person over phone order provid excel custom servic research assist compani name citi state octob creat code book order ea data enter process clean data order creat hypothesi from result found facilit group four conduct externalintern swot analysi program present find annual research symposium season sale employe compani name citi state decemb januari provid qualiti custom servic respond custom need assist question concern daili conduct over transact cash credit daili issu govern standard lotto transact cash file report make daili deposit store profit order open close store oper regist tutor compani name citi state septemb decemb advis elementari student address math read concern supervis child between age group read math orient activ motiv child continu their educ provid posit comment their progress person inform coordin group toward develop famili game night program famili urbana earli childhood school creat excel sheet organ member avail keep track resourc need program direct famili through activ station provid them with meal order enrich their experi program educ bachelor scienc recreat sport tourism tourism univers illinoi champaign citi state recreat sport tourism tourism dean list student jame scholar certif excel acknowledg except academ achiev administr leisur servic coach strategi commun recreat sport tourism contemporari issu cultur tourism diver recreat sport tourism econom statist facil manag human resourc manag leadership recreat sport tourism tourism plan leisur program leisur consum cultur market recreat sport tourism macroeconom principl interest illinoi governor confer travel tourism attend session given erik qualman wildman johnni cupcak earl other about recent topic relat tourism contribut team build exercis with convent visitor bureau champaign team urbana earli childhood school languag spanish basicpolit skill basic book cash regist chart coach credit custom servic excel custom servic custom servic databas facil manag govern graph human resourc manag maintain inventori leadership note market strategi market math excel powerpoint microsoft word personnel profit program progress qualiti research spanish statist survey symposium phone addit inform award magnetar youth invest academi chicago recipi nonrenew stock portfolio competit award magnetar youth invest academi chicago recipi nonrenew stock portfolio competit scholarship creat maintain simul stock portfolio with highest return over win competit between individu that particip from school interest illinoi governor confer travel tourism attend session given erik qualman wildman johnni cupcak earl other about recent topic relat tourism contribut team build exercis with convent visitor bureau champaign team urbana earli childhood school coordin group toward develop famili game night program famili urbana earli childhood school creat excel sheet organ member avail keep track resourc need program direct famili through activ station provid them with meal order enrich their experi program\n",
      "Class: FITNESS\n"
     ]
    }
   ],
   "source": [
    "print_plot(10)"
   ]
  },
  {
   "cell_type": "code",
   "execution_count": 7,
   "id": "ee405d3d",
   "metadata": {},
   "outputs": [],
   "source": [
    "df = df.reset_index(drop=True)\n",
    "REPLACE_BY_SPACE_RE = re.compile('[/(){}\\[\\]\\|@,;]')\n",
    "BAD_SYMBOLS_RE = re.compile('[^0-9a-z #+_]')\n",
    "STOPWORDS = set(stopwords.words('english'))\n",
    "\n",
    "def clean_text(text):\n",
    "    \"\"\"\n",
    "        text: a string\n",
    "        \n",
    "        return: modified initial string\n",
    "    \"\"\"\n",
    "    text = text.lower() # lowercase text\n",
    "    text = REPLACE_BY_SPACE_RE.sub(' ', text) # replace REPLACE_BY_SPACE_RE symbols by space in text. substitute the matched string in REPLACE_BY_SPACE_RE with space.\n",
    "    text = BAD_SYMBOLS_RE.sub('', text) # remove symbols which are in BAD_SYMBOLS_RE from text. substitute the matched string in BAD_SYMBOLS_RE with nothing. \n",
    "    text = text.replace('x', '')\n",
    "#    text = re.sub(r'\\W+', '', text)\n",
    "    text = ' '.join(word for word in text.split() if word not in STOPWORDS) # remove stopwors from text\n",
    "    return text\n",
    "df['text'] = df['text'].apply(clean_text)"
   ]
  },
  {
   "cell_type": "code",
   "execution_count": 8,
   "id": "12cfbe4e",
   "metadata": {},
   "outputs": [],
   "source": [
    "df['text'] = df['text'].str.replace('\\d+', '')"
   ]
  },
  {
   "cell_type": "code",
   "execution_count": 9,
   "id": "4807d310",
   "metadata": {},
   "outputs": [
    {
     "name": "stdout",
     "output_type": "stream",
     "text": [
      "fit traineerecr manag intern accomplish volunt newman share food pantri collect nonperish food item lowincom student famili develop profession skill attend profession develop workshop career fair prepar commun instruct career center profession rauner famili ymca recruit volunt manag ticket halloween fair volunt hour cours year school program account child age dure activ profession summari eperienc sale employe skill event plan microsoft ecel custom servic microsoft word microsoft offic strong sale profession bachelor degre focus recreat sport tourism univers illinoi urbanachampaign dean list jame scholar recognit skill ecel intermedi microsoft word intermedi powerpoint intermedi data manag team leadership selfmotiv etrem organ staff develop project manag team liaison work histori fit traineerecr manag intern compani name citi state januari current research plan eercis option fitgam identifi creat busi contact updat social medium account weekli post implement strategi approv owner busi growth research assist compani name citi state februari current code data survey onto option databas analyz data find correl among survey respons creat graph chart display find write research report find student lead supervisor compani name citi state current creat monthli schedul student employe creat assign daili task student employe keep track personnel dure shift record note weekli meet intern compani name citi state septemb decemb research costeffect market strategi manag multipl social medium account daili increas brand awar front desk process membership payment student employe compani name citi state februari oper cash regist process transact credit daili stock back stock merchandis maintain inventori orderli greet custom answer question person phone order provid ecel custom servic research assist compani name citi state octob creat code book order ea data enter process clean data order creat hypothesi result found facilit group four conduct eternalintern swot analysi program present find annual research symposium season sale employe compani name citi state decemb januari provid qualiti custom servic respond custom need assist question concern daili conduct transact cash credit daili issu govern standard lotto transact cash file report make daili deposit store profit order open close store oper regist tutor compani name citi state septemb decemb advis elementari student address math read concern supervis child age group read math orient activ motiv child continu educ provid posit comment progress person inform coordin group toward develop famili game night program famili urbana earli childhood school creat ecel sheet organ member avail keep track resourc need program direct famili activ station provid meal order enrich eperi program educ bachelor scienc recreat sport tourism tourism univers illinoi champaign citi state recreat sport tourism tourism dean list student jame scholar certif ecel acknowledg ecept academ achiev administr leisur servic coach strategi commun recreat sport tourism contemporari issu cultur tourism diver recreat sport tourism econom statist facil manag human resourc manag leadership recreat sport tourism tourism plan leisur program leisur consum cultur market recreat sport tourism macroeconom principl interest illinoi governor confer travel tourism attend session given erik qualman wildman johnni cupcak earl recent topic relat tourism contribut team build eercis convent visitor bureau champaign team urbana earli childhood school languag spanish basicpolit skill basic book cash regist chart coach credit custom servic ecel custom servic custom servic databas facil manag govern graph human resourc manag maintain inventori leadership note market strategi market math ecel powerpoint microsoft word personnel profit program progress qualiti research spanish statist survey symposium phone addit inform award magnetar youth invest academi chicago recipi nonrenew stock portfolio competit award magnetar youth invest academi chicago recipi nonrenew stock portfolio competit scholarship creat maintain simul stock portfolio highest return win competit individu particip school interest illinoi governor confer travel tourism attend session given erik qualman wildman johnni cupcak earl recent topic relat tourism contribut team build eercis convent visitor bureau champaign team urbana earli childhood school coordin group toward develop famili game night program famili urbana earli childhood school creat ecel sheet organ member avail keep track resourc need program direct famili activ station provid meal order enrich eperi program\n",
      "Class: FITNESS\n"
     ]
    }
   ],
   "source": [
    "print_plot(10)"
   ]
  },
  {
   "cell_type": "code",
   "execution_count": 10,
   "id": "fee7ada5",
   "metadata": {},
   "outputs": [
    {
     "name": "stdout",
     "output_type": "stream",
     "text": [
      "Found 34985 unique tokens.\n"
     ]
    }
   ],
   "source": [
    "# The maximum number of words to be used. (most frequent)\n",
    "MAX_NB_WORDS = 100000\n",
    "# Max number of words in each complaint.\n",
    "MAX_SEQUENCE_LENGTH = 1000\n",
    "# This is fixed.\n",
    "EMBEDDING_DIM = 80\n",
    "\n",
    "tokenizer = Tokenizer(num_words=MAX_NB_WORDS, filters='!\"#$%&()*+,-./:;<=>?@[\\]^_`{|}~', lower=True)\n",
    "tokenizer.fit_on_texts(df['text'].values)\n",
    "word_index = tokenizer.word_index\n",
    "print('Found %s unique tokens.' % len(word_index))"
   ]
  },
  {
   "cell_type": "code",
   "execution_count": 11,
   "id": "c0241245",
   "metadata": {},
   "outputs": [
    {
     "name": "stdout",
     "output_type": "stream",
     "text": [
      "Shape of data tensor: (2484, 1000)\n"
     ]
    }
   ],
   "source": [
    "X = tokenizer.texts_to_sequences(df['text'].values)\n",
    "X = pad_sequences(X, maxlen=MAX_SEQUENCE_LENGTH)\n",
    "print('Shape of data tensor:', X.shape)"
   ]
  },
  {
   "cell_type": "code",
   "execution_count": 12,
   "id": "b542e614",
   "metadata": {},
   "outputs": [
    {
     "name": "stdout",
     "output_type": "stream",
     "text": [
      "Shape of label tensor: (2484, 24)\n"
     ]
    },
    {
     "data": {
      "text/plain": [
       "array([[0, 1, 0, ..., 0, 0, 0],\n",
       "       [0, 0, 0, ..., 0, 0, 0],\n",
       "       [0, 0, 0, ..., 0, 0, 0],\n",
       "       ...,\n",
       "       [0, 0, 0, ..., 0, 0, 0],\n",
       "       [0, 0, 0, ..., 0, 0, 0],\n",
       "       [0, 0, 0, ..., 0, 0, 0]], dtype=uint8)"
      ]
     },
     "execution_count": 12,
     "metadata": {},
     "output_type": "execute_result"
    }
   ],
   "source": [
    "Y = pd.get_dummies(df['class']).values\n",
    "print('Shape of label tensor:', Y.shape)\n",
    "Y"
   ]
  },
  {
   "cell_type": "code",
   "execution_count": 13,
   "id": "cb7812c3",
   "metadata": {},
   "outputs": [
    {
     "name": "stdout",
     "output_type": "stream",
     "text": [
      "(1987, 1000) (1987, 24)\n",
      "(497, 1000) (497, 24)\n"
     ]
    }
   ],
   "source": [
    "X_train, X_test, Y_train, Y_test = train_test_split(X,Y, test_size = 0.20, random_state = 42)\n",
    "print(X_train.shape,Y_train.shape)\n",
    "print(X_test.shape,Y_test.shape)"
   ]
  },
  {
   "cell_type": "code",
   "execution_count": 16,
   "id": "6c1ed55b",
   "metadata": {},
   "outputs": [
    {
     "name": "stdout",
     "output_type": "stream",
     "text": [
      "Model: \"sequential_2\"\n",
      "_________________________________________________________________\n",
      " Layer (type)                Output Shape              Param #   \n",
      "=================================================================\n",
      " embedding_2 (Embedding)     (None, 1000, 80)          8000000   \n",
      "                                                                 \n",
      " spatial_dropout1d_2 (Spatia  (None, 1000, 80)         0         \n",
      " lDropout1D)                                                     \n",
      "                                                                 \n",
      " lstm_3 (LSTM)               (None, 256)               345088    \n",
      "                                                                 \n",
      " dense_3 (Dense)             (None, 64)                16448     \n",
      "                                                                 \n",
      " dropout_1 (Dropout)         (None, 64)                0         \n",
      "                                                                 \n",
      " dense_4 (Dense)             (None, 32)                2080      \n",
      "                                                                 \n",
      " dense_5 (Dense)             (None, 24)                792       \n",
      "                                                                 \n",
      "=================================================================\n",
      "Total params: 8,364,408\n",
      "Trainable params: 8,364,408\n",
      "Non-trainable params: 0\n",
      "_________________________________________________________________\n",
      "None\n"
     ]
    }
   ],
   "source": [
    "model = Sequential()\n",
    "model.add(Embedding(MAX_NB_WORDS, EMBEDDING_DIM, input_length=X.shape[1]))\n",
    "model.add(SpatialDropout1D(0.1))\n",
    "model.add(LSTM(256, dropout=0.1, recurrent_dropout=0.1))\n",
    "model.add(Dense(64, activation=\"relu\"))\n",
    "model.add(Dropout(0.1))\n",
    "model.add(Dense(32, activation=\"relu\"))\n",
    "model.add(Dense(Y.shape[1], activation='softmax'))\n",
    "model.compile(loss='categorical_crossentropy', optimizer='adam', metrics=['accuracy'])\n",
    "print(model.summary())"
   ]
  },
  {
   "cell_type": "code",
   "execution_count": 17,
   "id": "518410d0",
   "metadata": {},
   "outputs": [
    {
     "name": "stdout",
     "output_type": "stream",
     "text": [
      "Epoch 1/40\n",
      "7/7 [==============================] - 71s 6s/step - loss: 3.1766 - accuracy: 0.0414 - val_loss: 3.1776 - val_accuracy: 0.0201\n",
      "Epoch 2/40\n",
      "7/7 [==============================] - 41s 6s/step - loss: 3.1720 - accuracy: 0.0470 - val_loss: 3.1803 - val_accuracy: 0.0201\n",
      "Epoch 3/40\n",
      "7/7 [==============================] - 41s 6s/step - loss: 3.1599 - accuracy: 0.0710 - val_loss: 3.1716 - val_accuracy: 0.0352\n",
      "Epoch 4/40\n",
      "7/7 [==============================] - 41s 6s/step - loss: 3.1500 - accuracy: 0.0817 - val_loss: 3.1673 - val_accuracy: 0.0352\n",
      "Epoch 5/40\n",
      "7/7 [==============================] - 42s 6s/step - loss: 3.1168 - accuracy: 0.0671 - val_loss: 3.1415 - val_accuracy: 0.0251\n",
      "Epoch 6/40\n",
      "7/7 [==============================] - 41s 6s/step - loss: 3.1598 - accuracy: 0.0800 - val_loss: 3.1543 - val_accuracy: 0.0302\n",
      "Epoch 7/40\n",
      "7/7 [==============================] - 40s 6s/step - loss: 3.0997 - accuracy: 0.0621 - val_loss: 3.1560 - val_accuracy: 0.0352\n",
      "Epoch 8/40\n",
      "7/7 [==============================] - 40s 6s/step - loss: 3.0526 - accuracy: 0.1001 - val_loss: 3.1597 - val_accuracy: 0.0402\n",
      "Epoch 9/40\n",
      "7/7 [==============================] - 44s 6s/step - loss: 2.9989 - accuracy: 0.1365 - val_loss: 3.1239 - val_accuracy: 0.0603\n",
      "Epoch 10/40\n",
      "7/7 [==============================] - 42s 6s/step - loss: 2.9836 - accuracy: 0.1258 - val_loss: 3.0680 - val_accuracy: 0.1005\n",
      "Epoch 11/40\n",
      "7/7 [==============================] - 37s 5s/step - loss: 2.8826 - accuracy: 0.1309 - val_loss: 3.0054 - val_accuracy: 0.0955\n",
      "Epoch 12/40\n",
      "7/7 [==============================] - 39s 6s/step - loss: 2.8743 - accuracy: 0.1393 - val_loss: 3.0996 - val_accuracy: 0.0955\n",
      "Epoch 13/40\n",
      "7/7 [==============================] - 41s 6s/step - loss: 2.8201 - accuracy: 0.1751 - val_loss: 3.0365 - val_accuracy: 0.1357\n",
      "Epoch 14/40\n",
      "7/7 [==============================] - 41s 6s/step - loss: 2.7169 - accuracy: 0.2153 - val_loss: 2.9905 - val_accuracy: 0.1256\n",
      "Epoch 15/40\n",
      "7/7 [==============================] - 41s 6s/step - loss: 2.5703 - accuracy: 0.2718 - val_loss: 2.9702 - val_accuracy: 0.1457\n",
      "Epoch 16/40\n",
      "7/7 [==============================] - 41s 6s/step - loss: 2.4046 - accuracy: 0.3171 - val_loss: 2.9687 - val_accuracy: 0.1508\n",
      "Epoch 17/40\n",
      "7/7 [==============================] - 40s 6s/step - loss: 2.2001 - accuracy: 0.3412 - val_loss: 3.1191 - val_accuracy: 0.1457\n",
      "Epoch 18/40\n",
      "7/7 [==============================] - 41s 6s/step - loss: 2.0203 - accuracy: 0.3909 - val_loss: 3.1359 - val_accuracy: 0.1608\n",
      "Epoch 19/40\n",
      "7/7 [==============================] - 41s 6s/step - loss: 1.7868 - accuracy: 0.4653 - val_loss: 3.1081 - val_accuracy: 0.1608\n",
      "Epoch 20/40\n",
      "7/7 [==============================] - 40s 6s/step - loss: 1.5664 - accuracy: 0.5403 - val_loss: 3.2151 - val_accuracy: 0.1960\n"
     ]
    }
   ],
   "source": [
    "epochs = 40\n",
    "batch_size = 256\n",
    "\n",
    "history = model.fit(X_train, Y_train, \n",
    "                    epochs=epochs,\n",
    "                    batch_size=batch_size,\n",
    "                    validation_split=0.1,\n",
    "                    callbacks=[EarlyStopping(monitor='val_loss', patience=4, min_delta=0.001)])\n"
   ]
  },
  {
   "cell_type": "code",
   "execution_count": 18,
   "id": "74dc3b4e",
   "metadata": {},
   "outputs": [
    {
     "name": "stdout",
     "output_type": "stream",
     "text": [
      "16/16 [==============================] - 6s 389ms/step - loss: 3.0980 - accuracy: 0.2193\n",
      "Test set\n",
      "  Loss: 3.098\n",
      "  Accuracy: 0.219\n"
     ]
    }
   ],
   "source": [
    "accr = model.evaluate(X_test,Y_test)\n",
    "print('Test set\\n  Loss: {:0.3f}\\n  Accuracy: {:0.3f}'.format(accr[0],accr[1]))"
   ]
  },
  {
   "cell_type": "code",
   "execution_count": 19,
   "id": "add87b30",
   "metadata": {},
   "outputs": [
    {
     "data": {
      "image/png": "[encoded data removed]",
      "text/plain": [
       "<Figure size 432x288 with 1 Axes>"
      ]
     },
     "metadata": {
      "needs_background": "light"
     },
     "output_type": "display_data"
    }
   ],
   "source": [
    "plt.title('Loss')\n",
    "plt.plot(history.history['loss'], label='train')\n",
    "plt.plot(history.history['val_loss'], label='test')\n",
    "plt.legend()\n",
    "plt.show();"
   ]
  },
  {
   "cell_type": "code",
   "execution_count": 20,
   "id": "081363b4",
   "metadata": {},
   "outputs": [
    {
     "data": {
      "image/png": "[encoded data removed]",
      "text/plain": [
       "<Figure size 432x288 with 1 Axes>"
      ]
     },
     "metadata": {
      "needs_background": "light"
     },
     "output_type": "display_data"
    }
   ],
   "source": [
    "plt.title('Accuracy')\n",
    "plt.plot(history.history['accuracy'], label='train')\n",
    "plt.plot(history.history['val_accuracy'], label='test')\n",
    "plt.legend()\n",
    "plt.show();"
   ]
  },
  {
   "cell_type": "code",
   "execution_count": 21,
   "id": "0963f47c",
   "metadata": {},
   "outputs": [
    {
     "data": {
      "text/plain": [
       "'lea consult summari microsoft offic year sale year quickbook year perform manag year account year market research year market strategi year market commun year financi analysi year public relat year accomplish whom concern name vincent hall hate onesizefitsal approach busi when market doesnt feel like market peopl organ connect your messag youv birth movement gone day where individu root autonomi allow label lone wolf heroic conquer corpor ladder similarli busi entiti cannot surviv current global hypercompetit market through what call corpor isolation busi whether startup establish titan industri must alway find relev way connect commun with audienc interest busi start when friend stepfath told onli road success build through work creativ thi statement birth passion drive onli understand human behavior what motiv also mechan behind product posit what about product make appeal busi increas deliveri effici doe busi drive profit margin while drive down product cost conclus between experi account market research market strategi product posit market commun public relat believ thing first individu desir hing appeal present palat five sen within second le second product must serv custom need longer than next fade product other word product must withstand competitor product offer versatil util adapt option everi custom hope that commun skill along with experi market sale account will assist your compani profit product posit experi current lea consult compani name citi state greet assist screen prospect client collect demograph inform questionnair activ listen concern prospect client order offer consult regard product valu benefit function follow with prospect client within hour with followup call hour with email summari visit request return visit insur copi confidenti document regard applic process such bank social secur number govern issu safe secur within applic individu file screen prospect client accord establish compani polici follow with client within hour discus result creat insur outstand contract have captur time sensit signatur initi within hour approv market busi social medium facebook instagram twitter flyer vendor commun rotari mixer utacc record inform legibl with technic accuraci proofread spell number type error alphabet file maintain variou financi record arap prepar reconcil interpret analyz preliminari document lien bill payrol credit card purchas contract depart abil work unilater between variou depart relat purchas contract auditor control administr human resourc follow complex verbal written instruct while interoperatingtransl inform with peopl variou educ socioeconom background counselor compani name citi state assist client find medic hous nutrit educ career develop counti state assist program assist demonstr benefit nutrit diet regard psycholog physic health differ clientel demograph assist develop establish implement infrastructur necessari expand citizenri access organ food venu within impoverish commun through legisl subsid deliveri servic from local famer assist client with medic enrol reenrol procedur interpret medic code switch from medicaid public exchang profici microsoft offic word excel power outlook program demonstr knowledg correct spell grammat structur arithmet abil correctli translat document into spanish financ consult compani name citi state establish busi relationship presenc local chamber commerc rotari lion club work with small busi administr offic commerci lender secur loan credit line investor capit busi owner bank reconcili project cost project present bond insur requir multimillion contract citi state privat project oversight account payabl arap prepar expens trial balanc budget analysi report use quickbooksquicken regard payrol vendor sale invoic collect compani loanslien lea credit card account interact prepar with account with document ensur monthli quarterli yearend close deadlin creat project budget propos market sale depart monitor client establish client retent ratio creat best practic memorandum market sale depart monitor convers ratio onlin market vehicl conduct market survey captur clientel purchas attitud creat market plan base survey construct platform price elast brand recognit market product exposur educ train april associ busi market citi state busi market decemb associ busi administr colleg citi state busi administr skill account account payabl bank reconcili bank benefit bill budget analysi budget busi administr contract control convers credit clientel client client deliveri document email financi govern human resourc insur listen market plan market market sale access excel exchang microsoft offic offic outlook word onlin market payrol present propos purchas quickbook quicken sale spanish survey switch translat type written yearend addit inform kind regard vincent hall author work employ'"
      ]
     },
     "execution_count": 21,
     "metadata": {},
     "output_type": "execute_result"
    },
    {
     "data": {
      "text/plain": [
       "'CONSULTANT'"
      ]
     },
     "execution_count": 21,
     "metadata": {},
     "output_type": "execute_result"
    }
   ],
   "source": [
    "df_base[\"text\"].iloc[64]\n",
    "df_base[\"class\"].iloc[64]"
   ]
  },
  {
   "cell_type": "code",
   "execution_count": 30,
   "id": "7af9730f",
   "metadata": {},
   "outputs": [
    {
     "name": "stdout",
     "output_type": "stream",
     "text": [
      "[[7.4877381e-01 1.7639558e-04 4.7016842e-06 1.0557092e-03 3.6832738e-08\n",
      "  4.9293646e-07 5.2267056e-02 9.1910428e-05 4.2183765e-05 2.6683918e-07\n",
      "  2.9822933e-02 5.9605627e-05 5.3427060e-04 2.7402575e-07 1.3725490e-05\n",
      "  1.4284779e-03 5.5043489e-02 4.2797954e-05 8.2207343e-04 5.2451707e-02\n",
      "  2.5683954e-02 1.7037003e-07 3.1683918e-02 3.3764053e-08]] ADVOCATE\n"
     ]
    }
   ],
   "source": [
    "new_complaint = [df_base[\"text\"].iloc[607]]\n",
    "\n",
    "seq = tokenizer.texts_to_sequences(new_complaint)\n",
    "\n",
    "padded = pad_sequences(seq, maxlen=MAX_SEQUENCE_LENGTH)\n",
    "\n",
    "pred = model.predict(padded)\n",
    "\n",
    "labels = df_base[\"class\"].unique()\n",
    "print(pred, labels[np.argmax(pred)])"
   ]
  },
  {
   "cell_type": "code",
   "execution_count": 31,
   "id": "45e35a09",
   "metadata": {},
   "outputs": [
    {
     "name": "stdout",
     "output_type": "stream",
     "text": [
      "[[4.1834640e-04 1.3293457e-01 4.0235358e-05 1.5794879e-01 7.6461174e-06\n",
      "  5.2786246e-03 1.8400794e-01 3.8168255e-05 4.0194627e-05 9.1536655e-05\n",
      "  2.4310972e-01 9.8604560e-06 2.4137119e-04 9.1025129e-08 2.5132054e-05\n",
      "  1.9064646e-06 4.8997656e-02 4.2541613e-04 2.1074444e-01 6.2837957e-05\n",
      "  6.2346575e-04 3.8625279e-07 1.4951595e-02 5.0503825e-08]] HEALTHCARE\n"
     ]
    }
   ],
   "source": [
    "new_complaint = [\"software developer for ten year\"]\n",
    "\n",
    "seq = tokenizer.texts_to_sequences(new_complaint)\n",
    "\n",
    "padded = pad_sequences(seq, maxlen=MAX_SEQUENCE_LENGTH)\n",
    "\n",
    "pred = model.predict(padded)\n",
    "\n",
    "labels = df_base[\"class\"].unique()\n",
    "print(pred, labels[np.argmax(pred)])"
   ]
  },
  {
   "cell_type": "code",
   "execution_count": null,
   "id": "7b40c008",
   "metadata": {},
   "outputs": [],
   "source": []
  },
  {
   "cell_type": "code",
   "execution_count": null,
   "id": "8c2b50b9",
   "metadata": {},
   "outputs": [],
   "source": []
  },
  {
   "cell_type": "code",
   "execution_count": null,
   "id": "f73fdf07",
   "metadata": {},
   "outputs": [],
   "source": []
  },
  {
   "cell_type": "code",
   "execution_count": null,
   "id": "7d70acb1",
   "metadata": {},
   "outputs": [],
   "source": []
  }
 ],
 "metadata": {
  "kernelspec": {
   "display_name": "Python 3 (ipykernel)",
   "language": "python",
   "name": "python3"
  },
  "language_info": {
   "codemirror_mode": {
    "name": "ipython",
    "version": 3
   },
   "file_extension": ".py",
   "mimetype": "text/x-python",
   "name": "python",
   "nbconvert_exporter": "python",
   "pygments_lexer": "ipython3",
   "version": "3.7.10"
  }
 },
 "nbformat": 4,
 "nbformat_minor": 5
}

{
 "cells": [
  {
   "cell_type": "code",
   "execution_count": 1,
   "metadata": {
    "collapsed": true
   },
   "outputs": [],
   "source": [
    "import pandas as pd\n",
    "import numpy as np\n",
    "from gensim.models import Word2Vec\n",
    "import matplotlib.pyplot as plt\n",
    "%matplotlib inline\n",
    "\n",
    "from sklearn.metrics.pairwise import cosine_similarity"
   ]
  },
  {
   "cell_type": "code",
   "execution_count": 2,
   "outputs": [],
   "source": [
    "google_model = Word2Vec.load(\"../data/model_word2vec.bin\")"
   ],
   "metadata": {
    "collapsed": false,
    "pycharm": {
     "name": "#%%\n"
    }
   }
  },
  {
   "cell_type": "code",
   "execution_count": 3,
   "outputs": [
    {
     "data": {
      "text/plain": "[('autocad', 0.7432770729064941),\n ('photoshop', 0.7404437065124512),\n ('vmware', 0.7233696579933167),\n ('turbotax', 0.7154563069343567),\n ('unix', 0.6999496817588806),\n ('macintosh', 0.6942809820175171),\n ('matlab', 0.6902979016304016),\n ('oem', 0.6757484674453735),\n ('ibm', 0.6701933145523071),\n ('lightroom', 0.6684433817863464)]"
     },
     "execution_count": 3,
     "metadata": {},
     "output_type": "execute_result"
    }
   ],
   "source": [
    "google_model.wv.most_similar(positive=[\"microsoft\"])"
   ],
   "metadata": {
    "collapsed": false,
    "pycharm": {
     "name": "#%%\n"
    }
   }
  },
  {
   "cell_type": "code",
   "execution_count": 4,
   "outputs": [
    {
     "data": {
      "text/plain": "                                      _id  \\\n0    d59170ea-e3cf-41a3-982b-cf163efa2b4b   \n1    9a422a34-8db0-4734-ba35-1a4a0c81cfb3   \n2    892c1107-e5cc-4e18-bc90-d65408b4d166   \n3    b6536847-0bdc-42f2-bd3b-886dd14a7d73   \n4    85f31ffa-d926-4d73-ab37-a5df76b344e9   \n..                                    ...   \n295  ed4a8b72-b3ca-4930-a26f-7d682c2b1cda   \n296  27e57901-1b3f-481c-874e-58bfff82151c   \n297  aa9fd349-632f-4db0-902f-503ceb61d73a   \n298  a5e33855-779d-4cfa-b207-99c7cda7277b   \n299  ee38ce23-a978-48e5-b141-112c72fbc773   \n\n                                                  text                class  \\\n0    healthcar consult execut profil seminar medium...  estandar\\HEALTHCARE   \n1    labor career focu look entri level challeng no...    estandar\\AVIATION   \n2     holder summari highli organ effici multitask ...     estandar\\APPAREL   \n3     design summari seek posit respect compani all...    estandar\\DESIGNER   \n4    consult summari posit accountingregulatori ban...  estandar\\CONSULTANT   \n..                                                 ...                  ...   \n295  sale associ experi current sale associ compani...       estandar\\SALES   \n296  coownerexecut chef career focu perform driven ...        estandar\\CHEF   \n297  account summari profession account year fullra...  estandar\\ACCOUNTANT   \n298  director financ execut profil ambiti financ di...     estandar\\FINANCE   \n299   languag art grade teacher summari enthusiast ...        estandar\\ARTS   \n\n                                              raw_text  \n0    HEALTHCARE CONSULTANT\\nExecutive Profile\\nsemi...  \n1    LABORER\\nCareer Focus\\nLooking for an entry le...  \n2    KEY HOLDER\\nSummary\\nHighly organized efficien...  \n3    CAD DESIGNER\\nSummary\\n\\nSeeking a position wi...  \n4    CONSULTANT\\nSummary\\nPosition in Accounting/Re...  \n..                                                 ...  \n295  SALES ASSOCIATE\\nExperience\\n04/2016 to Curren...  \n296  CO-OWNER/EXECUTIVE CHEF\\nCareer Focus\\nPerform...  \n297  ACCOUNTANT II\\nSummary\\nA Professional Account...  \n298  DIRECTOR OF FINANCE\\nExecutive Profile\\nAmbiti...  \n299  6 - 8 LANGUAGE ARTS GRADE TEACHER\\nSummary\\n\\n...  \n\n[300 rows x 4 columns]",
      "text/html": "<div>\n<style scoped>\n    .dataframe tbody tr th:only-of-type {\n        vertical-align: middle;\n    }\n\n    .dataframe tbody tr th {\n        vertical-align: top;\n    }\n\n    .dataframe thead th {\n        text-align: right;\n    }\n</style>\n<table border=\"1\" class=\"dataframe\">\n  <thead>\n    <tr style=\"text-align: right;\">\n      <th></th>\n      <th>_id</th>\n      <th>text</th>\n      <th>class</th>\n      <th>raw_text</th>\n    </tr>\n  </thead>\n  <tbody>\n    <tr>\n      <th>0</th>\n      <td>d59170ea-e3cf-41a3-982b-cf163efa2b4b</td>\n      <td>healthcar consult execut profil seminar medium...</td>\n      <td>estandar\\HEALTHCARE</td>\n      <td>HEALTHCARE CONSULTANT\\nExecutive Profile\\nsemi...</td>\n    </tr>\n    <tr>\n      <th>1</th>\n      <td>9a422a34-8db0-4734-ba35-1a4a0c81cfb3</td>\n      <td>labor career focu look entri level challeng no...</td>\n      <td>estandar\\AVIATION</td>\n      <td>LABORER\\nCareer Focus\\nLooking for an entry le...</td>\n    </tr>\n    <tr>\n      <th>2</th>\n      <td>892c1107-e5cc-4e18-bc90-d65408b4d166</td>\n      <td>holder summari highli organ effici multitask ...</td>\n      <td>estandar\\APPAREL</td>\n      <td>KEY HOLDER\\nSummary\\nHighly organized efficien...</td>\n    </tr>\n    <tr>\n      <th>3</th>\n      <td>b6536847-0bdc-42f2-bd3b-886dd14a7d73</td>\n      <td>design summari seek posit respect compani all...</td>\n      <td>estandar\\DESIGNER</td>\n      <td>CAD DESIGNER\\nSummary\\n\\nSeeking a position wi...</td>\n    </tr>\n    <tr>\n      <th>4</th>\n      <td>85f31ffa-d926-4d73-ab37-a5df76b344e9</td>\n      <td>consult summari posit accountingregulatori ban...</td>\n      <td>estandar\\CONSULTANT</td>\n      <td>CONSULTANT\\nSummary\\nPosition in Accounting/Re...</td>\n    </tr>\n    <tr>\n      <th>...</th>\n      <td>...</td>\n      <td>...</td>\n      <td>...</td>\n      <td>...</td>\n    </tr>\n    <tr>\n      <th>295</th>\n      <td>ed4a8b72-b3ca-4930-a26f-7d682c2b1cda</td>\n      <td>sale associ experi current sale associ compani...</td>\n      <td>estandar\\SALES</td>\n      <td>SALES ASSOCIATE\\nExperience\\n04/2016 to Curren...</td>\n    </tr>\n    <tr>\n      <th>296</th>\n      <td>27e57901-1b3f-481c-874e-58bfff82151c</td>\n      <td>coownerexecut chef career focu perform driven ...</td>\n      <td>estandar\\CHEF</td>\n      <td>CO-OWNER/EXECUTIVE CHEF\\nCareer Focus\\nPerform...</td>\n    </tr>\n    <tr>\n      <th>297</th>\n      <td>aa9fd349-632f-4db0-902f-503ceb61d73a</td>\n      <td>account summari profession account year fullra...</td>\n      <td>estandar\\ACCOUNTANT</td>\n      <td>ACCOUNTANT II\\nSummary\\nA Professional Account...</td>\n    </tr>\n    <tr>\n      <th>298</th>\n      <td>a5e33855-779d-4cfa-b207-99c7cda7277b</td>\n      <td>director financ execut profil ambiti financ di...</td>\n      <td>estandar\\FINANCE</td>\n      <td>DIRECTOR OF FINANCE\\nExecutive Profile\\nAmbiti...</td>\n    </tr>\n    <tr>\n      <th>299</th>\n      <td>ee38ce23-a978-48e5-b141-112c72fbc773</td>\n      <td>languag art grade teacher summari enthusiast ...</td>\n      <td>estandar\\ARTS</td>\n      <td>6 - 8 LANGUAGE ARTS GRADE TEACHER\\nSummary\\n\\n...</td>\n    </tr>\n  </tbody>\n</table>\n<p>300 rows × 4 columns</p>\n</div>"
     },
     "execution_count": 4,
     "metadata": {},
     "output_type": "execute_result"
    }
   ],
   "source": [
    "file_dataframe = \"../data/recommender_resumes_train.pkl\"\n",
    "\n",
    "df = pd.read_pickle(file_dataframe)\n",
    "df.head(300)"
   ],
   "metadata": {
    "collapsed": false,
    "pycharm": {
     "name": "#%%\n"
    }
   }
  },
  {
   "cell_type": "code",
   "execution_count": 5,
   "outputs": [],
   "source": [
    "# Generate the average word2vec for the each book description\n",
    "\n",
    "def vectors(x):\n",
    "\n",
    "    # Creating a list for storing the vectors (description into vectors)\n",
    "    global word_embeddings\n",
    "    word_embeddings = []\n",
    "\n",
    "    # Reading the each book description\n",
    "    for line in df['text']:\n",
    "        avgword2vec = None\n",
    "        count = 0\n",
    "        for word in line.split():\n",
    "            if word in google_model.wv.key_to_index:\n",
    "                count += 1\n",
    "                if avgword2vec is None:\n",
    "                    avgword2vec = google_model.wv[word]\n",
    "                else:\n",
    "                    avgword2vec = avgword2vec + google_model.wv[word]\n",
    "\n",
    "        if avgword2vec is not None:\n",
    "            avgword2vec = avgword2vec / count\n",
    "\n",
    "            word_embeddings.append(avgword2vec)"
   ],
   "metadata": {
    "collapsed": false,
    "pycharm": {
     "name": "#%%\n"
    }
   }
  },
  {
   "cell_type": "code",
   "execution_count": 6,
   "outputs": [],
   "source": [
    "# Recommending the Top 5 similar books\n",
    "\n",
    "def recommendations(title):\n",
    "\n",
    "    # Calling the function vectors\n",
    "\n",
    "    vectors(df)\n",
    "\n",
    "    # finding cosine similarity for the vectors\n",
    "\n",
    "    cosine_similarities = cosine_similarity(word_embeddings, word_embeddings)\n",
    "\n",
    "    # taking the title and book image link and store in new data frame called books\n",
    "    books = df[['_id','raw_text']]\n",
    "    #Reverse mapping of the index\n",
    "    indices = pd.Series(df.index, index = df['_id'].values.astype('str')).drop_duplicates()\n",
    "\n",
    "    idx = indices[title]\n",
    "\n",
    "    #print(len(word_embeddings))\n",
    "    sim_scores = list(enumerate(cosine_similarities[idx]))\n",
    "    sim_scores = sorted(sim_scores, key = lambda x: x[1], reverse = True)\n",
    "    #print(sim_scores)\n",
    "    sim_scores = sim_scores[1:6] # DESDE 1 PARA OCULTAR LA OFERTA\n",
    "    book_indices = [i[0] for i in sim_scores]\n",
    "    scores_values = [i[1] for i in sim_scores]\n",
    "    recommend = books.iloc[book_indices]\n",
    "\n",
    "    output = []\n",
    "\n",
    "    countIndex = 0\n",
    "    for index, row in recommend.iterrows():\n",
    "\n",
    "        #print(row['title'] )\n",
    "        #print(scores_values[countIndex])\n",
    "\n",
    "        output.append([countIndex + 1, row['raw_text'] ,row['_id'] , scores_values[countIndex], index])\n",
    "\n",
    "        countIndex+=1\n",
    "\n",
    "\n",
    "        #response = requests.get(row['image_link'])\n",
    "        #img = Image.open(BytesIO(response.content))\n",
    "        #plt.figure()\n",
    "        #plt.imshow(img)\n",
    "        #plt.title(row['title'])\n",
    "\n",
    "    result = pd.DataFrame(output, columns=[\"rank\", \"common_texts\", \"title\", \"cosine_similarity\", \"index_df\"])\n",
    "\n",
    "    return result"
   ],
   "metadata": {
    "collapsed": false,
    "pycharm": {
     "name": "#%%\n"
    }
   }
  },
  {
   "cell_type": "code",
   "execution_count": 10,
   "outputs": [
    {
     "data": {
      "text/plain": "   rank                                       common_texts  \\\n0     1  HEALTHCARE\\nExecutive Profile\\nCynthia was als...   \n1     2  PREVENTATIVE HEALTHCARE INTERN\\nProfessional S...   \n2     3  PROGRAM MANAGER\\nHighlights\\n\\nMicrosoft Outlo...   \n3     4  HEALTH COACH\\n\\nwww.linkedin.com/in/caitlinmas...   \n4     5  DISABILITY ADVOCATE\\nProfessional Summary\\nDed...   \n\n                                  title  cosine_similarity  index_df  \n0  8bb2f260-b9df-44ea-a519-e1d692c7cca9           0.958835       251  \n1  ad427244-d92c-4b4b-a831-9c55ccc3859b           0.955878      1978  \n2  da518f69-b678-4543-bc42-a56fd4829f7b           0.953056        27  \n3  d88120cf-632c-41f1-9f0f-38815ac095a8           0.947463      2446  \n4  a8a997ef-ec8d-4245-a1e4-6935ebdbc187           0.945228       241  ",
      "text/html": "<div>\n<style scoped>\n    .dataframe tbody tr th:only-of-type {\n        vertical-align: middle;\n    }\n\n    .dataframe tbody tr th {\n        vertical-align: top;\n    }\n\n    .dataframe thead th {\n        text-align: right;\n    }\n</style>\n<table border=\"1\" class=\"dataframe\">\n  <thead>\n    <tr style=\"text-align: right;\">\n      <th></th>\n      <th>rank</th>\n      <th>common_texts</th>\n      <th>title</th>\n      <th>cosine_similarity</th>\n      <th>index_df</th>\n    </tr>\n  </thead>\n  <tbody>\n    <tr>\n      <th>0</th>\n      <td>1</td>\n      <td>HEALTHCARE\\nExecutive Profile\\nCynthia was als...</td>\n      <td>8bb2f260-b9df-44ea-a519-e1d692c7cca9</td>\n      <td>0.958835</td>\n      <td>251</td>\n    </tr>\n    <tr>\n      <th>1</th>\n      <td>2</td>\n      <td>PREVENTATIVE HEALTHCARE INTERN\\nProfessional S...</td>\n      <td>ad427244-d92c-4b4b-a831-9c55ccc3859b</td>\n      <td>0.955878</td>\n      <td>1978</td>\n    </tr>\n    <tr>\n      <th>2</th>\n      <td>3</td>\n      <td>PROGRAM MANAGER\\nHighlights\\n\\nMicrosoft Outlo...</td>\n      <td>da518f69-b678-4543-bc42-a56fd4829f7b</td>\n      <td>0.953056</td>\n      <td>27</td>\n    </tr>\n    <tr>\n      <th>3</th>\n      <td>4</td>\n      <td>HEALTH COACH\\n\\nwww.linkedin.com/in/caitlinmas...</td>\n      <td>d88120cf-632c-41f1-9f0f-38815ac095a8</td>\n      <td>0.947463</td>\n      <td>2446</td>\n    </tr>\n    <tr>\n      <th>4</th>\n      <td>5</td>\n      <td>DISABILITY ADVOCATE\\nProfessional Summary\\nDed...</td>\n      <td>a8a997ef-ec8d-4245-a1e4-6935ebdbc187</td>\n      <td>0.945228</td>\n      <td>241</td>\n    </tr>\n  </tbody>\n</table>\n</div>"
     },
     "execution_count": 10,
     "metadata": {},
     "output_type": "execute_result"
    }
   ],
   "source": [
    "result = recommendations(\"d59170ea-e3cf-41a3-982b-cf163efa2b4b\")\n",
    "result"
   ],
   "metadata": {
    "collapsed": false,
    "pycharm": {
     "name": "#%%\n"
    }
   }
  },
  {
   "cell_type": "code",
   "execution_count": 11,
   "outputs": [
    {
     "name": "stdout",
     "output_type": "stream",
     "text": [
      "HEALTHCARE\n",
      "Executive Profile\n",
      "Cynthia was also an instructor for the Cap Gemini Ernst & Young Global Regulatory Compliance Boot Camp where members of the CGE&Y\n",
      "Regulatory Compliance Team are immersed in global regulatory compliance, Good Manufacturing Practices, Good Clinical Practices, Good\n",
      "Laboratory Practices, CGE&Y validation tools and methodology. Working with the international workforce of CGE&Y, Cynthia was required to\n",
      "be flexible, sensitive and creative in her methods of teaching Cynthia's nursing career focus was in Pain Management, Emergency Nursing, Legal\n",
      "Nurse Consulting and Life Care Planning. She has traveled extensively throughout the U. S. and worldwide as a Health Care and Life Sciences\n",
      "Consultant for G Major Consulting, Cap Gemini Ernst & Young, Accenture, and Ness Technologies. While working in clinical nursing, Cynthia\n",
      "worked in acute, home care and long term care arenas. As a Case Manager and Life Care Planner Cynthia was an adjunct instructor for the\n",
      "University of Florida Rehabilitation Training Institute and authored and taught Life Care Planning and Aging in the Catastrophically Injured. As a\n",
      "Project manager for several Global Regulatory Compliance/Life Sciences teams, Glidewell has a strong background in communication skills. Her\n",
      "ability to work with people from various ethnic, cultural, and educational backgrounds has been key in her success as a Regulatory Compliance/\n",
      "Validation Systems manager. She has frequently been instrumental in the establishment and training of off shore call center personnel for specific\n",
      "projects in IT support situations. Her experience has given her in depth insight to the cultural nuances of different populations ranging from India to\n",
      "the elderly. Her writing background includes authoring a \"Life Care Planning in the Catastrophically Injured Aging\" for the University of Florida\n",
      "Rehabilitation Training Institute, Adverse Events Reporting for RN's for Abbott Laboratories, and numerous other educational materials for diverse\n",
      "audiences. She has been guest lecturer at numerous national conferences and events on subjects including Forensic Medicine, Nursing and Life\n",
      "Care Planning, Fitness and Aging, AIDS, Travel, and Real Estate.\n",
      "Core Accomplishments\n",
      "\n",
      "With the unique combination of working as a consultant in both the business and clinical areas of health care, Cynthia has worked tirelessly\n",
      "to achieve the highest levels of client satisfaction and outcomes through comprehensive client care, team development, educational training\n",
      "and delivery and telemedicine support programs.\n",
      "As a consultant for HELP Pain Medical Network, Cynthia developed and implemented their Remote Care Services Program.\n",
      "Not only did this require the development and roll out of the program but also the development and delivery of the training across the\n",
      "interdisciplinary providers.\n",
      "This program utilized in conjunction with the HELP Interdisciplinary Pain Rehabilitation Program (IPRP) fostered individual empowerment\n",
      "and independence by teaching and reinforcing principals learned in the IPRP.\n",
      "As a result in the Remote Care Services, clients were able to reduce and manage pain, reduce dependence on pain medication, increase\n",
      "their overall health perception and prevent relapse.\n",
      "Cynthia's work with HELP focused primarily on Workers Compensation clients.\n",
      "She worked extensively in the coordination of multiple carriers, applicant attorneys, patients and primary care providers to achieve positive\n",
      "outcomes for both the patient and the carrier.\n",
      "As Vice President of Operations for HELP, Cynthia continued to work with physicians and other providers, patients and carriers to develop\n",
      "an IT infrastructure to efficiently navigate the rapidly changing California Workers Compensation revisions.\n",
      "\n",
      "Professional Experience\n",
      "Healthcare \n",
      "May 2001 Company Name ï¼​ City , State\n",
      "\n",
      "Worked with major health care payers to develop their strategy and insure compliance with the Medicare Modernization Act.\n",
      "Managed and monitored state, Medicaid, Medicare and JCAHO standards and compliance for pharmaceutical infusion company, including\n",
      "application and adherence to GCP's, GLP's and GMP's in clean rooms and mixing rooms.\n",
      "Researched and aided in procurement of contracts with companies, hospice, home health companies and employer groups in accordance\n",
      "with state, federal, and insurance regulatory guidelines.\n",
      "Implemented new business process for monitoring billing, payer requirements and field compliance.\n",
      "Analyzed, designed and reorganized customer care call center for large Medicaid/Medicare HMO resulting in shorter hold times, fewer\n",
      "dropped and misdirected calls and more efficient triage between lay care coordinator and nurse liaison.\n",
      "Responsible for development of knowledge transfer methodology in health care call center to insure ongoing and consistent patient survey\n",
      "and assessment.\n",
      "Developed tools and decision tree to aid in patient assessment and triage Acted as clinical SME in Patient Care Coordination and Reporting\n",
      "System design and development.\n",
      "Developed, designed and implemented health care service provider facility audits in compliance with state and federal guidelines for large\n",
      "Medicaid/Medicare HMO.\n",
      "Designed, developed and implemented computerized data collection program for international post acute and long term care provider\n",
      "network.\n",
      "Strategic planning of large clinic occupational medicine department.\n",
      "Managed sales and clinical staff, tracked activity, analyzed results and revised sales plans as necessary.\n",
      "Responsible for customer satisfaction survey collection and analysis for care management company.\n",
      "Productivity analysis, budgeting, cost projection, product evaluation and new product development for large post acute care provider.\n",
      "Developed and implemented new marketing strategies including trade show presentations and guest lecturer engagements Created, edited\n",
      "and produced an educational tutorial computer manual for in house use and educational material for client and family teaching.\n",
      "Interface with the legal community and the court system, the insurance industry, employer groups, clients and physicians.\n",
      "Evaluate, analyze and render informed opinions on the delivery of health care and the resulting outcomes.\n",
      "Provide support in medically related litigation and other medical-legal matters in the following areas: personal injury; product liability; medical\n",
      "malpractice; toxic torts; workers' compensation; risk management; medical licensure investigation, and other applicable cases.\n",
      "\n",
      "\n",
      "\n",
      "Provide employer consultation on job modification, reasonable accommodation and ADA compliance.\n",
      "Life Sciences Planning, Design, and Implementation of corporate quality systems for multinational Pharmaceutical companies as directed by\n",
      "federal regulations.\n",
      "Validation Project Manager for multinational pharmaceutical company validation effort.\n",
      "Strategic plan included the implementation and validation of a system spanning 63 sites in 23 countries.\n",
      "Project included assessment, design and delivery of a validated system meeting the regulatory guidelines of the FDA, EMEA, ICH, and\n",
      "other local authorities.\n",
      "Research, development and delivery of manual and training program in pharmacoviligence and safety reporting.\n",
      "Design and development of the Global Regulatory Compliance Team within Cap Gemini Ernst & Young.\n",
      "This team is comprised of trained specialist focused on the issues of regulatory compliance and system validation within the pharmaceutical\n",
      "industry.\n",
      "Instructor Cap Gemini Ernst & Young Global Regulatory Compliance Boot Camp where members of the CGE&Y Regulatory Compliance\n",
      "Team are immersed in global regulatory compliance, Good Manufacturing Practices, Good Clinical Practices, Good Laboratory Practices,\n",
      "CGE&Y validation tools and methodology.\n",
      "\n",
      "Education\n",
      "Bachelor of Science : Nursing Western Governors University ï¼​ City , State Nursing\n",
      "Bachelor of Science John Brown University ï¼​ City , State GPA: Dean's List Dean's List\n",
      "Certificate in the Post-Graduate Course of Study, Life Care Planning for Advanced Catastrophic Case Management The University of Florida ï¼​\n",
      "City , State\n",
      "Associates Degree : Nursing University of Arkansas ï¼​ City , State Nursing\n",
      "Publications\n",
      "The Country, Its Culture, Its Children, Eastern European Lecture Series, University of Arkansas, Fort Smith, Fort Smith, AR, Fall 1998 One of\n",
      "Our Own, AIDS in The Work Place, Advinet, Inc., Fort Smith, AR, Spring 1993 Not In My Club, AIDS In the Volunteer Work Force, Boys\n",
      "and Girls Clubs of America Regional Conference, November, 1992, Little Rock, AR One of Our Own,AIDS in the Work Place Fort Smith\n",
      "Public School System, Fort Smith, Arkansas, Spring 1991 One of Our Own,AIDS in the Work Place Alma Public School System, Alma,\n",
      "Arkansas, Spring 1991 Early Detection: The Cure for Beast Cancer, Women's Health Care Series, American Cancer Society, presented in\n",
      "multiple locations, 1991 Worker's Compensation and Managed Care, River Cities Occupational Health Professionals Workshop, Fort Smith, AR,\n",
      "Fall 1990 Stress in the Work Place, Fort Smith Board of Realtors, Fort Smith, AR, December, 1989\n",
      "Skills\n",
      "ADA, billing, budgeting, business process, call center, consultation, contracts, client, clients, customer satisfaction, customer care, data collection,\n",
      "delivery, Forms, GCP, GLP, GMP, Instructor, insurance, lecturer, legal, litigation, Managing, marketing strategies, network, new product\n",
      "development, Next, presentations, procurement, quality, reporting, Research, risk management, safety, sales, strategy, Strategic, Strategic\n",
      "planning, System design, teaching, Validation\n",
      "Professional Affiliations\n",
      "Certified Disability Analyst and Fellow (ABDA #3718-97) American Board of Disability Analyst Fellow American Board of Forensic Examiners\n",
      "American Board of Forensic Nurses\n"
     ]
    }
   ],
   "source": [
    "print(df[\"raw_text\"].iloc[251])"
   ],
   "metadata": {
    "collapsed": false,
    "pycharm": {
     "name": "#%%\n"
    }
   }
  }
 ],
 "metadata": {
  "kernelspec": {
   "display_name": "Python 3",
   "language": "python",
   "name": "python3"
  },
  "language_info": {
   "codemirror_mode": {
    "name": "ipython",
    "version": 2
   },
   "file_extension": ".py",
   "mimetype": "text/x-python",
   "name": "python",
   "nbconvert_exporter": "python",
   "pygments_lexer": "ipython2",
   "version": "2.7.6"
  }
 },
 "nbformat": 4,
 "nbformat_minor": 0
}
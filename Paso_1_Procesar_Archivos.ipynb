{
 "cells": [
  {
   "cell_type": "code",
   "execution_count": 1,
   "id": "c5e2e382",
   "metadata": {},
   "outputs": [
    {
     "name": "stdout",
     "output_type": "stream",
     "text": [
      "Requirement already satisfied: pdf2image in /home/kguttas/anaconda3/envs/practica/lib/python3.7/site-packages (1.16.0)\r\n",
      "Requirement already satisfied: pillow in /home/kguttas/anaconda3/envs/practica/lib/python3.7/site-packages (from pdf2image) (8.4.0)\r\n"
     ]
    }
   ],
   "source": [
    "!pip install pdf2image"
   ]
  },
  {
   "cell_type": "code",
   "execution_count": 2,
   "id": "c03da04f",
   "metadata": {},
   "outputs": [],
   "source": [
    "from os import listdir\n",
    "from os.path import isfile, join\n",
    "\n",
    "from pdf2image import convert_from_path, convert_from_bytes\n",
    "from pdf2image.exceptions import (\n",
    "    PDFInfoNotInstalledError,\n",
    "    PDFPageCountError,\n",
    "    PDFSyntaxError\n",
    ")\n",
    "\n",
    "import tempfile\n",
    "\n",
    "import matplotlib.pyplot as plt\n",
    "import matplotlib.image as mpimg\n",
    "\n",
    "import os\n",
    "import shutil"
   ]
  },
  {
   "cell_type": "code",
   "execution_count": 3,
   "id": "47a3b3ca",
   "metadata": {},
   "outputs": [],
   "source": [
    "path_directory_resumes = \"data/resumes/pdf\"\n",
    "path_temp_folder = \"data/resumes/temp/\"\n",
    "path_output_temp_directory_resumes = \"data/resumes/temp/images_resumes\""
   ]
  },
  {
   "cell_type": "code",
   "execution_count": 4,
   "id": "034c2ba1",
   "metadata": {},
   "outputs": [],
   "source": [
    "#Eliminar carpetas temporales\n",
    "\n",
    "if os.path.exists(path_temp_folder):\n",
    "\n",
    "    shutil.rmtree(path_temp_folder)\n",
    "\n",
    "else:\n",
    "    # file not found message\n",
    "    print(\"File not found in the directory\")"
   ]
  },
  {
   "cell_type": "code",
   "execution_count": 5,
   "id": "c07babe9",
   "metadata": {},
   "outputs": [],
   "source": [
    "def get_files_in_directory(path_directory, extension):\n",
    "\n",
    "    onlyfiles = [f for f in listdir(path_directory) if isfile(join(path_directory, f))]\n",
    "\n",
    "    files_names = list(filter(lambda x: '.'+extension in x, onlyfiles))\n",
    "    \n",
    "    files_names.sort()\n",
    "    \n",
    "    return files_names"
   ]
  },
  {
   "cell_type": "code",
   "execution_count": 6,
   "id": "6a85f246",
   "metadata": {},
   "outputs": [],
   "source": [
    "files_names = get_files_in_directory(path_directory_resumes, \"pdf\")"
   ]
  },
  {
   "cell_type": "code",
   "execution_count": 7,
   "id": "e6d8d8ea",
   "metadata": {},
   "outputs": [
    {
     "name": "stdout",
     "output_type": "stream",
     "text": [
      "data/resumes/temp/images_resumes_1.pdf\n",
      "data/resumes/temp/images_resumes_10.pdf\n",
      "data/resumes/temp/images_resumes_11.pdf\n",
      "data/resumes/temp/images_resumes_12.pdf\n",
      "data/resumes/temp/images_resumes_13.pdf\n",
      "data/resumes/temp/images_resumes_14.pdf\n",
      "data/resumes/temp/images_resumes_15.pdf\n",
      "data/resumes/temp/images_resumes_16.pdf\n",
      "data/resumes/temp/images_resumes_17.pdf\n",
      "data/resumes/temp/images_resumes_18.pdf\n",
      "data/resumes/temp/images_resumes_19.pdf\n",
      "data/resumes/temp/images_resumes_2.pdf\n",
      "data/resumes/temp/images_resumes_20.pdf\n",
      "data/resumes/temp/images_resumes_3.pdf\n",
      "data/resumes/temp/images_resumes_4.pdf\n",
      "data/resumes/temp/images_resumes_5.pdf\n",
      "data/resumes/temp/images_resumes_6.pdf\n",
      "data/resumes/temp/images_resumes_7.pdf\n",
      "data/resumes/temp/images_resumes_8.pdf\n",
      "data/resumes/temp/images_resumes_9.pdf\n"
     ]
    }
   ],
   "source": [
    "for item in files_names:\n",
    "    part_file_name = item.split('.')\n",
    "    \n",
    "    pages_images = convert_from_path(join(path_directory_resumes, item), 500, single_file=False,thread_count=-1)\n",
    "    \n",
    "    count=1\n",
    "    \n",
    "    for page in pages_images:\n",
    "        #imgplot = plt.imshow(page)\n",
    "        #plt.show()\n",
    "\n",
    "        directory_out = path_output_temp_directory_resumes + \"_\" + item\n",
    "\n",
    "\n",
    "        isExistFolder = os.path.exists(directory_out)\n",
    "\n",
    "        if not isExistFolder:\n",
    "            print(directory_out)\n",
    "            os.makedirs(directory_out)\n",
    "\n",
    "        name_file = str(count) + \"_\" + item.split('.')[0] + \".jpeg\"\n",
    "\n",
    "        page.save(join(directory_out, name_file), 'JPEG')\n",
    "\n",
    "        count += 1"
   ]
  },
  {
   "cell_type": "code",
   "execution_count": null,
   "id": "e6d1c79c",
   "metadata": {},
   "outputs": [],
   "source": []
  },
  {
   "cell_type": "code",
   "execution_count": null,
   "id": "3e200e5d",
   "metadata": {},
   "outputs": [],
   "source": []
  }
 ],
 "metadata": {
  "kernelspec": {
   "display_name": "Python 3 (ipykernel)",
   "language": "python",
   "name": "python3"
  },
  "language_info": {
   "codemirror_mode": {
    "name": "ipython",
    "version": 3
   },
   "file_extension": ".py",
   "mimetype": "text/x-python",
   "name": "python",
   "nbconvert_exporter": "python",
   "pygments_lexer": "ipython3",
   "version": "3.7.10"
  }
 },
 "nbformat": 4,
 "nbformat_minor": 5
}

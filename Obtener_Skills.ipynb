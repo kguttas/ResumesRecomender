{
 "cells": [
  {
   "cell_type": "markdown",
   "id": "dc4b8142",
   "metadata": {},
   "source": [
    "https://www.youtube.com/watch?v=XyJDmkhW-bY\n",
    "\n",
    "https://www.youtube.com/watch?v=1mZAG4g3GXE\n",
    "\n",
    "https://github.com/Msq-9/Extraction-of-Skills"
   ]
  },
  {
   "cell_type": "code",
   "execution_count": 1,
   "id": "05e5680b",
   "metadata": {},
   "outputs": [
    {
     "name": "stdout",
     "output_type": "stream",
     "text": [
      "Collecting pyresparser\n",
      "  Downloading pyresparser-1.0.6-py3-none-any.whl (4.2 MB)\n",
      "\u001b[K     |████████████████████████████████| 4.2 MB 3.8 MB/s eta 0:00:01\n",
      "\u001b[?25hRequirement already satisfied: pyrsistent>=0.15.2 in /home/kguttas/anaconda3/envs/practica/lib/python3.7/site-packages (from pyresparser) (0.18.0)\n",
      "Requirement already satisfied: pdfminer.six>=20181108 in /home/kguttas/anaconda3/envs/practica/lib/python3.7/site-packages (from pyresparser) (20200517)\n",
      "Requirement already satisfied: wasabi>=0.2.2 in /home/kguttas/anaconda3/envs/practica/lib/python3.7/site-packages (from pyresparser) (0.8.2)\n",
      "Requirement already satisfied: sortedcontainers>=2.1.0 in /home/kguttas/anaconda3/envs/practica/lib/python3.7/site-packages (from pyresparser) (2.4.0)\n",
      "Requirement already satisfied: blis>=0.2.4 in /home/kguttas/anaconda3/envs/practica/lib/python3.7/site-packages (from pyresparser) (0.4.1)\n",
      "Requirement already satisfied: certifi>=2019.6.16 in /home/kguttas/anaconda3/envs/practica/lib/python3.7/site-packages (from pyresparser) (2021.10.8)\n",
      "Requirement already satisfied: numpy>=1.16.4 in /home/kguttas/anaconda3/envs/practica/lib/python3.7/site-packages (from pyresparser) (1.20.2)\n",
      "Requirement already satisfied: srsly>=0.0.7 in /home/kguttas/anaconda3/envs/practica/lib/python3.7/site-packages (from pyresparser) (1.0.5)\n",
      "Requirement already satisfied: requests>=2.22.0 in /home/kguttas/anaconda3/envs/practica/lib/python3.7/site-packages (from pyresparser) (2.26.0)\n",
      "Requirement already satisfied: tqdm>=4.32.2 in /home/kguttas/anaconda3/envs/practica/lib/python3.7/site-packages (from pyresparser) (4.62.3)\n",
      "Requirement already satisfied: jsonschema>=3.0.1 in /home/kguttas/anaconda3/envs/practica/lib/python3.7/site-packages (from pyresparser) (3.2.0)\n",
      "Requirement already satisfied: pandas>=0.24.2 in /home/kguttas/anaconda3/envs/practica/lib/python3.7/site-packages (from pyresparser) (1.2.5)\n",
      "Requirement already satisfied: nltk>=3.4.3 in /home/kguttas/anaconda3/envs/practica/lib/python3.7/site-packages (from pyresparser) (3.6.5)\n",
      "Requirement already satisfied: chardet>=3.0.4 in /home/kguttas/anaconda3/envs/practica/lib/python3.7/site-packages (from pyresparser) (4.0.0)\n",
      "Requirement already satisfied: cymem>=2.0.2 in /home/kguttas/anaconda3/envs/practica/lib/python3.7/site-packages (from pyresparser) (2.0.6)\n",
      "Requirement already satisfied: pytz>=2019.1 in /home/kguttas/anaconda3/envs/practica/lib/python3.7/site-packages (from pyresparser) (2021.1)\n",
      "Requirement already satisfied: thinc>=7.0.4 in /home/kguttas/anaconda3/envs/practica/lib/python3.7/site-packages (from pyresparser) (7.4.5)\n",
      "Requirement already satisfied: idna>=2.8 in /home/kguttas/anaconda3/envs/practica/lib/python3.7/site-packages (from pyresparser) (3.1)\n",
      "Requirement already satisfied: attrs>=19.1.0 in /home/kguttas/anaconda3/envs/practica/lib/python3.7/site-packages (from pyresparser) (21.2.0)\n",
      "Requirement already satisfied: spacy>=2.1.4 in /home/kguttas/anaconda3/envs/practica/lib/python3.7/site-packages (from pyresparser) (2.3.7)\n",
      "Requirement already satisfied: preshed>=2.0.1 in /home/kguttas/anaconda3/envs/practica/lib/python3.7/site-packages (from pyresparser) (3.0.6)\n",
      "Requirement already satisfied: urllib3>=1.25.3 in /home/kguttas/anaconda3/envs/practica/lib/python3.7/site-packages (from pyresparser) (1.26.7)\n",
      "Requirement already satisfied: python-dateutil>=2.8.0 in /home/kguttas/anaconda3/envs/practica/lib/python3.7/site-packages (from pyresparser) (2.8.1)\n",
      "Collecting docx2txt>=0.7\n",
      "  Downloading docx2txt-0.8.tar.gz (2.8 kB)\n",
      "Requirement already satisfied: six>=1.12.0 in /home/kguttas/anaconda3/envs/practica/lib/python3.7/site-packages (from pyresparser) (1.16.0)\n",
      "Requirement already satisfied: pycryptodome>=3.8.2 in /home/kguttas/anaconda3/envs/practica/lib/python3.7/site-packages (from pyresparser) (3.11.0)\n",
      "Requirement already satisfied: setuptools in /home/kguttas/anaconda3/envs/practica/lib/python3.7/site-packages (from jsonschema>=3.0.1->pyresparser) (52.0.0.post20210125)\n",
      "Requirement already satisfied: importlib-metadata in /home/kguttas/anaconda3/envs/practica/lib/python3.7/site-packages (from jsonschema>=3.0.1->pyresparser) (4.8.2)\n",
      "Requirement already satisfied: click in /home/kguttas/anaconda3/envs/practica/lib/python3.7/site-packages (from nltk>=3.4.3->pyresparser) (8.0.1)\n",
      "Requirement already satisfied: regex>=2021.8.3 in /home/kguttas/anaconda3/envs/practica/lib/python3.7/site-packages (from nltk>=3.4.3->pyresparser) (2021.11.10)\n",
      "Requirement already satisfied: joblib in /home/kguttas/anaconda3/envs/practica/lib/python3.7/site-packages (from nltk>=3.4.3->pyresparser) (1.0.1)\n",
      "Requirement already satisfied: murmurhash<1.1.0,>=0.28.0 in /home/kguttas/anaconda3/envs/practica/lib/python3.7/site-packages (from preshed>=2.0.1->pyresparser) (1.0.6)\n",
      "Requirement already satisfied: charset-normalizer~=2.0.0 in /home/kguttas/anaconda3/envs/practica/lib/python3.7/site-packages (from requests>=2.22.0->pyresparser) (2.0.0)\n",
      "Requirement already satisfied: plac<1.2.0,>=0.9.6 in /home/kguttas/anaconda3/envs/practica/lib/python3.7/site-packages (from spacy>=2.1.4->pyresparser) (0.9.6)\n",
      "Requirement already satisfied: catalogue<1.1.0,>=0.0.7 in /home/kguttas/anaconda3/envs/practica/lib/python3.7/site-packages (from spacy>=2.1.4->pyresparser) (1.0.0)\n",
      "Requirement already satisfied: zipp>=0.5 in /home/kguttas/anaconda3/envs/practica/lib/python3.7/site-packages (from importlib-metadata->jsonschema>=3.0.1->pyresparser) (3.5.0)\n",
      "Requirement already satisfied: typing-extensions>=3.6.4 in /home/kguttas/anaconda3/envs/practica/lib/python3.7/site-packages (from importlib-metadata->jsonschema>=3.0.1->pyresparser) (3.10.0.0)\n",
      "Building wheels for collected packages: docx2txt\n",
      "  Building wheel for docx2txt (setup.py) ... \u001b[?25ldone\n",
      "\u001b[?25h  Created wheel for docx2txt: filename=docx2txt-0.8-py3-none-any.whl size=3966 sha256=681adb10735c5a0fe3efdebd213d83a26142cc6dce8d4deb4df04c9ee4c073cd\n",
      "  Stored in directory: /home/kguttas/.cache/pip/wheels/b7/20/b2/473e3aea9a0c0d3e7b2f7bd81d06d0794fec12752733d1f3a8\n",
      "Successfully built docx2txt\n",
      "Installing collected packages: docx2txt, pyresparser\n",
      "Successfully installed docx2txt-0.8 pyresparser-1.0.6\n"
     ]
    }
   ],
   "source": [
    "!pip install pyresparser"
   ]
  },
  {
   "cell_type": "code",
   "execution_count": 2,
   "id": "f213090b",
   "metadata": {},
   "outputs": [
    {
     "name": "stdout",
     "output_type": "stream",
     "text": [
      "Collecting en_core_web_sm==2.3.1\n",
      "  Using cached en_core_web_sm-2.3.1-py3-none-any.whl\n",
      "Requirement already satisfied: spacy<2.4.0,>=2.3.0 in /home/kguttas/anaconda3/envs/practica/lib/python3.7/site-packages (from en_core_web_sm==2.3.1) (2.3.7)\n",
      "Requirement already satisfied: numpy>=1.15.0 in /home/kguttas/anaconda3/envs/practica/lib/python3.7/site-packages (from spacy<2.4.0,>=2.3.0->en_core_web_sm==2.3.1) (1.20.2)\n",
      "Requirement already satisfied: murmurhash<1.1.0,>=0.28.0 in /home/kguttas/anaconda3/envs/practica/lib/python3.7/site-packages (from spacy<2.4.0,>=2.3.0->en_core_web_sm==2.3.1) (1.0.6)\n",
      "Requirement already satisfied: setuptools in /home/kguttas/anaconda3/envs/practica/lib/python3.7/site-packages (from spacy<2.4.0,>=2.3.0->en_core_web_sm==2.3.1) (52.0.0.post20210125)\n",
      "Requirement already satisfied: tqdm<5.0.0,>=4.38.0 in /home/kguttas/anaconda3/envs/practica/lib/python3.7/site-packages (from spacy<2.4.0,>=2.3.0->en_core_web_sm==2.3.1) (4.62.3)\n",
      "Requirement already satisfied: thinc<7.5.0,>=7.4.1 in /home/kguttas/anaconda3/envs/practica/lib/python3.7/site-packages (from spacy<2.4.0,>=2.3.0->en_core_web_sm==2.3.1) (7.4.5)\n",
      "Requirement already satisfied: blis<0.8.0,>=0.4.0 in /home/kguttas/anaconda3/envs/practica/lib/python3.7/site-packages (from spacy<2.4.0,>=2.3.0->en_core_web_sm==2.3.1) (0.4.1)\n",
      "Requirement already satisfied: srsly<1.1.0,>=1.0.2 in /home/kguttas/anaconda3/envs/practica/lib/python3.7/site-packages (from spacy<2.4.0,>=2.3.0->en_core_web_sm==2.3.1) (1.0.5)\n",
      "Requirement already satisfied: preshed<3.1.0,>=3.0.2 in /home/kguttas/anaconda3/envs/practica/lib/python3.7/site-packages (from spacy<2.4.0,>=2.3.0->en_core_web_sm==2.3.1) (3.0.6)\n",
      "Requirement already satisfied: plac<1.2.0,>=0.9.6 in /home/kguttas/anaconda3/envs/practica/lib/python3.7/site-packages (from spacy<2.4.0,>=2.3.0->en_core_web_sm==2.3.1) (0.9.6)\n",
      "Requirement already satisfied: requests<3.0.0,>=2.13.0 in /home/kguttas/anaconda3/envs/practica/lib/python3.7/site-packages (from spacy<2.4.0,>=2.3.0->en_core_web_sm==2.3.1) (2.26.0)\n",
      "Requirement already satisfied: catalogue<1.1.0,>=0.0.7 in /home/kguttas/anaconda3/envs/practica/lib/python3.7/site-packages (from spacy<2.4.0,>=2.3.0->en_core_web_sm==2.3.1) (1.0.0)\n",
      "Requirement already satisfied: wasabi<1.1.0,>=0.4.0 in /home/kguttas/anaconda3/envs/practica/lib/python3.7/site-packages (from spacy<2.4.0,>=2.3.0->en_core_web_sm==2.3.1) (0.8.2)\n",
      "Requirement already satisfied: cymem<2.1.0,>=2.0.2 in /home/kguttas/anaconda3/envs/practica/lib/python3.7/site-packages (from spacy<2.4.0,>=2.3.0->en_core_web_sm==2.3.1) (2.0.6)\n",
      "Requirement already satisfied: importlib-metadata>=0.20 in /home/kguttas/anaconda3/envs/practica/lib/python3.7/site-packages (from catalogue<1.1.0,>=0.0.7->spacy<2.4.0,>=2.3.0->en_core_web_sm==2.3.1) (4.8.2)\n",
      "Requirement already satisfied: typing-extensions>=3.6.4 in /home/kguttas/anaconda3/envs/practica/lib/python3.7/site-packages (from importlib-metadata>=0.20->catalogue<1.1.0,>=0.0.7->spacy<2.4.0,>=2.3.0->en_core_web_sm==2.3.1) (3.10.0.0)\n",
      "Requirement already satisfied: zipp>=0.5 in /home/kguttas/anaconda3/envs/practica/lib/python3.7/site-packages (from importlib-metadata>=0.20->catalogue<1.1.0,>=0.0.7->spacy<2.4.0,>=2.3.0->en_core_web_sm==2.3.1) (3.5.0)\n",
      "Requirement already satisfied: charset-normalizer~=2.0.0 in /home/kguttas/anaconda3/envs/practica/lib/python3.7/site-packages (from requests<3.0.0,>=2.13.0->spacy<2.4.0,>=2.3.0->en_core_web_sm==2.3.1) (2.0.0)\n",
      "Requirement already satisfied: urllib3<1.27,>=1.21.1 in /home/kguttas/anaconda3/envs/practica/lib/python3.7/site-packages (from requests<3.0.0,>=2.13.0->spacy<2.4.0,>=2.3.0->en_core_web_sm==2.3.1) (1.26.7)\n",
      "Requirement already satisfied: idna<4,>=2.5 in /home/kguttas/anaconda3/envs/practica/lib/python3.7/site-packages (from requests<3.0.0,>=2.13.0->spacy<2.4.0,>=2.3.0->en_core_web_sm==2.3.1) (3.1)\n",
      "Requirement already satisfied: certifi>=2017.4.17 in /home/kguttas/anaconda3/envs/practica/lib/python3.7/site-packages (from requests<3.0.0,>=2.13.0->spacy<2.4.0,>=2.3.0->en_core_web_sm==2.3.1) (2021.10.8)\n",
      "\u001b[38;5;2m✔ Download and installation successful\u001b[0m\n",
      "You can now load the model via spacy.load('en_core_web_sm')\n"
     ]
    }
   ],
   "source": [
    "!python -m spacy download en_core_web_sm"
   ]
  },
  {
   "cell_type": "code",
   "execution_count": 3,
   "id": "f35e320c",
   "metadata": {},
   "outputs": [
    {
     "name": "stdout",
     "output_type": "stream",
     "text": [
      "/home/kguttas/anaconda3/envs/practica/lib/python3.7/runpy.py:125: RuntimeWarning: 'nltk.downloader' found in sys.modules after import of package 'nltk', but prior to execution of 'nltk.downloader'; this may result in unpredictable behaviour\n",
      "  warn(RuntimeWarning(msg))\n",
      "[nltk_data] Downloading package words to /home/kguttas/nltk_data...\n",
      "[nltk_data]   Unzipping corpora/words.zip.\n"
     ]
    }
   ],
   "source": [
    "!python -m nltk.downloader words"
   ]
  },
  {
   "cell_type": "code",
   "execution_count": 5,
   "id": "92494c05",
   "metadata": {},
   "outputs": [],
   "source": [
    "path_file_pdf = \"data/resumes/pdf/38.pdf\""
   ]
  },
  {
   "cell_type": "code",
   "execution_count": 6,
   "id": "283540b0",
   "metadata": {},
   "outputs": [
    {
     "name": "stderr",
     "output_type": "stream",
     "text": [
      "/home/kguttas/anaconda3/envs/practica/lib/python3.7/site-packages/spacy/util.py:275: UserWarning: [W031] Model 'en_training' (0.0.0) requires spaCy v2.1 and is incompatible with the current spaCy version (2.3.7). This may lead to unexpected results or runtime errors. To resolve this, download a newer compatible model or retrain your custom model with the current spaCy version. For more details and available updates, run: python -m spacy validate\n",
      "  warnings.warn(warn_msg)\n"
     ]
    }
   ],
   "source": [
    "from pyresparser import ResumeParser\n",
    "data = ResumeParser(path_file_pdf).get_extracted_data()"
   ]
  },
  {
   "cell_type": "code",
   "execution_count": 7,
   "id": "72c5fa91",
   "metadata": {},
   "outputs": [
    {
     "data": {
      "text/plain": [
       "{'name': 'Somnath Roy',\n",
       " 'email': 'somnath155@gmail.com',\n",
       " 'mobile_number': '9718835652',\n",
       " 'skills': ['Windows',\n",
       "  'Linux',\n",
       "  'Android',\n",
       "  'Hardware',\n",
       "  'Programming',\n",
       "  'Technical',\n",
       "  'Testing',\n",
       "  'Mobile',\n",
       "  'Engineering',\n",
       "  'Architecture',\n",
       "  'Assembly',\n",
       "  'Architectures',\n",
       "  'Python',\n",
       "  'English',\n",
       "  'System',\n",
       "  'C',\n",
       "  'C++',\n",
       "  'Product development',\n",
       "  'Ubuntu'],\n",
       " 'college_name': None,\n",
       " 'degree': ['PG   Diploma',\n",
       "  'CDAC',\n",
       "  'B.   Tech.   (Electronic   Engineering',\n",
       "  'B. Tech. (Electronic Engineering) from S.B. Jain College, Nagpur University'],\n",
       " 'designation': None,\n",
       " 'experience': ['Engineer Trainee in the field of product development life cycle , Testing and Development.',\n",
       "  '\\uf0e8 Title:',\n",
       "  'CAN Protocol Implementation on Blue board (LPC2148).'],\n",
       " 'company_names': ['Zieb Tech Technologies', 'Robotic'],\n",
       " 'no_of_pages': 2,\n",
       " 'total_experience': 0.0}"
      ]
     },
     "execution_count": 7,
     "metadata": {},
     "output_type": "execute_result"
    }
   ],
   "source": [
    "data"
   ]
  },
  {
   "cell_type": "code",
   "execution_count": 9,
   "id": "82c51b09",
   "metadata": {},
   "outputs": [
    {
     "data": {
      "text/plain": [
       "['Windows',\n",
       " 'Linux',\n",
       " 'Android',\n",
       " 'Hardware',\n",
       " 'Programming',\n",
       " 'Technical',\n",
       " 'Testing',\n",
       " 'Mobile',\n",
       " 'Engineering',\n",
       " 'Architecture',\n",
       " 'Assembly',\n",
       " 'Architectures',\n",
       " 'Python',\n",
       " 'English',\n",
       " 'System',\n",
       " 'C',\n",
       " 'C++',\n",
       " 'Product development',\n",
       " 'Ubuntu']"
      ]
     },
     "execution_count": 9,
     "metadata": {},
     "output_type": "execute_result"
    }
   ],
   "source": [
    "data[\"skills\"]"
   ]
  },
  {
   "cell_type": "code",
   "execution_count": null,
   "id": "9f3d6e2e",
   "metadata": {},
   "outputs": [],
   "source": []
  }
 ],
 "metadata": {
  "kernelspec": {
   "display_name": "Python 3 (ipykernel)",
   "language": "python",
   "name": "python3"
  },
  "language_info": {
   "codemirror_mode": {
    "name": "ipython",
    "version": 3
   },
   "file_extension": ".py",
   "mimetype": "text/x-python",
   "name": "python",
   "nbconvert_exporter": "python",
   "pygments_lexer": "ipython3",
   "version": "3.7.10"
  }
 },
 "nbformat": 4,
 "nbformat_minor": 5
}

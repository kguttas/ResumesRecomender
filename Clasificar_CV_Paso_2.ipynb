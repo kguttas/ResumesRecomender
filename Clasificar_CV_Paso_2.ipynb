{
 "cells": [
  {
   "cell_type": "markdown",
   "id": "089b5e07",
   "metadata": {},
   "source": [
    "https://towardsdatascience.com/multi-class-text-classification-with-scikit-learn-12f1e60e0a9f"
   ]
  },
  {
   "cell_type": "code",
   "execution_count": 1,
   "id": "c715dec4",
   "metadata": {},
   "outputs": [
    {
     "name": "stdout",
     "output_type": "stream",
     "text": [
      "Init DB\n"
     ]
    }
   ],
   "source": [
    "from Database import db_mongo\n",
    "\n",
    "from Utilities import clean_text\n",
    "\n",
    "import string\n",
    "\n",
    "db = db_mongo.db_mongo()\n",
    "\n",
    "df = db.get_text_full_resume(100000000)\n",
    "\n",
    "df = df.sample(frac=1).reset_index(drop=True)\n",
    "\n",
    "df['text'] = df['text'].str.replace('\\n',' ').replace('\\x0c',' ')\n",
    " \n",
    "df['text'] = [word for word in df['text'] if word not in string.punctuation]\n",
    "\n"
   ]
  },
  {
   "cell_type": "markdown",
   "id": "95f0ae08",
   "metadata": {},
   "source": [
    "## Limpiar Texto"
   ]
  },
  {
   "cell_type": "code",
   "execution_count": 2,
   "id": "f07223af",
   "metadata": {},
   "outputs": [
    {
     "name": "stderr",
     "output_type": "stream",
     "text": [
      "[nltk_data] Downloading package wordnet to /home/kguttas/nltk_data...\n",
      "[nltk_data]   Package wordnet is already up-to-date!\n"
     ]
    }
   ],
   "source": [
    "ct = clean_text.CleanText()\n",
    "\n",
    "df['text'] = ct.cleanner_process(df[\"text\"])"
   ]
  },
  {
   "cell_type": "code",
   "execution_count": 3,
   "id": "0141e457",
   "metadata": {},
   "outputs": [
    {
     "name": "stdout",
     "output_type": "stream",
     "text": [
      "<class 'pandas.core.frame.DataFrame'>\n",
      "RangeIndex: 2484 entries, 0 to 2483\n",
      "Data columns (total 3 columns):\n",
      " #   Column  Non-Null Count  Dtype \n",
      "---  ------  --------------  ----- \n",
      " 0   _id     2484 non-null   object\n",
      " 1   text    2484 non-null   object\n",
      " 2   class   2484 non-null   object\n",
      "dtypes: object(3)\n",
      "memory usage: 58.3+ KB\n"
     ]
    }
   ],
   "source": [
    "df.info()"
   ]
  },
  {
   "cell_type": "code",
   "execution_count": 4,
   "id": "2f6e29d3",
   "metadata": {},
   "outputs": [
    {
     "data": {
      "text/plain": "                                         _id  \\\ncount                                   2484   \nunique                                  2484   \ntop     96851e81-3e6c-4e09-9dbc-10805cd048b9   \nfreq                                       1   \n\n                                                     text  \\\ncount                                                2484   \nunique                                               2482   \ntop     STOREKEEPER Professional Summary purpose this ...   \nfreq                                                    2   \n\n                       class  \ncount                   2484  \nunique                    24  \ntop     BUSINESS-DEVELOPMENT  \nfreq                     120  ",
      "text/html": "<div>\n<style scoped>\n    .dataframe tbody tr th:only-of-type {\n        vertical-align: middle;\n    }\n\n    .dataframe tbody tr th {\n        vertical-align: top;\n    }\n\n    .dataframe thead th {\n        text-align: right;\n    }\n</style>\n<table border=\"1\" class=\"dataframe\">\n  <thead>\n    <tr style=\"text-align: right;\">\n      <th></th>\n      <th>_id</th>\n      <th>text</th>\n      <th>class</th>\n    </tr>\n  </thead>\n  <tbody>\n    <tr>\n      <th>count</th>\n      <td>2484</td>\n      <td>2484</td>\n      <td>2484</td>\n    </tr>\n    <tr>\n      <th>unique</th>\n      <td>2484</td>\n      <td>2482</td>\n      <td>24</td>\n    </tr>\n    <tr>\n      <th>top</th>\n      <td>96851e81-3e6c-4e09-9dbc-10805cd048b9</td>\n      <td>STOREKEEPER Professional Summary purpose this ...</td>\n      <td>BUSINESS-DEVELOPMENT</td>\n    </tr>\n    <tr>\n      <th>freq</th>\n      <td>1</td>\n      <td>2</td>\n      <td>120</td>\n    </tr>\n  </tbody>\n</table>\n</div>"
     },
     "execution_count": 4,
     "metadata": {},
     "output_type": "execute_result"
    }
   ],
   "source": [
    "df.describe()"
   ]
  },
  {
   "cell_type": "code",
   "execution_count": 5,
   "id": "7f42345d",
   "metadata": {},
   "outputs": [
    {
     "data": {
      "text/plain": "                                    _id  \\\n0  96851e81-3e6c-4e09-9dbc-10805cd048b9   \n1  fbde3c16-13c9-449a-ba5f-2bccc1eaf42e   \n2  6dd9a308-090a-400b-a3b7-d298632a0527   \n3  f3a8c4fd-4428-47a8-9deb-b1992f9a5c7e   \n4  5feaeeb9-0d32-4076-b174-fcbe1021028d   \n\n                                                text                   class  \n0  DIGITAL CLIENT LEAD Experience Current Digital...           DIGITAL-MEDIA  \n1  SALES REPRESENTATIVE Professional Summary Hard...                   SALES  \n2  INFORMATION TECHNOLOGY SPECIALIST Career Overv...  INFORMATION-TECHNOLOGY  \n3  CREATIVE DIRECTOR Career Focus Creative Direct...                    ARTS  \n4  CONSULTANT Professional Overview Masters Socia...              CONSULTANT  ",
      "text/html": "<div>\n<style scoped>\n    .dataframe tbody tr th:only-of-type {\n        vertical-align: middle;\n    }\n\n    .dataframe tbody tr th {\n        vertical-align: top;\n    }\n\n    .dataframe thead th {\n        text-align: right;\n    }\n</style>\n<table border=\"1\" class=\"dataframe\">\n  <thead>\n    <tr style=\"text-align: right;\">\n      <th></th>\n      <th>_id</th>\n      <th>text</th>\n      <th>class</th>\n    </tr>\n  </thead>\n  <tbody>\n    <tr>\n      <th>0</th>\n      <td>96851e81-3e6c-4e09-9dbc-10805cd048b9</td>\n      <td>DIGITAL CLIENT LEAD Experience Current Digital...</td>\n      <td>DIGITAL-MEDIA</td>\n    </tr>\n    <tr>\n      <th>1</th>\n      <td>fbde3c16-13c9-449a-ba5f-2bccc1eaf42e</td>\n      <td>SALES REPRESENTATIVE Professional Summary Hard...</td>\n      <td>SALES</td>\n    </tr>\n    <tr>\n      <th>2</th>\n      <td>6dd9a308-090a-400b-a3b7-d298632a0527</td>\n      <td>INFORMATION TECHNOLOGY SPECIALIST Career Overv...</td>\n      <td>INFORMATION-TECHNOLOGY</td>\n    </tr>\n    <tr>\n      <th>3</th>\n      <td>f3a8c4fd-4428-47a8-9deb-b1992f9a5c7e</td>\n      <td>CREATIVE DIRECTOR Career Focus Creative Direct...</td>\n      <td>ARTS</td>\n    </tr>\n    <tr>\n      <th>4</th>\n      <td>5feaeeb9-0d32-4076-b174-fcbe1021028d</td>\n      <td>CONSULTANT Professional Overview Masters Socia...</td>\n      <td>CONSULTANT</td>\n    </tr>\n  </tbody>\n</table>\n</div>"
     },
     "execution_count": 5,
     "metadata": {},
     "output_type": "execute_result"
    }
   ],
   "source": [
    "df.head()"
   ]
  },
  {
   "cell_type": "code",
   "execution_count": 6,
   "id": "8b2efb8d",
   "metadata": {},
   "outputs": [
    {
     "data": {
      "text/plain": "                                                text                   class\n0  DIGITAL CLIENT LEAD Experience Current Digital...           DIGITAL-MEDIA\n1  SALES REPRESENTATIVE Professional Summary Hard...                   SALES\n2  INFORMATION TECHNOLOGY SPECIALIST Career Overv...  INFORMATION-TECHNOLOGY\n3  CREATIVE DIRECTOR Career Focus Creative Direct...                    ARTS\n4  CONSULTANT Professional Overview Masters Socia...              CONSULTANT",
      "text/html": "<div>\n<style scoped>\n    .dataframe tbody tr th:only-of-type {\n        vertical-align: middle;\n    }\n\n    .dataframe tbody tr th {\n        vertical-align: top;\n    }\n\n    .dataframe thead th {\n        text-align: right;\n    }\n</style>\n<table border=\"1\" class=\"dataframe\">\n  <thead>\n    <tr style=\"text-align: right;\">\n      <th></th>\n      <th>text</th>\n      <th>class</th>\n    </tr>\n  </thead>\n  <tbody>\n    <tr>\n      <th>0</th>\n      <td>DIGITAL CLIENT LEAD Experience Current Digital...</td>\n      <td>DIGITAL-MEDIA</td>\n    </tr>\n    <tr>\n      <th>1</th>\n      <td>SALES REPRESENTATIVE Professional Summary Hard...</td>\n      <td>SALES</td>\n    </tr>\n    <tr>\n      <th>2</th>\n      <td>INFORMATION TECHNOLOGY SPECIALIST Career Overv...</td>\n      <td>INFORMATION-TECHNOLOGY</td>\n    </tr>\n    <tr>\n      <th>3</th>\n      <td>CREATIVE DIRECTOR Career Focus Creative Direct...</td>\n      <td>ARTS</td>\n    </tr>\n    <tr>\n      <th>4</th>\n      <td>CONSULTANT Professional Overview Masters Socia...</td>\n      <td>CONSULTANT</td>\n    </tr>\n  </tbody>\n</table>\n</div>"
     },
     "execution_count": 6,
     "metadata": {},
     "output_type": "execute_result"
    }
   ],
   "source": [
    "from io import StringIO\n",
    "import pandas as pd\n",
    "\n",
    "col = ['text', 'class']\n",
    "df_new = df[col]\n",
    "df_new = df_new[pd.notnull(df_new['text'])]\n",
    "df_new.head()"
   ]
  },
  {
   "cell_type": "code",
   "execution_count": 7,
   "id": "f8f8a639",
   "metadata": {},
   "outputs": [
    {
     "data": {
      "text/plain": "                                                text                   class  \\\n0  DIGITAL CLIENT LEAD Experience Current Digital...           DIGITAL-MEDIA   \n1  SALES REPRESENTATIVE Professional Summary Hard...                   SALES   \n2  INFORMATION TECHNOLOGY SPECIALIST Career Overv...  INFORMATION-TECHNOLOGY   \n3  CREATIVE DIRECTOR Career Focus Creative Direct...                    ARTS   \n4  CONSULTANT Professional Overview Masters Socia...              CONSULTANT   \n\n   category_id  \n0            0  \n1            1  \n2            2  \n3            3  \n4            4  ",
      "text/html": "<div>\n<style scoped>\n    .dataframe tbody tr th:only-of-type {\n        vertical-align: middle;\n    }\n\n    .dataframe tbody tr th {\n        vertical-align: top;\n    }\n\n    .dataframe thead th {\n        text-align: right;\n    }\n</style>\n<table border=\"1\" class=\"dataframe\">\n  <thead>\n    <tr style=\"text-align: right;\">\n      <th></th>\n      <th>text</th>\n      <th>class</th>\n      <th>category_id</th>\n    </tr>\n  </thead>\n  <tbody>\n    <tr>\n      <th>0</th>\n      <td>DIGITAL CLIENT LEAD Experience Current Digital...</td>\n      <td>DIGITAL-MEDIA</td>\n      <td>0</td>\n    </tr>\n    <tr>\n      <th>1</th>\n      <td>SALES REPRESENTATIVE Professional Summary Hard...</td>\n      <td>SALES</td>\n      <td>1</td>\n    </tr>\n    <tr>\n      <th>2</th>\n      <td>INFORMATION TECHNOLOGY SPECIALIST Career Overv...</td>\n      <td>INFORMATION-TECHNOLOGY</td>\n      <td>2</td>\n    </tr>\n    <tr>\n      <th>3</th>\n      <td>CREATIVE DIRECTOR Career Focus Creative Direct...</td>\n      <td>ARTS</td>\n      <td>3</td>\n    </tr>\n    <tr>\n      <th>4</th>\n      <td>CONSULTANT Professional Overview Masters Socia...</td>\n      <td>CONSULTANT</td>\n      <td>4</td>\n    </tr>\n  </tbody>\n</table>\n</div>"
     },
     "execution_count": 7,
     "metadata": {},
     "output_type": "execute_result"
    }
   ],
   "source": [
    "df_new.columns = ['text', 'class' ]\n",
    "df_new['category_id'] = df_new['class'].factorize()[0]\n",
    "\n",
    "category_id_df = df_new[['class', 'category_id']].drop_duplicates().sort_values('category_id')\n",
    "category_to_id = dict(category_id_df.values)\n",
    "id_to_category = dict(category_id_df[['category_id', 'class']].values)\n",
    "\n",
    "df_new.head()"
   ]
  },
  {
   "cell_type": "code",
   "execution_count": 8,
   "id": "b18a048c",
   "metadata": {},
   "outputs": [
    {
     "data": {
      "text/plain": "<Figure size 576x432 with 1 Axes>",
      "image/png": "[encoded data removed]"
     },
     "metadata": {
      "needs_background": "light"
     },
     "output_type": "display_data"
    }
   ],
   "source": [
    "import matplotlib.pyplot as plt\n",
    "fig = plt.figure(figsize=(8,6))\n",
    "df_new.groupby('class').text.count().plot.bar(ylim=0)\n",
    "plt.show()"
   ]
  },
  {
   "cell_type": "code",
   "execution_count": 9,
   "id": "7294b2db",
   "metadata": {},
   "outputs": [
    {
     "data": {
      "text/plain": "(2484, 682984)"
     },
     "execution_count": 9,
     "metadata": {},
     "output_type": "execute_result"
    }
   ],
   "source": [
    "from sklearn.feature_extraction.text import TfidfVectorizer\n",
    "\n",
    "tfidf = TfidfVectorizer(sublinear_tf=True, min_df=0.00001, norm='l2', \n",
    "                        encoding='latin-1', ngram_range=(1,2), stop_words='english')\n",
    "features = tfidf.fit_transform(df_new.text).toarray()\n",
    "labels = df_new.category_id\n",
    "features.shape"
   ]
  },
  {
   "cell_type": "code",
   "execution_count": 10,
   "id": "c7f2d4a4",
   "metadata": {},
   "outputs": [
    {
     "name": "stdout",
     "output_type": "stream",
     "text": [
      "# 'ACCOUNTANT':\n",
      "  . Most correlated unigrams:\n",
      ". entries\n",
      ". accountant\n",
      "  . Most correlated bigrams:\n",
      ". accountant company\n",
      ". accountant summary\n",
      "# 'ADVOCATE':\n",
      "  . Most correlated unigrams:\n",
      ". advocacy\n",
      ". advocate\n",
      "  . Most correlated bigrams:\n",
      ". advocate company\n",
      ". advocate summary\n",
      "# 'AGRICULTURE':\n",
      "  . Most correlated unigrams:\n",
      ". agricultural\n",
      ". agriculture\n",
      "  . Most correlated bigrams:\n",
      ". agriculture education\n",
      ". natural resources\n",
      "# 'APPAREL':\n",
      "  . Most correlated unigrams:\n",
      ". merchandising\n",
      ". apparel\n",
      "  . Most correlated bigrams:\n",
      ". state apparel\n",
      ". assistant buyer\n",
      "# 'ARTS':\n",
      "  . Most correlated unigrams:\n",
      ". arts\n",
      ". martial\n",
      "  . Most correlated bigrams:\n",
      ". language arts\n",
      ". arts teacher\n",
      "# 'AUTOMOBILE':\n",
      "  . Most correlated unigrams:\n",
      ". insureds\n",
      ". automobile\n",
      "  . Most correlated bigrams:\n",
      ". liability claims\n",
      ". special investigation\n",
      "# 'AVIATION':\n",
      "  . Most correlated unigrams:\n",
      ". aircraft\n",
      ". aviation\n",
      "  . Most correlated bigrams:\n",
      ". aviation supply\n",
      ". aviation maintenance\n",
      "# 'BANKING':\n",
      "  . Most correlated unigrams:\n",
      ". loan\n",
      ". banking\n",
      "  . Most correlated bigrams:\n",
      ". banking center\n",
      ". business banking\n",
      "# 'BPO':\n",
      "  . Most correlated unigrams:\n",
      ". volley\n",
      ". sanjay\n",
      "  . Most correlated bigrams:\n",
      ". values developed\n",
      ". post modification\n",
      "# 'BUSINESS-DEVELOPMENT':\n",
      "  . Most correlated unigrams:\n",
      ". makers\n",
      ". territory\n",
      "  . Most correlated bigrams:\n",
      ". development manager\n",
      ". business development\n",
      "# 'CHEF':\n",
      "  . Most correlated unigrams:\n",
      ". culinary\n",
      ". chef\n",
      "  . Most correlated bigrams:\n",
      ". sous chef\n",
      ". executive chef\n",
      "# 'CONSTRUCTION':\n",
      "  . Most correlated unigrams:\n",
      ". concrete\n",
      ". construction\n",
      "  . Most correlated bigrams:\n",
      ". construction projects\n",
      ". construction manager\n",
      "# 'CONSULTANT':\n",
      "  . Most correlated unigrams:\n",
      ". odbc\n",
      ". consultant\n",
      "  . Most correlated bigrams:\n",
      ". consultant summary\n",
      ". experience consultant\n",
      "# 'DESIGNER':\n",
      "  . Most correlated unigrams:\n",
      ". graphic\n",
      ". designer\n",
      "  . Most correlated bigrams:\n",
      ". graphic designer\n",
      ". designer company\n",
      "# 'DIGITAL-MEDIA':\n",
      "  . Most correlated unigrams:\n",
      ". media\n",
      ". digital\n",
      "  . Most correlated bigrams:\n",
      ". digital marketing\n",
      ". digital media\n",
      "# 'ENGINEERING':\n",
      "  . Most correlated unigrams:\n",
      ". mechanical\n",
      ". engineering\n",
      "  . Most correlated bigrams:\n",
      ". engineering manager\n",
      ". engineering technician\n",
      "# 'FINANCE':\n",
      "  . Most correlated unigrams:\n",
      ". accounting\n",
      ". finance\n",
      "  . Most correlated bigrams:\n",
      ". experience finance\n",
      ". finance manager\n",
      "# 'FITNESS':\n",
      "  . Most correlated unigrams:\n",
      ". exercise\n",
      ". fitness\n",
      "  . Most correlated bigrams:\n",
      ". group fitness\n",
      ". fitness instructor\n",
      "# 'HEALTHCARE':\n",
      "  . Most correlated unigrams:\n",
      ". patient\n",
      ". healthcare\n",
      "  . Most correlated bigrams:\n",
      ". home healthcare\n",
      ". state healthcare\n",
      "# 'HR':\n",
      "  . Most correlated unigrams:\n",
      ". generalist\n",
      ". hris\n",
      "  . Most correlated bigrams:\n",
      ". human resources\n",
      ". employee relations\n",
      "# 'INFORMATION-TECHNOLOGY':\n",
      "  . Most correlated unigrams:\n",
      ". network\n",
      ". hardware\n",
      "  . Most correlated bigrams:\n",
      ". technology specialist\n",
      ". information technology\n",
      "# 'PUBLIC-RELATIONS':\n",
      "  . Most correlated unigrams:\n",
      ". releases\n",
      ". press\n",
      "  . Most correlated bigrams:\n",
      ". press releases\n",
      ". public relations\n",
      "# 'SALES':\n",
      "  . Most correlated unigrams:\n",
      ". sales\n",
      ". merchandise\n",
      "  . Most correlated bigrams:\n",
      ". sales associate\n",
      ". experience sales\n",
      "# 'TEACHER':\n",
      "  . Most correlated unigrams:\n",
      ". classroom\n",
      ". teacher\n",
      "  . Most correlated bigrams:\n",
      ". teacher summary\n",
      ". teacher company\n"
     ]
    }
   ],
   "source": [
    "from sklearn.feature_selection import chi2\n",
    "import numpy as np\n",
    "\n",
    "N = 2\n",
    "for Product, category_id in sorted(category_to_id.items()):\n",
    "    features_chi2 = chi2(features, labels == category_id)\n",
    "    indices = np.argsort(features_chi2[0])\n",
    "    feature_names = np.array(tfidf.get_feature_names())[indices]\n",
    "    unigrams = [v for v in feature_names if len(v.split(' ')) == 1]\n",
    "    bigrams = [v for v in feature_names if len(v.split(' ')) == 2]\n",
    "    print(\"# '{}':\".format(Product))\n",
    "    print(\"  . Most correlated unigrams:\\n. {}\".format('\\n. '.join(unigrams[-N:])))\n",
    "    print(\"  . Most correlated bigrams:\\n. {}\".format('\\n. '.join(bigrams[-N:])))"
   ]
  },
  {
   "cell_type": "code",
   "execution_count": 11,
   "id": "945fcee6",
   "metadata": {},
   "outputs": [],
   "source": [
    "from sklearn.model_selection import train_test_split\n",
    "from sklearn.feature_extraction.text import CountVectorizer\n",
    "from sklearn.feature_extraction.text import TfidfTransformer\n",
    "from sklearn.naive_bayes import MultinomialNB\n",
    "\n",
    "X_train, X_test, y_train, y_test = train_test_split(df_new['text'], df_new['class'], random_state = 0, shuffle= True)\n",
    "\n",
    "count_vect = CountVectorizer()\n",
    "\n",
    "X_train_counts = count_vect.fit_transform(X_train)\n",
    "\n",
    "tfidf_transformer = TfidfTransformer()\n",
    "\n",
    "X_train_tfidf = tfidf_transformer.fit_transform(X_train_counts)\n",
    "\n",
    "clf = MultinomialNB().fit(X_train_tfidf, y_train)"
   ]
  },
  {
   "cell_type": "code",
   "execution_count": 12,
   "id": "27d81cd5",
   "metadata": {},
   "outputs": [
    {
     "data": {
      "text/plain": "'ACCOUNTANT Summary Experienced highly motivated work ethic with resultsdriven professionalism recognized commitment excellence demonstrates expertise communicating collaborating with peers clients Portrays excellent business acumen successfully provide accurate Accounts Receivables Collections Accounts Payable initiatives that achieves targeted company goals Selfmotivated professional able work independently team environment demonstrating broad based transferable qualifications Highlights Extensive knowledge Microsoft Windows computer systems operating system Proficient Microsoft Office Word Excel Power Point Basic experience with QuickBooks Enterprise Solutions SageMAS Software Peachtree Microsoft Access Account reconciliation expert General ledger accounting Flexible team player Experience Company Name January November Accountant City State Managed over million month revenue Accurately applied payments vendor accounts Researched resolved incorrect payments rejections other issues with outstanding accounts Successfully boosted collections from within years Trained existing employees procedures computer programs monthly aging reports compile billing statements vendors outstanding invoices Utilize following HCFA ICDCPTHCPCS Coding prepare submit claims MLTC billing Ensure claims entered submitted with hours receipt checks vendor payment using internal software RealWorld Prepare checks signature Responsible running reports monthend yearend closing reconciliation journal entries Insure office practices compliance with HIPAA regulations Daily Exchange Santrax Crescent programs Investigated resolved discrepancies monthly bank accounts while under tight deadlines Company Name March November Accountant City State Responsible followup explanation credit card accounts issue Debit Memos travel agencies chargebacks debited Israel Airlines Handled large volumes credit card disputes Inquiries Chargebacks communicating with credit card department travel agencies passengers Created Excel database order update disputes they solved Assisted supervisor with month year close Including limited preparing entering journal entries running reports reconciling airline tickets database Reconciliation accounts such Airline Tickets Personal Expense Accounts Petty Cash Accounts more Created company procedure manual trained existing coworkers according procedures Made sure that department deadlines Handled aspects reconciling general ledgers Responsible checking paying personal expenses employees Performed payroll hourly employees using system Company Name January August Bookkeeper City State Assist accounts payableaccounts receivable Maintain spreadsheets records store sales expenses Ensure proper handling customer calls Contact customers collect money owed Perform various administrative duties Reconciled bank statements Enter invoices Company Name November Current Accountant City State Reduced closing time monthly quarterly close implementing consolidation procedures Analyzed costs revenues project future trends Received recorded banked cash checks vouchers well reconciled records bank transactions Completed monthly quarterly annual bank reconciliations subsidiary companies Reviewed book entries ensure accuracy Prepared monthly annual expense forecasts including necessary recommended action required manage costs achieve budget Post journal entries company general ledger accounting software Assisted management with preparation monthend financial statements cash flow statements budgets Company Name September November Assistant Bookkeeper City State Assist with payroll processing Assist with accounts payableaccounts receivable Prepare verify bank deposits balancing receipts sending cash checks other terms payment Maintain organizations record keeping Price reprice merchandise necessary Handle merchandise returns exchanges within company guidelines Customer service both sales floor assigned departments Complete daily paperwork within company guidelines Education City University York Brooklyn College Bachelor Science Accountancy City State Accountancy Kingsborough Community College Liberal Arts City State Deans List Excellence Academic Achievement Brooklyn College Completed Payroll Course Liberal Arts Deans List Excellence Academic Achievement Brooklyn College Completed Payroll Course Languages Bilingual English Russian Skills Account Management accounts payable accounts receivable administrative Bank Reconciliation Basic Billing Closing credit Customer service database Debit Fluent English Invoicing Medical Billing Microsoft Access Excel Exchange money Microsoft Office office Power Point Microsoft Windows Word Enterprise operating system Payroll payroll processing Peachtree Coding QuickBooks reconciling record keeping Russian sales spreadsheets Staff Training supervisor yearend'"
     },
     "execution_count": 12,
     "metadata": {},
     "output_type": "execute_result"
    }
   ],
   "source": [
    "X_test.iloc[25]"
   ]
  },
  {
   "cell_type": "code",
   "execution_count": 13,
   "id": "3fa74045",
   "metadata": {},
   "outputs": [
    {
     "name": "stdout",
     "output_type": "stream",
     "text": [
      "['ACCOUNTANT']\n"
     ]
    }
   ],
   "source": [
    "print(clf.predict(count_vect.transform([X_test.iloc[25]])))"
   ]
  },
  {
   "cell_type": "code",
   "execution_count": 14,
   "id": "b1414274",
   "metadata": {},
   "outputs": [
    {
     "data": {
      "text/plain": "                                                   text       class  \\\n1725  ACCOUNTANT Summary Experienced highly motivate...  ACCOUNTANT   \n\n      category_id  \n1725            7  ",
      "text/html": "<div>\n<style scoped>\n    .dataframe tbody tr th:only-of-type {\n        vertical-align: middle;\n    }\n\n    .dataframe tbody tr th {\n        vertical-align: top;\n    }\n\n    .dataframe thead th {\n        text-align: right;\n    }\n</style>\n<table border=\"1\" class=\"dataframe\">\n  <thead>\n    <tr style=\"text-align: right;\">\n      <th></th>\n      <th>text</th>\n      <th>class</th>\n      <th>category_id</th>\n    </tr>\n  </thead>\n  <tbody>\n    <tr>\n      <th>1725</th>\n      <td>ACCOUNTANT Summary Experienced highly motivate...</td>\n      <td>ACCOUNTANT</td>\n      <td>7</td>\n    </tr>\n  </tbody>\n</table>\n</div>"
     },
     "execution_count": 14,
     "metadata": {},
     "output_type": "execute_result"
    }
   ],
   "source": [
    "df_new[df_new['text'].str.contains(X_test.iloc[25])]"
   ]
  },
  {
   "cell_type": "code",
   "execution_count": 15,
   "id": "c298aa04",
   "metadata": {},
   "outputs": [
    {
     "name": "stdout",
     "output_type": "stream",
     "text": [
      "['ACCOUNTANT']\n"
     ]
    }
   ],
   "source": [
    "print(clf.predict(count_vect.transform([X_test.iloc[38]])))"
   ]
  },
  {
   "cell_type": "code",
   "execution_count": 16,
   "id": "2629fe5b",
   "metadata": {},
   "outputs": [
    {
     "data": {
      "text/plain": "                                                   text       class  \\\n1328  FINANCIAL ACCOUNTANT Summary Financial Account...  ACCOUNTANT   \n\n      category_id  \n1328            7  ",
      "text/html": "<div>\n<style scoped>\n    .dataframe tbody tr th:only-of-type {\n        vertical-align: middle;\n    }\n\n    .dataframe tbody tr th {\n        vertical-align: top;\n    }\n\n    .dataframe thead th {\n        text-align: right;\n    }\n</style>\n<table border=\"1\" class=\"dataframe\">\n  <thead>\n    <tr style=\"text-align: right;\">\n      <th></th>\n      <th>text</th>\n      <th>class</th>\n      <th>category_id</th>\n    </tr>\n  </thead>\n  <tbody>\n    <tr>\n      <th>1328</th>\n      <td>FINANCIAL ACCOUNTANT Summary Financial Account...</td>\n      <td>ACCOUNTANT</td>\n      <td>7</td>\n    </tr>\n  </tbody>\n</table>\n</div>"
     },
     "execution_count": 16,
     "metadata": {},
     "output_type": "execute_result"
    }
   ],
   "source": [
    "df_new[df_new['text'] == X_test.iloc[38]]"
   ]
  },
  {
   "cell_type": "code",
   "execution_count": 17,
   "id": "0a7c2fa7",
   "metadata": {},
   "outputs": [
    {
     "data": {
      "text/plain": "<Figure size 432x288 with 1 Axes>",
      "image/png": "[encoded data removed]"
     },
     "metadata": {
      "needs_background": "light"
     },
     "output_type": "display_data"
    }
   ],
   "source": [
    "from sklearn.linear_model import LogisticRegression\n",
    "from sklearn.ensemble import RandomForestClassifier\n",
    "from sklearn.svm import LinearSVC\n",
    "from sklearn.model_selection import cross_val_score\n",
    "models = [\n",
    "    RandomForestClassifier(n_estimators=200, max_depth=3, random_state=0),\n",
    "    LinearSVC(),\n",
    "    MultinomialNB(),\n",
    "    LogisticRegression(random_state=0),\n",
    "]\n",
    "CV = 5\n",
    "cv_df = pd.DataFrame(index=range(CV * len(models)))\n",
    "entries = []\n",
    "for model in models:\n",
    "    model_name = model.__class__.__name__\n",
    "    accuracies = cross_val_score(model, features, labels, scoring='accuracy', cv=CV)\n",
    "    for fold_idx, accuracy in enumerate(accuracies):\n",
    "        entries.append((model_name, fold_idx, accuracy))\n",
    "cv_df = pd.DataFrame(entries, columns=['model_name', 'fold_idx', 'accuracy'])\n",
    "import seaborn as sns\n",
    "sns.boxplot(x='model_name', y='accuracy', data=cv_df)\n",
    "sns.stripplot(x='model_name', y='accuracy', data=cv_df, \n",
    "              size=8, jitter=True, edgecolor=\"gray\", linewidth=2)\n",
    "plt.show()"
   ]
  },
  {
   "cell_type": "code",
   "execution_count": 18,
   "id": "d69c00cc",
   "metadata": {},
   "outputs": [
    {
     "data": {
      "text/plain": "model_name\nLinearSVC                 0.662241\nLogisticRegression        0.605068\nMultinomialNB             0.523751\nRandomForestClassifier    0.558782\nName: accuracy, dtype: float64"
     },
     "execution_count": 18,
     "metadata": {},
     "output_type": "execute_result"
    }
   ],
   "source": [
    "cv_df.groupby('model_name').accuracy.mean()"
   ]
  },
  {
   "cell_type": "code",
   "execution_count": 19,
   "id": "fbfaf5cb",
   "metadata": {},
   "outputs": [
    {
     "data": {
      "text/plain": "                      class  category_id\n0             DIGITAL-MEDIA            0\n1                     SALES            1\n2    INFORMATION-TECHNOLOGY            2\n3                      ARTS            3\n4                CONSULTANT            4\n5                   BANKING            5\n7                  AVIATION            6\n8                ACCOUNTANT            7\n10                 ADVOCATE            8\n14                 DESIGNER            9\n19              ENGINEERING           10\n21                  FITNESS           11\n24         PUBLIC-RELATIONS           12\n29                     CHEF           13\n33             CONSTRUCTION           14\n42                  APPAREL           15\n44                       HR           16\n45               HEALTHCARE           17\n47                  TEACHER           18\n58     BUSINESS-DEVELOPMENT           19\n67                  FINANCE           20\n89               AUTOMOBILE           21\n103                     BPO           22\n119             AGRICULTURE           23",
      "text/html": "<div>\n<style scoped>\n    .dataframe tbody tr th:only-of-type {\n        vertical-align: middle;\n    }\n\n    .dataframe tbody tr th {\n        vertical-align: top;\n    }\n\n    .dataframe thead th {\n        text-align: right;\n    }\n</style>\n<table border=\"1\" class=\"dataframe\">\n  <thead>\n    <tr style=\"text-align: right;\">\n      <th></th>\n      <th>class</th>\n      <th>category_id</th>\n    </tr>\n  </thead>\n  <tbody>\n    <tr>\n      <th>0</th>\n      <td>DIGITAL-MEDIA</td>\n      <td>0</td>\n    </tr>\n    <tr>\n      <th>1</th>\n      <td>SALES</td>\n      <td>1</td>\n    </tr>\n    <tr>\n      <th>2</th>\n      <td>INFORMATION-TECHNOLOGY</td>\n      <td>2</td>\n    </tr>\n    <tr>\n      <th>3</th>\n      <td>ARTS</td>\n      <td>3</td>\n    </tr>\n    <tr>\n      <th>4</th>\n      <td>CONSULTANT</td>\n      <td>4</td>\n    </tr>\n    <tr>\n      <th>5</th>\n      <td>BANKING</td>\n      <td>5</td>\n    </tr>\n    <tr>\n      <th>7</th>\n      <td>AVIATION</td>\n      <td>6</td>\n    </tr>\n    <tr>\n      <th>8</th>\n      <td>ACCOUNTANT</td>\n      <td>7</td>\n    </tr>\n    <tr>\n      <th>10</th>\n      <td>ADVOCATE</td>\n      <td>8</td>\n    </tr>\n    <tr>\n      <th>14</th>\n      <td>DESIGNER</td>\n      <td>9</td>\n    </tr>\n    <tr>\n      <th>19</th>\n      <td>ENGINEERING</td>\n      <td>10</td>\n    </tr>\n    <tr>\n      <th>21</th>\n      <td>FITNESS</td>\n      <td>11</td>\n    </tr>\n    <tr>\n      <th>24</th>\n      <td>PUBLIC-RELATIONS</td>\n      <td>12</td>\n    </tr>\n    <tr>\n      <th>29</th>\n      <td>CHEF</td>\n      <td>13</td>\n    </tr>\n    <tr>\n      <th>33</th>\n      <td>CONSTRUCTION</td>\n      <td>14</td>\n    </tr>\n    <tr>\n      <th>42</th>\n      <td>APPAREL</td>\n      <td>15</td>\n    </tr>\n    <tr>\n      <th>44</th>\n      <td>HR</td>\n      <td>16</td>\n    </tr>\n    <tr>\n      <th>45</th>\n      <td>HEALTHCARE</td>\n      <td>17</td>\n    </tr>\n    <tr>\n      <th>47</th>\n      <td>TEACHER</td>\n      <td>18</td>\n    </tr>\n    <tr>\n      <th>58</th>\n      <td>BUSINESS-DEVELOPMENT</td>\n      <td>19</td>\n    </tr>\n    <tr>\n      <th>67</th>\n      <td>FINANCE</td>\n      <td>20</td>\n    </tr>\n    <tr>\n      <th>89</th>\n      <td>AUTOMOBILE</td>\n      <td>21</td>\n    </tr>\n    <tr>\n      <th>103</th>\n      <td>BPO</td>\n      <td>22</td>\n    </tr>\n    <tr>\n      <th>119</th>\n      <td>AGRICULTURE</td>\n      <td>23</td>\n    </tr>\n  </tbody>\n</table>\n</div>"
     },
     "execution_count": 19,
     "metadata": {},
     "output_type": "execute_result"
    }
   ],
   "source": [
    "category_id_df"
   ]
  },
  {
   "cell_type": "code",
   "execution_count": 20,
   "id": "42a9c2be",
   "metadata": {},
   "outputs": [
    {
     "data": {
      "text/plain": "<Figure size 720x720 with 2 Axes>",
      "image/png": "[encoded data removed]"
     },
     "metadata": {
      "needs_background": "light"
     },
     "output_type": "display_data"
    }
   ],
   "source": [
    "model = LinearSVC()\n",
    "X_train, X_test, y_train, y_test, indices_train, indices_test = train_test_split(features, labels, df_new.index, test_size=0.33, random_state=0)\n",
    "model.fit(X_train, y_train)\n",
    "y_pred = model.predict(X_test)\n",
    "from sklearn.metrics import confusion_matrix\n",
    "conf_mat = confusion_matrix(y_test, y_pred)\n",
    "fig, ax = plt.subplots(figsize=(10,10))\n",
    "sns.heatmap(conf_mat, annot=True, fmt='d',\n",
    "            xticklabels=category_id_df[\"class\"].values, yticklabels=category_id_df[\"class\"].values)\n",
    "plt.ylabel('Actual')\n",
    "plt.xlabel('Predicted')\n",
    "plt.show()"
   ]
  },
  {
   "cell_type": "code",
   "execution_count": 21,
   "id": "312df04f",
   "metadata": {},
   "outputs": [
    {
     "name": "stdout",
     "output_type": "stream",
     "text": [
      "'APPAREL' predicted as 'SALES' : 8 examples.\n"
     ]
    },
    {
     "data": {
      "text/plain": "        class                                               text\n1036  APPAREL  Rachel Guardado Summary Polished professional ...\n621   APPAREL  STYLIST Objective internship opportunity under...\n1647  APPAREL   HOLDER Summary Highly organized efficient mul...\n778   APPAREL  APPAREL ASSOCIATE Summary organized detailorie...\n194   APPAREL  GENERAL MANAGER Summary company that would off...\n1988  APPAREL  CUSTOMER SERVICE MANAGER Summary Pleasant ener...\n1450  APPAREL  CUSTOMER SERVICE SPECIALIST Summary Detailorie...\n1079  APPAREL  CASHIER Professional Profile Responsible Cashi...",
      "text/html": "<div>\n<style scoped>\n    .dataframe tbody tr th:only-of-type {\n        vertical-align: middle;\n    }\n\n    .dataframe tbody tr th {\n        vertical-align: top;\n    }\n\n    .dataframe thead th {\n        text-align: right;\n    }\n</style>\n<table border=\"1\" class=\"dataframe\">\n  <thead>\n    <tr style=\"text-align: right;\">\n      <th></th>\n      <th>class</th>\n      <th>text</th>\n    </tr>\n  </thead>\n  <tbody>\n    <tr>\n      <th>1036</th>\n      <td>APPAREL</td>\n      <td>Rachel Guardado Summary Polished professional ...</td>\n    </tr>\n    <tr>\n      <th>621</th>\n      <td>APPAREL</td>\n      <td>STYLIST Objective internship opportunity under...</td>\n    </tr>\n    <tr>\n      <th>1647</th>\n      <td>APPAREL</td>\n      <td>HOLDER Summary Highly organized efficient mul...</td>\n    </tr>\n    <tr>\n      <th>778</th>\n      <td>APPAREL</td>\n      <td>APPAREL ASSOCIATE Summary organized detailorie...</td>\n    </tr>\n    <tr>\n      <th>194</th>\n      <td>APPAREL</td>\n      <td>GENERAL MANAGER Summary company that would off...</td>\n    </tr>\n    <tr>\n      <th>1988</th>\n      <td>APPAREL</td>\n      <td>CUSTOMER SERVICE MANAGER Summary Pleasant ener...</td>\n    </tr>\n    <tr>\n      <th>1450</th>\n      <td>APPAREL</td>\n      <td>CUSTOMER SERVICE SPECIALIST Summary Detailorie...</td>\n    </tr>\n    <tr>\n      <th>1079</th>\n      <td>APPAREL</td>\n      <td>CASHIER Professional Profile Responsible Cashi...</td>\n    </tr>\n  </tbody>\n</table>\n</div>"
     },
     "metadata": {},
     "output_type": "display_data"
    },
    {
     "name": "stdout",
     "output_type": "stream",
     "text": [
      "\n",
      "'CONSULTANT' predicted as 'INFORMATION-TECHNOLOGY' : 5 examples.\n"
     ]
    },
    {
     "data": {
      "text/plain": "           class                                               text\n425   CONSULTANT  CONSULTANT Summary Indepth knowledge understan...\n1977  CONSULTANT  Pavithra Shetty Summary Customeroriented Princ...\n2279  CONSULTANT   CONSULTANT Professional Summary Support Engin...\n723   CONSULTANT   CONSULTANT Professional Summary Talented prof...\n187   CONSULTANT  CONSULTANT Career Overview highly motivated te...",
      "text/html": "<div>\n<style scoped>\n    .dataframe tbody tr th:only-of-type {\n        vertical-align: middle;\n    }\n\n    .dataframe tbody tr th {\n        vertical-align: top;\n    }\n\n    .dataframe thead th {\n        text-align: right;\n    }\n</style>\n<table border=\"1\" class=\"dataframe\">\n  <thead>\n    <tr style=\"text-align: right;\">\n      <th></th>\n      <th>class</th>\n      <th>text</th>\n    </tr>\n  </thead>\n  <tbody>\n    <tr>\n      <th>425</th>\n      <td>CONSULTANT</td>\n      <td>CONSULTANT Summary Indepth knowledge understan...</td>\n    </tr>\n    <tr>\n      <th>1977</th>\n      <td>CONSULTANT</td>\n      <td>Pavithra Shetty Summary Customeroriented Princ...</td>\n    </tr>\n    <tr>\n      <th>2279</th>\n      <td>CONSULTANT</td>\n      <td>CONSULTANT Professional Summary Support Engin...</td>\n    </tr>\n    <tr>\n      <th>723</th>\n      <td>CONSULTANT</td>\n      <td>CONSULTANT Professional Summary Talented prof...</td>\n    </tr>\n    <tr>\n      <th>187</th>\n      <td>CONSULTANT</td>\n      <td>CONSULTANT Career Overview highly motivated te...</td>\n    </tr>\n  </tbody>\n</table>\n</div>"
     },
     "metadata": {},
     "output_type": "display_data"
    },
    {
     "name": "stdout",
     "output_type": "stream",
     "text": [
      "\n",
      "'FINANCE' predicted as 'ACCOUNTANT' : 7 examples.\n"
     ]
    },
    {
     "data": {
      "text/plain": "        class                                               text\n1739  FINANCE  FINANCE CUSTOMER CARE LEAD Summary Property Ma...\n76    FINANCE  FINANCE OFFICE MANAGER Summary Dedicated Finan...\n1354  FINANCE  FINANCE PROJECT COORDINATOR Summary Accommodat...\n175   FINANCE  FINANCE COORDINATOR Summary acquire position t...\n512   FINANCE  FINANCE SPECIALIST Summary Highly motivated re...\n1830  FINANCE  FINANCE SPECIALIST Summary work professional e...\n735   FINANCE  FINANCE ASSISTANT Professional Summary College...",
      "text/html": "<div>\n<style scoped>\n    .dataframe tbody tr th:only-of-type {\n        vertical-align: middle;\n    }\n\n    .dataframe tbody tr th {\n        vertical-align: top;\n    }\n\n    .dataframe thead th {\n        text-align: right;\n    }\n</style>\n<table border=\"1\" class=\"dataframe\">\n  <thead>\n    <tr style=\"text-align: right;\">\n      <th></th>\n      <th>class</th>\n      <th>text</th>\n    </tr>\n  </thead>\n  <tbody>\n    <tr>\n      <th>1739</th>\n      <td>FINANCE</td>\n      <td>FINANCE CUSTOMER CARE LEAD Summary Property Ma...</td>\n    </tr>\n    <tr>\n      <th>76</th>\n      <td>FINANCE</td>\n      <td>FINANCE OFFICE MANAGER Summary Dedicated Finan...</td>\n    </tr>\n    <tr>\n      <th>1354</th>\n      <td>FINANCE</td>\n      <td>FINANCE PROJECT COORDINATOR Summary Accommodat...</td>\n    </tr>\n    <tr>\n      <th>175</th>\n      <td>FINANCE</td>\n      <td>FINANCE COORDINATOR Summary acquire position t...</td>\n    </tr>\n    <tr>\n      <th>512</th>\n      <td>FINANCE</td>\n      <td>FINANCE SPECIALIST Summary Highly motivated re...</td>\n    </tr>\n    <tr>\n      <th>1830</th>\n      <td>FINANCE</td>\n      <td>FINANCE SPECIALIST Summary work professional e...</td>\n    </tr>\n    <tr>\n      <th>735</th>\n      <td>FINANCE</td>\n      <td>FINANCE ASSISTANT Professional Summary College...</td>\n    </tr>\n  </tbody>\n</table>\n</div>"
     },
     "metadata": {},
     "output_type": "display_data"
    },
    {
     "name": "stdout",
     "output_type": "stream",
     "text": [
      "\n",
      "'AVIATION' predicted as 'ENGINEERING' : 7 examples.\n"
     ]
    },
    {
     "data": {
      "text/plain": "         class                                               text\n670   AVIATION  OPERATOR Summary TESTING TRAINING LEAN SIGMA E...\n2299  AVIATION  SOFTWARE ENGINEERING COOP Summary Highly skill...\n124   AVIATION  AVIATION FUEL QUALITY CONTROL SPECIALIST Profe...\n37    AVIATION  PRODUCTION SUPERVISOR VALUE STREAM LEADER Summ...\n1205  AVIATION  SIMULATOR TECHNICIAN Summary Experienced Elect...\n838   AVIATION  BAKERY ENTREPRENEUR Summary Comprehensive expe...\n2110  AVIATION  AVIATION ENGINEER Profile Innovative Electrica...",
      "text/html": "<div>\n<style scoped>\n    .dataframe tbody tr th:only-of-type {\n        vertical-align: middle;\n    }\n\n    .dataframe tbody tr th {\n        vertical-align: top;\n    }\n\n    .dataframe thead th {\n        text-align: right;\n    }\n</style>\n<table border=\"1\" class=\"dataframe\">\n  <thead>\n    <tr style=\"text-align: right;\">\n      <th></th>\n      <th>class</th>\n      <th>text</th>\n    </tr>\n  </thead>\n  <tbody>\n    <tr>\n      <th>670</th>\n      <td>AVIATION</td>\n      <td>OPERATOR Summary TESTING TRAINING LEAN SIGMA E...</td>\n    </tr>\n    <tr>\n      <th>2299</th>\n      <td>AVIATION</td>\n      <td>SOFTWARE ENGINEERING COOP Summary Highly skill...</td>\n    </tr>\n    <tr>\n      <th>124</th>\n      <td>AVIATION</td>\n      <td>AVIATION FUEL QUALITY CONTROL SPECIALIST Profe...</td>\n    </tr>\n    <tr>\n      <th>37</th>\n      <td>AVIATION</td>\n      <td>PRODUCTION SUPERVISOR VALUE STREAM LEADER Summ...</td>\n    </tr>\n    <tr>\n      <th>1205</th>\n      <td>AVIATION</td>\n      <td>SIMULATOR TECHNICIAN Summary Experienced Elect...</td>\n    </tr>\n    <tr>\n      <th>838</th>\n      <td>AVIATION</td>\n      <td>BAKERY ENTREPRENEUR Summary Comprehensive expe...</td>\n    </tr>\n    <tr>\n      <th>2110</th>\n      <td>AVIATION</td>\n      <td>AVIATION ENGINEER Profile Innovative Electrica...</td>\n    </tr>\n  </tbody>\n</table>\n</div>"
     },
     "metadata": {},
     "output_type": "display_data"
    },
    {
     "name": "stdout",
     "output_type": "stream",
     "text": [
      "\n",
      "'DIGITAL-MEDIA' predicted as 'PUBLIC-RELATIONS' : 7 examples.\n"
     ]
    },
    {
     "data": {
      "text/plain": "              class                                               text\n1160  DIGITAL-MEDIA  DIGITAL CONTENT EDITOR Summary devoted writer ...\n2396  DIGITAL-MEDIA  DIRECTOR DONOR RELATIONS Professional Summary ...\n1217  DIGITAL-MEDIA  MEDIA ACTIVITIES SPECIALIST Summary MultiTaski...\n743   DIGITAL-MEDIA  OWNERPRESIDENT Professional Profile seasoned m...\n676   DIGITAL-MEDIA  MEDIA WEATHER FORECASTER Summary Skilled weath...\n2200  DIGITAL-MEDIA  MEDIA SPECIALIST Professional Summary want con...\n1299  DIGITAL-MEDIA  DIGITAL MARKETING INTERN Education Bachelor Ar...",
      "text/html": "<div>\n<style scoped>\n    .dataframe tbody tr th:only-of-type {\n        vertical-align: middle;\n    }\n\n    .dataframe tbody tr th {\n        vertical-align: top;\n    }\n\n    .dataframe thead th {\n        text-align: right;\n    }\n</style>\n<table border=\"1\" class=\"dataframe\">\n  <thead>\n    <tr style=\"text-align: right;\">\n      <th></th>\n      <th>class</th>\n      <th>text</th>\n    </tr>\n  </thead>\n  <tbody>\n    <tr>\n      <th>1160</th>\n      <td>DIGITAL-MEDIA</td>\n      <td>DIGITAL CONTENT EDITOR Summary devoted writer ...</td>\n    </tr>\n    <tr>\n      <th>2396</th>\n      <td>DIGITAL-MEDIA</td>\n      <td>DIRECTOR DONOR RELATIONS Professional Summary ...</td>\n    </tr>\n    <tr>\n      <th>1217</th>\n      <td>DIGITAL-MEDIA</td>\n      <td>MEDIA ACTIVITIES SPECIALIST Summary MultiTaski...</td>\n    </tr>\n    <tr>\n      <th>743</th>\n      <td>DIGITAL-MEDIA</td>\n      <td>OWNERPRESIDENT Professional Profile seasoned m...</td>\n    </tr>\n    <tr>\n      <th>676</th>\n      <td>DIGITAL-MEDIA</td>\n      <td>MEDIA WEATHER FORECASTER Summary Skilled weath...</td>\n    </tr>\n    <tr>\n      <th>2200</th>\n      <td>DIGITAL-MEDIA</td>\n      <td>MEDIA SPECIALIST Professional Summary want con...</td>\n    </tr>\n    <tr>\n      <th>1299</th>\n      <td>DIGITAL-MEDIA</td>\n      <td>DIGITAL MARKETING INTERN Education Bachelor Ar...</td>\n    </tr>\n  </tbody>\n</table>\n</div>"
     },
     "metadata": {},
     "output_type": "display_data"
    },
    {
     "name": "stdout",
     "output_type": "stream",
     "text": [
      "\n",
      "'ADVOCATE' predicted as 'HEALTHCARE' : 8 examples.\n"
     ]
    },
    {
     "data": {
      "text/plain": "         class                                               text\n530   ADVOCATE  REGISTERED NURSE CLINICAL CARE COORDINATOR FIR...\n757   ADVOCATE  ADMINISTRATION ASSISTANT Professional Summary ...\n1592  ADVOCATE  CUSTOMER SERVICE AGENT Professional Summary ob...\n1957  ADVOCATE  FACULTY CLINICAL INSTRUCTOR CLINICAL COORDINAT...\n1560  ADVOCATE  PRACTICUM EXPERIENCE Summary Nurse Practitione...\n708   ADVOCATE  PATIENT SERVICE REPRESENTATIVE Summary Seeking...\n1285  ADVOCATE   COORDINATOR Skills Skills Used enjoy challeng...\n1081  ADVOCATE   ASST HEAD NURSE PRACTICE LEADER Skills care p...",
      "text/html": "<div>\n<style scoped>\n    .dataframe tbody tr th:only-of-type {\n        vertical-align: middle;\n    }\n\n    .dataframe tbody tr th {\n        vertical-align: top;\n    }\n\n    .dataframe thead th {\n        text-align: right;\n    }\n</style>\n<table border=\"1\" class=\"dataframe\">\n  <thead>\n    <tr style=\"text-align: right;\">\n      <th></th>\n      <th>class</th>\n      <th>text</th>\n    </tr>\n  </thead>\n  <tbody>\n    <tr>\n      <th>530</th>\n      <td>ADVOCATE</td>\n      <td>REGISTERED NURSE CLINICAL CARE COORDINATOR FIR...</td>\n    </tr>\n    <tr>\n      <th>757</th>\n      <td>ADVOCATE</td>\n      <td>ADMINISTRATION ASSISTANT Professional Summary ...</td>\n    </tr>\n    <tr>\n      <th>1592</th>\n      <td>ADVOCATE</td>\n      <td>CUSTOMER SERVICE AGENT Professional Summary ob...</td>\n    </tr>\n    <tr>\n      <th>1957</th>\n      <td>ADVOCATE</td>\n      <td>FACULTY CLINICAL INSTRUCTOR CLINICAL COORDINAT...</td>\n    </tr>\n    <tr>\n      <th>1560</th>\n      <td>ADVOCATE</td>\n      <td>PRACTICUM EXPERIENCE Summary Nurse Practitione...</td>\n    </tr>\n    <tr>\n      <th>708</th>\n      <td>ADVOCATE</td>\n      <td>PATIENT SERVICE REPRESENTATIVE Summary Seeking...</td>\n    </tr>\n    <tr>\n      <th>1285</th>\n      <td>ADVOCATE</td>\n      <td>COORDINATOR Skills Skills Used enjoy challeng...</td>\n    </tr>\n    <tr>\n      <th>1081</th>\n      <td>ADVOCATE</td>\n      <td>ASST HEAD NURSE PRACTICE LEADER Skills care p...</td>\n    </tr>\n  </tbody>\n</table>\n</div>"
     },
     "metadata": {},
     "output_type": "display_data"
    },
    {
     "name": "stdout",
     "output_type": "stream",
     "text": [
      "\n",
      "'ARTS' predicted as 'TEACHER' : 17 examples.\n"
     ]
    },
    {
     "data": {
      "text/plain": "     class                                               text\n1821  ARTS  VISUAL ARTS TEACHER Summary education professi...\n1074  ARTS  OPERATIONS COORDINATOR Summary Dedicated focus...\n1487  ARTS   HIGH SCHOOL ENGLISH LANGUAGE ARTS TEACHER Pro...\n1140  ARTS  BILINGUAL LANGUAGE ARTS SIXTH GRADE TEACHER Su...\n1782  ARTS  ARTS EDUCATOR Summary Creative innovative teac...\n665   ARTS  THEATER ARTS TEACHER PROGRAM DIRECTOR Summary ...\n2444  ARTS  ARTS INSTRUCTOR Summary Motivated teaching pro...\n384   ARTS  ONLINE LEARNING COORDINATOR PROGRAM TRAINING S...\n52    ARTS  SHIFT SUPERVISOR Summary Serviceoriented Shift...\n1453  ARTS  INTERVENTION SPECIALIST TEACHER MATH LANGUAGE ...\n1559  ARTS  NATIONAL SALES MANAGER Summary desire advance ...\n2044  ARTS  SIXTH GRADE ENGLISH LANGUAGE ARTS TEACHER Prof...\n880   ARTS   LANGUAGE ARTS GRADE TEACHER Summary Enthusias...\n2038  ARTS  TALENTED ARTS PROGRAM INSTRUCTIONAL COORDINATO...\n2147  ARTS   GRADE LANGUAGE ARTS TEACHER Summary Teacher w...\n1485  ARTS  MIDDLE SCHOOL PRINCIPAL Executive Profile obta...\n564   ARTS  LANGUAGE ARTS TEACHER Professional Summary con...",
      "text/html": "<div>\n<style scoped>\n    .dataframe tbody tr th:only-of-type {\n        vertical-align: middle;\n    }\n\n    .dataframe tbody tr th {\n        vertical-align: top;\n    }\n\n    .dataframe thead th {\n        text-align: right;\n    }\n</style>\n<table border=\"1\" class=\"dataframe\">\n  <thead>\n    <tr style=\"text-align: right;\">\n      <th></th>\n      <th>class</th>\n      <th>text</th>\n    </tr>\n  </thead>\n  <tbody>\n    <tr>\n      <th>1821</th>\n      <td>ARTS</td>\n      <td>VISUAL ARTS TEACHER Summary education professi...</td>\n    </tr>\n    <tr>\n      <th>1074</th>\n      <td>ARTS</td>\n      <td>OPERATIONS COORDINATOR Summary Dedicated focus...</td>\n    </tr>\n    <tr>\n      <th>1487</th>\n      <td>ARTS</td>\n      <td>HIGH SCHOOL ENGLISH LANGUAGE ARTS TEACHER Pro...</td>\n    </tr>\n    <tr>\n      <th>1140</th>\n      <td>ARTS</td>\n      <td>BILINGUAL LANGUAGE ARTS SIXTH GRADE TEACHER Su...</td>\n    </tr>\n    <tr>\n      <th>1782</th>\n      <td>ARTS</td>\n      <td>ARTS EDUCATOR Summary Creative innovative teac...</td>\n    </tr>\n    <tr>\n      <th>665</th>\n      <td>ARTS</td>\n      <td>THEATER ARTS TEACHER PROGRAM DIRECTOR Summary ...</td>\n    </tr>\n    <tr>\n      <th>2444</th>\n      <td>ARTS</td>\n      <td>ARTS INSTRUCTOR Summary Motivated teaching pro...</td>\n    </tr>\n    <tr>\n      <th>384</th>\n      <td>ARTS</td>\n      <td>ONLINE LEARNING COORDINATOR PROGRAM TRAINING S...</td>\n    </tr>\n    <tr>\n      <th>52</th>\n      <td>ARTS</td>\n      <td>SHIFT SUPERVISOR Summary Serviceoriented Shift...</td>\n    </tr>\n    <tr>\n      <th>1453</th>\n      <td>ARTS</td>\n      <td>INTERVENTION SPECIALIST TEACHER MATH LANGUAGE ...</td>\n    </tr>\n    <tr>\n      <th>1559</th>\n      <td>ARTS</td>\n      <td>NATIONAL SALES MANAGER Summary desire advance ...</td>\n    </tr>\n    <tr>\n      <th>2044</th>\n      <td>ARTS</td>\n      <td>SIXTH GRADE ENGLISH LANGUAGE ARTS TEACHER Prof...</td>\n    </tr>\n    <tr>\n      <th>880</th>\n      <td>ARTS</td>\n      <td>LANGUAGE ARTS GRADE TEACHER Summary Enthusias...</td>\n    </tr>\n    <tr>\n      <th>2038</th>\n      <td>ARTS</td>\n      <td>TALENTED ARTS PROGRAM INSTRUCTIONAL COORDINATO...</td>\n    </tr>\n    <tr>\n      <th>2147</th>\n      <td>ARTS</td>\n      <td>GRADE LANGUAGE ARTS TEACHER Summary Teacher w...</td>\n    </tr>\n    <tr>\n      <th>1485</th>\n      <td>ARTS</td>\n      <td>MIDDLE SCHOOL PRINCIPAL Executive Profile obta...</td>\n    </tr>\n    <tr>\n      <th>564</th>\n      <td>ARTS</td>\n      <td>LANGUAGE ARTS TEACHER Professional Summary con...</td>\n    </tr>\n  </tbody>\n</table>\n</div>"
     },
     "metadata": {},
     "output_type": "display_data"
    },
    {
     "name": "stdout",
     "output_type": "stream",
     "text": [
      "\n",
      "'SALES' predicted as 'BUSINESS-DEVELOPMENT' : 8 examples.\n"
     ]
    },
    {
     "data": {
      "text/plain": "      class                                               text\n1772  SALES  SALES Summary Bilingual Account Executive with...\n2224  SALES  SALES EXECUTIVE Summary SALES EXECUTIVE Result...\n805   SALES  SALES Executive Summary Twenty years experienc...\n22    SALES  SALES ASSOCIATE Summary SALES BUSINESS DEVELOP...\n1363  SALES  SALES ASSOCIATE Summary further career sales c...\n1537  SALES   SALES CONSULTANT Summary Highly motivated com...\n11    SALES  SALES Career Focus Sales Marketing expertise i...\n253   SALES  SALES Professional Summary Experienced manager...",
      "text/html": "<div>\n<style scoped>\n    .dataframe tbody tr th:only-of-type {\n        vertical-align: middle;\n    }\n\n    .dataframe tbody tr th {\n        vertical-align: top;\n    }\n\n    .dataframe thead th {\n        text-align: right;\n    }\n</style>\n<table border=\"1\" class=\"dataframe\">\n  <thead>\n    <tr style=\"text-align: right;\">\n      <th></th>\n      <th>class</th>\n      <th>text</th>\n    </tr>\n  </thead>\n  <tbody>\n    <tr>\n      <th>1772</th>\n      <td>SALES</td>\n      <td>SALES Summary Bilingual Account Executive with...</td>\n    </tr>\n    <tr>\n      <th>2224</th>\n      <td>SALES</td>\n      <td>SALES EXECUTIVE Summary SALES EXECUTIVE Result...</td>\n    </tr>\n    <tr>\n      <th>805</th>\n      <td>SALES</td>\n      <td>SALES Executive Summary Twenty years experienc...</td>\n    </tr>\n    <tr>\n      <th>22</th>\n      <td>SALES</td>\n      <td>SALES ASSOCIATE Summary SALES BUSINESS DEVELOP...</td>\n    </tr>\n    <tr>\n      <th>1363</th>\n      <td>SALES</td>\n      <td>SALES ASSOCIATE Summary further career sales c...</td>\n    </tr>\n    <tr>\n      <th>1537</th>\n      <td>SALES</td>\n      <td>SALES CONSULTANT Summary Highly motivated com...</td>\n    </tr>\n    <tr>\n      <th>11</th>\n      <td>SALES</td>\n      <td>SALES Career Focus Sales Marketing expertise i...</td>\n    </tr>\n    <tr>\n      <th>253</th>\n      <td>SALES</td>\n      <td>SALES Professional Summary Experienced manager...</td>\n    </tr>\n  </tbody>\n</table>\n</div>"
     },
     "metadata": {},
     "output_type": "display_data"
    },
    {
     "name": "stdout",
     "output_type": "stream",
     "text": [
      "\n"
     ]
    }
   ],
   "source": [
    "from IPython.display import display\n",
    "\n",
    "for predicted in category_id_df.category_id:\n",
    "    \n",
    "    for actual in category_id_df.category_id:\n",
    "       \n",
    "        if predicted != actual and conf_mat[actual, predicted] >= 5:\n",
    "            \n",
    "            print(\"'{}' predicted as '{}' : {} examples.\".format(id_to_category[actual], id_to_category[predicted], conf_mat[actual, predicted]))\n",
    "            display(df.loc[indices_test[(y_test == actual) & (y_pred == predicted)]][['class', 'text']])\n",
    "            print('')"
   ]
  },
  {
   "cell_type": "code",
   "execution_count": 22,
   "id": "bbd5a473",
   "metadata": {},
   "outputs": [
    {
     "name": "stdout",
     "output_type": "stream",
     "text": [
      "# 'ACCOUNTANT':\n",
      "  . Top unigrams:\n",
      "       . accountant\n",
      "       . accounting\n",
      "  . Top bigrams:\n",
      "       . accountant summary\n",
      "       . accountant company\n",
      "# 'ADVOCATE':\n",
      "  . Top unigrams:\n",
      "       . advocate\n",
      "       . child\n",
      "  . Top bigrams:\n",
      "       . advocate summary\n",
      "       . advocate company\n",
      "# 'AGRICULTURE':\n",
      "  . Top unigrams:\n",
      "       . agriculture\n",
      "       . agricultural\n",
      "  . Top bigrams:\n",
      "       . natural resources\n",
      "       . research assistant\n",
      "# 'APPAREL':\n",
      "  . Top unigrams:\n",
      "       . apparel\n",
      "       . merchandising\n",
      "  . Top bigrams:\n",
      "       . product development\n",
      "       . sales floor\n",
      "# 'ARTS':\n",
      "  . Top unigrams:\n",
      "       . arts\n",
      "       . martial\n",
      "  . Top bigrams:\n",
      "       . arts teacher\n",
      "       . language arts\n",
      "# 'AUTOMOBILE':\n",
      "  . Top unigrams:\n",
      "       . automobile\n",
      "       . auto\n",
      "  . Top bigrams:\n",
      "       . liability claims\n",
      "       . automobile service\n",
      "# 'AVIATION':\n",
      "  . Top unigrams:\n",
      "       . aviation\n",
      "       . aircraft\n",
      "  . Top bigrams:\n",
      "       . aviation supply\n",
      "       . state aviation\n",
      "# 'BANKING':\n",
      "  . Top unigrams:\n",
      "       . banking\n",
      "       . loan\n",
      "  . Top bigrams:\n",
      "       . investment banking\n",
      "       . business banking\n",
      "# 'BPO':\n",
      "  . Top unigrams:\n",
      "       . metrics\n",
      "       . india\n",
      "  . Top bigrams:\n",
      "       . google maps\n",
      "       . customer services\n",
      "# 'BUSINESS-DEVELOPMENT':\n",
      "  . Top unigrams:\n",
      "       . development\n",
      "       . business\n",
      "  . Top bigrams:\n",
      "       . business development\n",
      "       . development manager\n",
      "# 'CHEF':\n",
      "  . Top unigrams:\n",
      "       . chef\n",
      "       . kitchen\n",
      "  . Top bigrams:\n",
      "       . executive chef\n",
      "       . chef company\n",
      "# 'CONSTRUCTION':\n",
      "  . Top unigrams:\n",
      "       . construction\n",
      "       . concrete\n",
      "  . Top bigrams:\n",
      "       . construction manager\n",
      "       . construction projects\n",
      "# 'CONSULTANT':\n",
      "  . Top unigrams:\n",
      "       . consultant\n",
      "       . consulting\n",
      "  . Top bigrams:\n",
      "       . experience consultant\n",
      "       . consultant summary\n",
      "# 'DESIGNER':\n",
      "  . Top unigrams:\n",
      "       . designer\n",
      "       . design\n",
      "  . Top bigrams:\n",
      "       . designer company\n",
      "       . designer summary\n",
      "# 'DIGITAL-MEDIA':\n",
      "  . Top unigrams:\n",
      "       . digital\n",
      "       . media\n",
      "  . Top bigrams:\n",
      "       . digital media\n",
      "       . digital marketing\n",
      "# 'ENGINEERING':\n",
      "  . Top unigrams:\n",
      "       . engineering\n",
      "       . manufacturing\n",
      "  . Top bigrams:\n",
      "       . experience engineering\n",
      "       . engineering technician\n",
      "# 'FINANCE':\n",
      "  . Top unigrams:\n",
      "       . finance\n",
      "       . financial\n",
      "  . Top bigrams:\n",
      "       . finance manager\n",
      "       . experience finance\n",
      "# 'FITNESS':\n",
      "  . Top unigrams:\n",
      "       . fitness\n",
      "       . exercise\n",
      "  . Top bigrams:\n",
      "       . fitness instructor\n",
      "       . personal training\n",
      "# 'HEALTHCARE':\n",
      "  . Top unigrams:\n",
      "       . healthcare\n",
      "       . medical\n",
      "  . Top bigrams:\n",
      "       . state healthcare\n",
      "       . healthcare management\n",
      "# 'HR':\n",
      "  . Top unigrams:\n",
      "       . employee\n",
      "       . human\n",
      "  . Top bigrams:\n",
      "       . human resources\n",
      "       . employee relations\n",
      "# 'INFORMATION-TECHNOLOGY':\n",
      "  . Top unigrams:\n",
      "       . technology\n",
      "       . network\n",
      "  . Top bigrams:\n",
      "       . information technology\n",
      "       . technology specialist\n",
      "# 'PUBLIC-RELATIONS':\n",
      "  . Top unigrams:\n",
      "       . public\n",
      "       . press\n",
      "  . Top bigrams:\n",
      "       . public relations\n",
      "       . press releases\n",
      "# 'SALES':\n",
      "  . Top unigrams:\n",
      "       . sales\n",
      "       . associate\n",
      "  . Top bigrams:\n",
      "       . experience sales\n",
      "       . sales associate\n",
      "# 'TEACHER':\n",
      "  . Top unigrams:\n",
      "       . teacher\n",
      "       . classroom\n",
      "  . Top bigrams:\n",
      "       . teacher company\n",
      "       . teacher summary\n"
     ]
    }
   ],
   "source": [
    "model.fit(features, labels)\n",
    "N = 2\n",
    "for Product, category_id in sorted(category_to_id.items()):\n",
    "    indices = np.argsort(model.coef_[category_id])\n",
    "    feature_names = np.array(tfidf.get_feature_names())[indices]\n",
    "    unigrams = [v for v in reversed(feature_names) if len(v.split(' ')) == 1][:N]\n",
    "    bigrams = [v for v in reversed(feature_names) if len(v.split(' ')) == 2][:N]\n",
    "    print(\"# '{}':\".format(Product))\n",
    "    print(\"  . Top unigrams:\\n       . {}\".format('\\n       . '.join(unigrams)))\n",
    "    print(\"  . Top bigrams:\\n       . {}\".format('\\n       . '.join(bigrams)))\n"
   ]
  },
  {
   "cell_type": "code",
   "execution_count": 23,
   "id": "6dc77775",
   "metadata": {},
   "outputs": [
    {
     "name": "stdout",
     "output_type": "stream",
     "text": [
      "                        precision    recall  f1-score   support\n",
      "\n",
      "         DIGITAL-MEDIA       0.73      0.48      0.58        33\n",
      "                 SALES       0.42      0.55      0.48        38\n",
      "INFORMATION-TECHNOLOGY       0.60      0.91      0.72        33\n",
      "                  ARTS       0.50      0.03      0.05        38\n",
      "            CONSULTANT       0.62      0.13      0.21        39\n",
      "               BANKING       0.65      0.56      0.60        43\n",
      "              AVIATION       0.76      0.64      0.70        45\n",
      "            ACCOUNTANT       0.70      0.90      0.79        39\n",
      "              ADVOCATE       0.54      0.49      0.51        39\n",
      "              DESIGNER       0.69      0.71      0.70        31\n",
      "           ENGINEERING       0.57      0.88      0.69        33\n",
      "               FITNESS       0.76      0.78      0.77        37\n",
      "      PUBLIC-RELATIONS       0.61      0.79      0.69        38\n",
      "                  CHEF       0.81      0.87      0.84        45\n",
      "          CONSTRUCTION       0.89      0.78      0.83        40\n",
      "               APPAREL       0.56      0.28      0.38        32\n",
      "                    HR       0.62      0.89      0.73        36\n",
      "            HEALTHCARE       0.51      0.64      0.57        36\n",
      "               TEACHER       0.53      0.94      0.67        32\n",
      "  BUSINESS-DEVELOPMENT       0.47      0.79      0.59        34\n",
      "               FINANCE       0.86      0.67      0.76        46\n",
      "            AUTOMOBILE       0.67      0.29      0.40         7\n",
      "                   BPO       0.00      0.00      0.00         5\n",
      "           AGRICULTURE       0.67      0.29      0.40        21\n",
      "\n",
      "              accuracy                           0.63       820\n",
      "             macro avg       0.61      0.59      0.57       820\n",
      "          weighted avg       0.64      0.63      0.60       820\n",
      "\n"
     ]
    },
    {
     "name": "stderr",
     "output_type": "stream",
     "text": [
      "/home/kguttas/anaconda3/envs/practica/lib/python3.7/site-packages/sklearn/metrics/_classification.py:1268: UndefinedMetricWarning: Precision and F-score are ill-defined and being set to 0.0 in labels with no predicted samples. Use `zero_division` parameter to control this behavior.\n",
      "  _warn_prf(average, modifier, msg_start, len(result))\n"
     ]
    }
   ],
   "source": [
    "from sklearn import metrics\n",
    "print(metrics.classification_report(y_test, y_pred, target_names=df['class'].unique()))"
   ]
  },
  {
   "cell_type": "markdown",
   "id": "be33b0e0",
   "metadata": {},
   "source": [
    "### Prueba con un CV"
   ]
  },
  {
   "cell_type": "code",
   "execution_count": 24,
   "id": "26f8559e",
   "metadata": {},
   "outputs": [
    {
     "name": "stderr",
     "output_type": "stream",
     "text": [
      "2021-12-17 11:38:45,576 [MainThread  ] [INFO ]  Retrieving http://search.maven.org/remotecontent?filepath=org/apache/tika/tika-server/1.24/tika-server-1.24.jar to /tmp/tika-server.jar.\n",
      "2021-12-17 11:38:50,542 [MainThread  ] [INFO ]  Retrieving http://search.maven.org/remotecontent?filepath=org/apache/tika/tika-server/1.24/tika-server-1.24.jar.md5 to /tmp/tika-server.jar.md5.\n",
      "2021-12-17 11:38:51,913 [MainThread  ] [WARNI]  Failed to see startup log message; retrying...\n"
     ]
    },
    {
     "name": "stdout",
     "output_type": "stream",
     "text": [
      "KIRAN KUMAR \n",
      "Email: kumarjava174@gmail.com                                                                                                                                             \n",
      "\n",
      "Mobile:510-770-6277 \n",
      "Professional Summary \n",
      "\n",
      "• 8+ years of IT experience in design (OOA, OOD), development, testing and documentation of Enterprise applications \n",
      "using J2EE technologies. Worked extensively in J2EE (JSP, Servlets, EJB), Struts, JSF, Spring, Hibernate, IBM Web sphere \n",
      "Application Server, BEA web logic Server 7.x, JDBC, JNDI, XML and RDBMS like Oracle. Strong knowledge in Software \n",
      "Development Life Cycle (SDLC), worked in most of the life cycle phases.  \n",
      "\n",
      "• Good knowledge and working experience in Object Oriented Analysis (OOA) and Object Oriented Design (OOD)  \n",
      "• Working knowledge in multi-tiered distributed environment, OOP concepts, good understanding of Software \n",
      "\n",
      "Development Lifecycle (SDLC)  \n",
      "•  Experience in web application design using open source Spring, JSF & Struts Frameworks and Java & J2EE Design \n",
      "\n",
      "Patterns. \n",
      "•  Experience in client side Technologies such as HTML, CSS, JQuery and JavaScript.  \n",
      "•  Expertise in all Spring Modules such as Spring Core, MVC, Dependency Injection, AOP and Transaction.  \n",
      "• Expertise in Web UI development using JavaScript OOP, AJAX, CSS, (X) HTML. Expertise in XML technologies XPath, \n",
      "\n",
      "XSL, XSLT.  \n",
      "• Extensive experience in implementing MVC framework using Spring, Struts in J2EEarchitecture.  \n",
      "•  Experience in working on various Spring modules (Spring MVC, DAO and AOP) along with Hibernate as the back-end \n",
      "\n",
      "ORM tool for implementation of persistence layer and mapping of POJO's.  \n",
      "• Strong working experience in application development using Core Java, Spring, Hibernate, Web services, JSP, Servlets, \n",
      "\n",
      "SQL, XML, HTML and Tomcat.  \n",
      "•  Experience in Multi-tier web application development using MVC architecture, Design Patterns, Spring Application \n",
      "\n",
      "framework and Hibernate ORM. \n",
      "• Good experience designing databases, ORACLE 8i/9i/10g, MySQL and SQL Server.  \n",
      "• Extensive experience in handling Oracle applications and database administration.  \n",
      "• Experience in managing business/mission critical high availability databases.  \n",
      "• Experience in working with multiple Servers like IBM Web Sphere, Web Logic, JBoss and Apache Tomcat.  \n",
      "• Strong J2EE/Java application development background, with experience in defining functional and technical \n",
      "\n",
      "specifications.  \n",
      "• Experienced in developing applications using Apache Tomcat, BEA Web Logic, and JBoss.  \n",
      "• Expertise in web services technologies such as SOAP, Restful.  \n",
      "• Designed& configured JIRA project dashboards, Agile boards, workflow schemes.  \n",
      "• Configured Issue Security Access Levels/Schemes for finance JIRA projects.  \n",
      "• Intensive knowledge in databases like Oracle, SQL Server, PL/SQL, Queries, Triggers, DB2 Client, Hibernate, and JPA.  \n",
      "• Extensive & expert level of experience with Java Platform, JEE, EJBs, JDBC, JPA, Servlets, JSP, JMS, XML, Applets, \n",
      "\n",
      "JavaScript, POJO.  \n",
      "•  Experience in publishing and consuming SOAP/WSDL/JAX-WS based web services using Apache Axis and JAX-RS \n",
      "\n",
      "based web services using Apache CXF.  \n",
      "• Experience in using DOM and SAX parsers to process, validate, parse and extract data from XML files.  \n",
      "• Worked on developing the automation scripts for back-end testing using Selenium and executed the J unit \n",
      "\n",
      "tests. Implemented automation using Selenium Web Driver, Cucumber, Java, Maven & Jenkins.  \n",
      "• Experienced working with Web services technologies WSDL, JAX-WS, JAXB, JAX-RS. Implemented web application \n",
      "\n",
      "design in MVC architecture using the Struts framework and JSP. \n",
      "•  Expert in using Java IDE's like IntelliJ, Eclipse and NetBeans. Developed internal & external training portal (JSP/Struts, \n",
      "\n",
      "Weblogic, Tomcat, Eclipse, JBuilder.  \n",
      "• In depth exposure to creating API for internal and external application using REST and SOAP based design. Open \n",
      "\n",
      "source framework like Jersey used for create REST API.  \n",
      "• Developed web services in Java and Experienced with SOAP, WSDL.  \n",
      "• Backend as REST API on Java using Java restlet framework.  \n",
      "• Experience in using JavaScript libraries JQuery and frameworks like AngularJS. \n",
      "\n",
      "\n",
      "\n",
      "•  Experience in designing, implementing Web Services using spring REST API, Loopback in producing Restful web \n",
      "services.  \n",
      "\n",
      "•  Strong Experience developing whole client side solution using AngularJS and testing them with protractor.  \n",
      "• Hands on experience with Oracle 8i/9i, Oracle 10g/11g, MS SQL, Postgres databases and writing complex SQL queries, \n",
      "\n",
      "writing Stored Procedures, Functions and Triggers and performed complex database related operations.  \n",
      "• Extensive experience in writing complex SQL Queries using JOINS and also selecting correct join type for efficiency.  \n",
      "• Strong Experience in development methodologies like waterfall, Agile (actively participate in scrums, code reviews, \n",
      "\n",
      "planning sessions), BDD, ATDD.  \n",
      "• Experience in Web Services Technologies like JAXP, JAXB, SOAP, WSDL, UDDI and Service Oriented Architecture (SOA).  \n",
      "\n",
      "And REST Web services written in Groovy wrapped by Jersey JAX-RS  \n",
      "• Experience in client side designing and validations using HTML, DHTML, CSS, Java Script, AJAX and JSP.  \n",
      "• Expertise in various open source frameworks like Struts 2.x, 1.x, spring, JSF, Ext JS and ORM Technology like Hibernate  \n",
      "• Experience in working with the REST web services and implemented in the SOAP UI for developing and testing the web \n",
      "\n",
      "services and parsing the XML files.  \n",
      "• Experience in developing web and enterprise applications using JAVA, J2EE (Servlets, JSP, JDBC, JNDI, XML, EJB, JPA, \n",
      "\n",
      "JMS, XML), JSF, Struts, spring, Hibernate and Web Services.  \n",
      "• Extensive knowledge in working with J2EE technologies such as Servlets, JSP, JDBC, EJB, JNDI, JSF, JavaBeans, JMS and \n",
      "\n",
      "Object Oriented Programming techniques.  \n",
      "• Creating the message from the uploaded information and transaction data and sending this information using SOAP.  \n",
      "\n",
      "And  Storing the SOAP messages received in the JMS Queue of Web Sphere MQ (MQ Series)  \n",
      "• Extensive experience in implementation of the version control software VSS, CVS and Clear Case.  \n",
      "• Experience in various Agile methodologies like Test Driven Development (TDD), SCRUM, and Pair Programming.  \n",
      "• Implemented the project using SOAP based Web Services, WSDL, UDDI, SOAP to communicate with other systems \n",
      "\n",
      "(Geneses, ESKEM legacy systems) by using apache Axis.  \n",
      "TECHNICAL SKILLS  \n",
      " \n",
      " Languages/ Technologies JAVA , JAVAEE, AngularJS, jQuery, HTML4/5, JSP, Servlets, Ajax, CSS2/3, JavaScript, JMS, JTA, \n",
      "\n",
      "Multithreading, Nodejs, RMI, TestNG \n",
      "Frameworks Spring4/3, Struts2, spring boot, spring batch EJB. Hibernate, JDBC, Spring JDBC \n",
      " Web Services REST, SOAP, JAX-RPC.  \n",
      "Cloud Technologies AWS stack( EC2,S3, Simple DB)  \n",
      " Build/ Continuous \n",
      "integration, Deployment \n",
      "\n",
      " Jenkins, Maven, ANT \n",
      "\n",
      "Design and Methodologies Agile, Waterfall, behavior driven development (BDD), Agile test drive development(ATDD).  \n",
      "Tools Eclipse, STS, Net beans  \n",
      "Source Control GitHub, Subversion, CVS, VSS \n",
      "Database/Languages SQL Server, Oracle, SQL, T-SQL, PL/SQL \n",
      "Application Servers Tomcat 5/6/7, Web logic, JBoss 4.1, IIS 7 \n",
      " Operating Systems Windows \n",
      " \n",
      " \n",
      "Work Experience \n",
      " \n",
      "Client: Genentech, CA \n",
      "Role: Java Full Stack Developer \n",
      "Duration: July’ 15 To Till Date \n",
      " \n",
      "Responsibilities:  \n",
      "\n",
      "• Designed application using UML. Elaborated on the Use Cases based on business requirements and was responsible for \n",
      "creation of Class Diagrams and Sequence diagrams.  \n",
      "\n",
      "• Extensive Programming, testing and debugging skills to write new applications.  \n",
      "• Responsibilities included development of new modules of the application such as Web using J2EE 1.6 technologies, \n",
      "\n",
      "Struts and Spring Framework.  \n",
      "\n",
      "\n",
      "\n",
      "• Created Web Services in conformance to SOA architecture.  \n",
      "• Developed templets for Multiple Screens using AngularJs.  \n",
      "• Implemented coding of XML generation out of XSD Adobe schema.  \n",
      "• Building application with JS frameworks Such as Angular JS.  \n",
      "• Used spring framework for dependency injection and integrated with Node JS, Hibernate and JSF.  \n",
      "• Developed MVC controllers and deployed flow of Execution in the Servlet Environment using Spring MVC.  \n",
      "• Extensively used Core Spring Framework for Dependency Injection of components.  \n",
      "• Implemented Web Services using Spring RESTful.  \n",
      "• Implemented REST web service in Scala using Akka for CBPMAN log tracking application.  \n",
      "• Developed Hibernate with Spring Integration as the data abstraction to interact with the database.  \n",
      "• Used Hibernate for mapping Java classes with database and created queries with Hibernate query language (HQL). And \n",
      "\n",
      "Developed model objects using Hibernate.  \n",
      "• Implemented web services (WSDL) and effectively worked with SOAP and XML,XSLT.  \n",
      "• Experience in NoSQL (MongoDB) in using Hierarchy Modelling Techniques like Tree Aggregation, Adjacency Lists and \n",
      "\n",
      "materialized paths.  \n",
      "• Developed Java classes for XML processing and used XSLT for XML parsing  \n",
      "• Develop quality code adhering to Scala coding Standards and best practices.  \n",
      "• Worked extensively on AngularJS/NodeJS creating Controllers.  \n",
      "• Implemented backend process for sending the data through FTP. s  \n",
      "• Worked with JMS as messaging service and JTA for Transaction management and having knowledge with JPA for \n",
      "\n",
      "Java persistence.  \n",
      "• Implemented SOA architecture using SOAP web services by using Apache CXF and JAX-WS.  \n",
      "• Transform the XML Data Using XSL into user required format. \n",
      "• Designed, built, and deployed a multitude applications utilizing almost all of the AWS Stack(Including EC2, MongoDB \n",
      "\n",
      "focusing on high-availability, fault tolerance, and auto-scaling)  \n",
      "• Using JMS to send email or notify companies or users who have subscribed particular services in our product.  And \n",
      "\n",
      "Developed customer facing software for managing advertisements to grow the business using JavaScript/JQuery, \n",
      "HTML 5, and CSS. And Implemented SOAP Client (Consumer) using Apache CXF. \n",
      "\n",
      "• Used Web services - WSDL and SOAP for consuming data from the data center  \n",
      "• Implemented client side Java-beans for DAO pattern. And Used Soap UI for testing the SOAP Web Services.  \n",
      "• Developed Web Service using WSDL, SOAP & UDDI for CTD.  \n",
      "• JQuery High charts plugin integration with databases for displaying custom graphs (line, bar, pie etc.).  \n",
      "• Environment: Java, J2EE 1.6, Agile Scrum, Spring IOC, Spring MVC, Spring RESTful Web service, Hibernate 3.2, JMS, \n",
      "\n",
      "AJAX, Struts JSP, Oracle, Servlets, AngularJs, Javascript, NodeJS,, UML, CSS, Java Script, HTML 5, , Ant, Windows, GIT, \n",
      "Log4j. \n",
      "\n",
      " \n",
      "Client: Invesco, Houston, TX \n",
      "Role: Java Developer \n",
      "Duration:  Aug’ 14 – June’ 15 \n",
      " \n",
      "Responsibilities:  \n",
      "\n",
      "• Gathered system requirements for the application and worked with the business team to review the requirements, and \n",
      "went through the Software Requirement document and Architecture document.  \n",
      "\n",
      "• Implemented code according to coding standards and Created AngularJS Controller, which isolate scopes perform \n",
      "operations.  \n",
      "\n",
      "• Designed and developed User Interface modules using JSP, HTML, and CSS JavaScript \n",
      "• Developed UI using Java, struts, JSP, JDBC, HTML, JavaScript, Log4J, Oracle and SQL Server.  \n",
      "• Developed the Presentation tier using Struts (MVC Architecture).  \n",
      "• Developed web applications by implementing REST JAX-RS web services with annotations and handled XML & JSON as \n",
      "\n",
      "a response from the server.  \n",
      "• Integrated the Java code (API) in JSP pages and responsible for setting up AngularJS framework for UI development. \n",
      "• Developed html views with HTML5, CSS3, bootstrap and AngularJS.  \n",
      "\n",
      "\n",
      "\n",
      "• Developed customer facing software for managing advertisements to grow the business using JavaScript/ JQuery, \n",
      "HTML 5, and CSS.  \n",
      "\n",
      "• Used Struts tag libraries and custom tag libraries extensively while coding JSP pages.  \n",
      "• Involved in designing UML Use case diagrams, Class diagrams, and Sequence diagrams using Rational Rose.  \n",
      "• Worked as a part of Agile SCRUM team for product development.  \n",
      "• Created user-friendly GUI interfaces and Web pages using HTML, JavaScript's.  \n",
      "• Developed client request validations and processed using JavaScript.  \n",
      "• Extensive Programming, testing and debugging skills to write new applications.  \n",
      "• Used TDD methodology to develop the application.  \n",
      "• Integrated Hibernate with spring for Handling Transactions.  \n",
      "• Developed the application using Struts Framework that uses the Model View Controller (MVC) architecture.  \n",
      "• Developed various Struts Action classes in the middle tier and injected Spring Dependency Injection for the service \n",
      "\n",
      "layer implementation. \n",
      "• Developed presentation layer using JSP, HTML5, CSS and JQuery.  \n",
      "• Extensively used Spring IOC for Dependency Injection.  \n",
      "• Used standard J2EE 1.6 design patterns and Model View Controller in application design.  \n",
      "• Used Spring-Hibernate integration and JPA ORM in the back end to fetch data from Oracle and MySQL databases.  \n",
      "• Used Business Delegate, Singleton, Front Controller, Factory and DAO design patterns.  \n",
      "• Developed Action classes and DAO classes to access the database.  \n",
      "• Developed several POJO classes to map the data into java Object.  \n",
      "• Consumed messages from IBM MQ.  \n",
      "• Implemented SOAP Client (Consumer) using Apache CXF.  \n",
      "• Used Java Mail API, and implemented an automated functionality to generate e-mails to the managed whenever a user \n",
      "\n",
      "registers for the applications.  \n",
      "• Used Oracle 11g database for tables creation and involved in writing SQL queries using Joins and Stored Procedures.  \n",
      "• Used Toad database tool to build, edit, and format database queries, as well as eliminate performance issues in the \n",
      "\n",
      "code.  \n",
      "• Created indexes, avoiding inefficient queries, avoiding too many open connections and avoiding inline queries \n",
      "\n",
      "wherever possible.  \n",
      "• Involved in doing performance tuning by observing AWR reports and execution plans.  \n",
      "• Implemented the JMS Queue to receive the input in the form of XML and parsed them through a common XSD. And \n",
      "\n",
      "Implemented JQuery and JSON to minimize code and manage complex data set.  \n",
      "• Used JUnit for testing the application and Maven for building Projects.  \n",
      "• Deployed the applications on Rational Application Developer (RAD).  \n",
      "• Used GIT tool to keep track of all work and all changes in source code, Developed templets for Multiple Screens using \n",
      "\n",
      "AngularJs. And Building application with JS frameworks Such as Angular JS.  \n",
      "• Developed a heavily asynchronous single page application which takes the user through an extensive search criteria \n",
      "\n",
      "and graphs reports using the high charts plugin. And Used Jenkins for Auto builds.  \n",
      "Environment: Java, J2EE 1.6, Spring 3.2, Spring IOC, Hibernate, Struts MVC, MySQL, JSP, HTML 5, CSS, JQuery, Java Mail, AJAX, \n",
      "CVS, XML, XSD, MongoDB, Oracle, Agile Scrum, TDD, SOAP (Apache CXF), WSDL, JUNIT, Ant, UML, Unix, GIT, Oracle 11g, Jenkins, \n",
      "Angular JS, Javascript, NodeJS.. \n",
      " \n",
      "Client:  PAREXEL ,IN \n",
      "Role: Java Developer \n",
      "Duration: May’ 13 - July’ 14 \n",
      "  \n",
      "Responsibilities \n",
      "\n",
      "• Designed use case diagrams, class diagrams, and sequence diagrams as a part of Design Phase using Rational Rose.  \n",
      "• Developed the necessary front end user interfaces in JSP's, HTML, JavaScript, CSS and AngularJS that will be integrated \n",
      "\n",
      "using Spring MVC Framework.  \n",
      "• Developed the entire application implementing MVC Architecture, integrating JSP with Hibernate and struts \n",
      "\n",
      "frameworks.  \n",
      "• Worked extensively on AngularJS creating Controllers.  \n",
      "\n",
      "\n",
      "\n",
      "• Designed User Interface using Java Server Pages (JSP), Cascading Style Sheets (CSS), and XML.  \n",
      "• Developed the Enterprise Java Beans (Stateless Session beans) to handle different transactions such as bill payments to \n",
      "\n",
      "the service providers.  \n",
      "• Developed deployment descriptors for the EJB to deploy on Web Sphere Application Server.  \n",
      "• Implemented Service Oriented Architecture (SOA) using JMS for sending and receiving messages while creating web \n",
      "\n",
      "services.  \n",
      "• Developed Web Services for data transfer from client to server and vice versa using Apache Axis, SOAP, WSDL, and \n",
      "\n",
      "UDDI.  \n",
      "• Used JMS to publish messages to queues, to be processed by message driven beans (MDB)  \n",
      "• Extensively worked on MQ Series using point-point, publisher/subscriber messaging Domains for implementing \n",
      "\n",
      "Exchange of information through Messages.  \n",
      "• Developed XML documents and generated XSL files for Payment Transaction and Reserve Transaction systems.  \n",
      "• Implemented various J2EE Design patterns like Singleton, Service Locator, Business Delegate, DAO, Transfer Object, \n",
      "\n",
      "and SOA.  \n",
      "• Worked on AJAX to develop an interactive Web Application and JavaScript for Data Validations.  \n",
      "• Used Subversion to implement version control System.  \n",
      "• Build ANT Script for the application and used Log4J for debugging.  \n",
      "• Used JUnit Framework for the unit testing of all the Javaclasses.  \n",
      "\n",
      "Environment: JDK 1.5, J2EE, EJB 3.0, JNDI 1.2, Hibernate 2.1, Struts 1.3, HTML, JavaScript, Angular, XML, CSS, JUnit, UML, \n",
      "iReport 2.0 and 4.0, Web Services, SOAP, WSDL, UDDI, AXIS 2, Ajax, Ant, Eclipse 3.3, IBM Web Sphere 6.1, DB2, subversion, \n",
      "Linux. \n",
      " \n",
      "Client: CME Group, Chicago, IL \n",
      "Role: Java Developer \n",
      "Duration: Nov’ 12 – April’ 13 \n",
      "  \n",
      "Responsibilities:  \n",
      "\n",
      "• Implemented the advance validation rule model for administering the rules against the uploaded overrides based on \n",
      "the business requirement.  \n",
      "\n",
      "• Designing & developing the secured business layer for accessing the rules & persistence of the validated overrides.  \n",
      "• Writing Oracle Procedures and functions for persistence & managing rules that belong to the application layer of the \n",
      "\n",
      "database backend.  \n",
      "• Developed JSP, JSF and Servlets to dynamically generate HTML and display the data to the client side. Extensively used \n",
      "\n",
      "JSP tag libraries.  \n",
      "• Designed and developed Application based on Struts Framework using MVC design pattern.  \n",
      "• Used Spring Core for dependency injection/Inversion of control (IOC).  \n",
      "• Used Hibernate Framework for persistence onto oracle database.  \n",
      "• Created a Front-end application using Bootstrap, Node.js, SOA, Restful, ESB, AngularJS, JSPs, Hybris, JSF, Swing, \n",
      "\n",
      "ExtJS3.0, GWT and Spring MVC, AWS for registering a new patient and configured it to connect to database using \n",
      "Hibernate.  \n",
      "\n",
      "• Wrote and debugged the ANT Scripts for building the entire web application.  \n",
      "• Used XML to transfer the application data between client and server.  \n",
      "• Designed, architected, and implemented the system enhancements which utilized PowerBuilder for dynamic front end \n",
      "\n",
      "user interface. Design includes services that encapsulate all database interaction from the front end screens.  \n",
      "• XSLT style sheets for the XML data transformations.  \n",
      "• Used Data Access Objects (DAO) to abstract and encapsulate all access to the data source.  \n",
      "• Used the JDBC for data retrieval from the database for various inquiries.  \n",
      "• Performed purification of the application database entries using Oracle10g.  \n",
      "• Used CVS as source control.  \n",
      "• Customer collaboration over contract negotiation and Responding to change over following a plan has been achieved \n",
      "\n",
      "using Agile Development.  \n",
      "• Worked on agile approaches, including Extreme Programming and Test-Driven Development.  \n",
      "\n",
      "\n",
      "\n",
      "• Used JUnit to write repeatable tests mainly for unit testing.  \n",
      "Used of 'Agile Development Methodology' and tested the application in each iteration.  \n",
      "\n",
      "• Wrote complex SQL and HQL queries to retrieve data from the Oracle database.  \n",
      "Environment: Java, J2EE, JSP, JSF, Servlets, Struts 2.0, Spring 2.0, JDBC 3.0, Web Services,Angular,Javascript, XML, JNDI, \n",
      "Hibernate 3.0, JMS, WebLogic,  AWS, Eclipse, Oracle 10g, HTML, Rational Rose IDE, Junit 4.0, Log4j, JavaScript 1.2, XML/XSLT, \n",
      "SAX, DOM. \n",
      " \n",
      "Client: Fidelity, Malvern, PA \n",
      "Role: Java Developer \n",
      "Duration: Dec’ 11 - Oct’ 12 \n",
      " \n",
      "Responsibilities:  \n",
      "\n",
      "• Involved in all the phases of SDLC including Design & Analysis of the Customer Specifications, Implementing and \n",
      "testing. And Designing the technical Design Documents as per the Business requirements.  \n",
      "\n",
      "• Worked on server side implementation using spring core, spring annotations navigation from presentation to other \n",
      "layers using Spring MVC and integrated spring with Hibernate using Hibernate template to implement persistent layer.  \n",
      "\n",
      "• Implemented Spring JMS message container listener to retrieve log objects from queue and send different destinations.  \n",
      "• Implemented, configured spring message sources, resource bundles for labels, message properties for \n",
      "\n",
      "internationalization. And Using JIRA to manage the issues/project work flow.  \n",
      "• Implemented centralized dispatch controller to pass incoming request to helper classes using Spring MVC annotations, \n",
      "\n",
      "custom annotations and java reflection technology.  \n",
      "• Developed Java Web Services using SOAP, REST, WSDL &UDDI and Spring.  \n",
      "• Worked on implemented directives and scope values using Angular Js for an existing webpage.  \n",
      "• Used Oracle as the backend database and integrated with Hibernate to retrieve Data Access Objects.  \n",
      "• Invoked rest-core methods from the individual change appliers using Jersey-client library.  \n",
      "• Used  Agile and Scrum methodologies for testing purpose  \n",
      "• Designed and developed a unified messaging service platform using Apache.  \n",
      "• Configured Hibernate configuration file to configure the data base drivers, connection pooling, session management \n",
      "\n",
      "and mapping files to map to tables in the oracle database.  \n",
      "•  Used Oracle ADF, JDeveloper, HTML5, jQuery for all front end development. \n",
      "•  Developed stored procedures to implement business logic and called from hibernate using Callable statements.  \n",
      "•  Implemented Hibernate second level of caching using configuration files and EHcache provider.  \n",
      "• Used Maven, Selenium Grid to execute Selenium automation suites on different platform, browser combinations in \n",
      "\n",
      "parallel.  And Developed  and maintained  of packages, functions, application procedures, stored procedures, triggers, \n",
      "tables, indexes, views using Oracle PL/SQL database programming language and maintaining the DDL scripts.   \n",
      "\n",
      "• Exported Test case Scripts (Java-Selenium RC) in Eclipse IDE and modified the selenium scripts and executed.  \n",
      "• Developed User Interface Components using JSF (Java Server Faces) . Designed web module in spring framework for \n",
      "\n",
      "the J2EE application.  \n",
      "• Wrote JSF Backing Beans for controlling the UI and writing custom components and validations.  \n",
      "• Designed REST APIs supporting JSON that allow sophisticated, effective and low cost application integration.  \n",
      "• Used REST API with JAX-RS for consuming web services to handle two interfaces XML and JSON.  \n",
      "• Implemented single ton, facade and MVC design pattern.  \n",
      "• Implemented cross-domain calls using JQuery, implemented call back functions to handle JSON responses.  \n",
      "• Communicated with other Health Care info by using Web Services with the help of SOAP, WSDL JAX-B.  \n",
      "• Implemented SOA architecture using SOAP web services by JAX-WS  \n",
      "• Created WSDL and WADL as a start points to develop an application.  \n",
      "• Developed RESTFUL web services on JBoss IDE using Spring Framework.  \n",
      "• Used JBoss IDE with integrated server for designing, coding and developing applications. .  \n",
      "• Developed REST architecture based webservices to facilitate communication between client and servers.  \n",
      "• Developed user interface using CXF servlet, Spring and jax-ws tag Libraries to simplify the complexities of the \n",
      "\n",
      "application.  \n",
      "• Tested REST and SOAP based application on SOAP UI Testing Tool.  \n",
      "\n",
      "\n",
      "\n",
      "• Developed server-side services using Java, spring, Web Services (Restful, SOAP, WSDL, JAXB, JAX-RPC), SOA (Service \n",
      "oriented architecture) \n",
      "\n",
      "• Integrated the application with Spring Quartz framework.  \n",
      "• Testing and production support of core java based multithreading ETL tool for distributed loading XML data into \n",
      "\n",
      "Oracle11g database using JPA/Hibernate.  \n",
      "Environment: Java/J2EE (jdk 1.5/1.7), Spring, Spring MVC, Hibernate,Angular, JMS, Rest web services, Junit, JSF, Maven, Rest, \n",
      "XML, JSON, JAX-RS, JIRA, Stored Procedures, Apigee, Easy Mock, ETL, UML, JPA, Jenkins, apache \n",
      " \n",
      "Client: Zonta Technologies \n",
      "Role: Jr. Java Developer \n",
      "Duration: Aug’ 06 – Nov’ 11 \n",
      " \n",
      "Responsibilities:  \n",
      "\n",
      "• Developed custom JSP tags for Pricing, Order Management, Product Management modules.  \n",
      "• Wrote script for AJAX implementations in the website.  \n",
      "• Performed XML Transformations from value objects to xml and from xml to Html data.  \n",
      "• Designed and developed views, controller and model components implementing Struts Framework.  \n",
      "• Performed unit testing using JUnit.  \n",
      "• Developed the Logging framework using log4j.  \n",
      "• Implemented Design patterns for recurring problems. \n",
      "• Developed Web Services which are published on to the Websphere application server. Implemented \"Model View \n",
      "\n",
      "Controller (MVC)\" architecture to obtain \"Layered Architecture\" to isolate each layer of the application to avoid the \n",
      "complexity of integration and customization. \n",
      "\n",
      "• Used WebLogic server as the application server to host the EJB's.  \n",
      "• Used Eclipse IDE for developing the application. Used SVN for version control.  \n",
      "• Responsible for development of DAO's (Data Access Objects) to interact with the database using JDBC.  \n",
      "• Used ANT to build the deployment JAR and WAR files.  \n",
      "• Tested web services using SOAP UI.  \n",
      "• Log4j was used to log both User interface and Domain Level Messages.  \n",
      "\n",
      "Environment: Java, J2EE, J2EE, JSP, Rational Rose, Servlets, Struts Framework, JavaScript, Oracle and BEA WebLogic Server, \n",
      "ANT, SVN, Log4J. \n",
      " \n",
      "Education \n",
      "Jawaharlal Nehru Technological University \n",
      "2008\n"
     ]
    }
   ],
   "source": [
    "from tika import parser # pip install tika\n",
    "\n",
    "path_file = \"data/resumes/estandar/HEALTHCARE/KIRAN KUMAR.pdf\"\n",
    "\n",
    "raw = parser.from_file(path_file)\n",
    "\n",
    "print(str(raw['content']).strip())"
   ]
  },
  {
   "cell_type": "code",
   "execution_count": 25,
   "id": "1e42ee0b",
   "metadata": {},
   "outputs": [],
   "source": [
    "clean_cv = ct.cleanner_process([str(raw['content']).strip()])"
   ]
  },
  {
   "cell_type": "code",
   "execution_count": 26,
   "id": "6ab432f5",
   "metadata": {},
   "outputs": [
    {
     "data": {
      "text/plain": "['KIRAN KUMAR Email kumarjavagmailcom Mobile Professional Summary years experience design development testing documentation Enterprise applications using technologies Worked extensively Servlets Struts Spring Hibernate sphere Application Server logic Server JDBC JNDI RDBMS like Oracle Strong knowledge Software Development Life Cycle SDLC worked most life cycle phases Good knowledge working experience Object Oriented Analysis Object Oriented Design Working knowledge multitiered distributed environment concepts good understanding Software Development Lifecycle SDLC Experience application design using open source Spring Struts Frameworks Java Design Patterns Experience client side Technologies such HTML JQuery JavaScript Expertise Spring Modules such Spring Core Dependency Injection Transaction Expertise development using JavaScript AJAX HTML Expertise technologies XPath XSLT Extensive experience implementing framework using Spring Struts JEEarchitecture Experience working various Spring modules Spring along with Hibernate backend tool implementation persistence layer mapping POJOs Strong working experience application development using Core Java Spring Hibernate services Servlets HTML Tomcat Experience Multitier application development using architecture Design Patterns Spring Application framework Hibernate Good experience designing databases ORACLE MySQL Server Extensive experience handling Oracle applications database administration Experience managing businessmission critical high availability databases Experience working with multiple Servers like Sphere Logic JBoss Apache Tomcat Strong JEEJava application development background with experience defining functional technical specifications Experienced developing applications using Apache Tomcat Logic JBoss Expertise services technologies such SOAP Restful Designed configured JIRA project dashboards Agile boards workflow schemes Configured Issue Security Access LevelsSchemes finance JIRA projects Intensive knowledge databases like Oracle Server PLSQL Queries Triggers Client Hibernate Extensive expert level experience with Java Platform EJBs JDBC Servlets Applets JavaScript POJO Experience publishing consuming SOAPWSDLJAXWS based services using Apache Axis JAXRS based services using Apache Experience using parsers process validate parse extract data from files Worked developing automation scripts backend testing using Selenium executed unit tests Implemented automation using Selenium Driver Cucumber Java Maven Jenkins Experienced working with services technologies WSDL JAXWS JAXB JAXRS Implemented application design architecture using Struts framework Expert using Java IDEs like IntelliJ Eclipse NetBeans Developed internal external training portal JSPStruts Weblogic Tomcat Eclipse JBuilder depth exposure creating internal external application using REST SOAP based design Open source framework like Jersey used create REST Developed services Java Experienced with SOAP WSDL Backend REST Java using Java restlet framework Experience using JavaScript libraries JQuery frameworks like AngularJS Experience designing implementing Services using spring REST Loopback producing Restful services Strong Experience developing whole client side solution using AngularJS testing them with protractor Hands experience with Oracle Oracle Postgres databases writing complex queries writing Stored Procedures Functions Triggers performed complex database related operations Extensive experience writing complex Queries using JOINS also selecting correct join type efficiency Strong Experience development methodologies like waterfall Agile actively participate scrums code reviews planning sessions ATDD Experience Services Technologies like JAXP JAXB SOAP WSDL UDDI Service Oriented Architecture REST services written Groovy wrapped Jersey JAXRS Experience client side designing validations using HTML DHTML Java Script AJAX Expertise various open source frameworks like Struts spring Technology like Hibernate Experience working with REST services implemented SOAP developing testing services parsing files Experience developing enterprise applications using JAVA Servlets JDBC JNDI Struts spring Hibernate Services Extensive knowledge working with technologies such Servlets JDBC JNDI JavaBeans Object Oriented Programming techniques Creating message from uploaded information transaction data sending this information using SOAP Storing SOAP messages received Queue Sphere Series Extensive experience implementation version control software Clear Case Experience various Agile methodologies like Test Driven Development SCRUM Pair Programming Implemented project using SOAP based Services WSDL UDDI SOAP communicate with other systems Geneses ESKEM legacy systems using apache Axis TECHNICAL SKILLS Languages Technologies JAVA JAVAEE AngularJS jQuery HTML Servlets Ajax JavaScript Multithreading Nodejs TestNG Frameworks Spring Struts spring boot spring batch Hibernate JDBC Spring JDBC Services REST SOAP JAXRPC Cloud Technologies stack Simple Build Continuous integration Deployment Jenkins Maven Design Methodologies Agile Waterfall behavior driven development Agile test drive developmentATDD Tools Eclipse beans Source Control GitHub Subversion DatabaseLanguages Server Oracle TSQL PLSQL Application Servers Tomcat logic JBoss Operating Systems Windows Work Experience Client Genentech Role Java Full Stack Developer Duration July Till Date Responsibilities Designed application using Elaborated Cases based business requirements responsible creation Class Diagrams Sequence diagrams Extensive Programming testing debugging skills write applications Responsibilities included development modules application such using technologies Struts Spring Framework Created Services conformance architecture Developed templets Multiple Screens using AngularJs Implemented coding generation Adobe schema Building application with frameworks Such Angular Used spring framework dependency injection integrated with Node Hibernate Developed controllers deployed flow Execution Servlet Environment using Spring Extensively used Core Spring Framework Dependency Injection components Implemented Services using Spring RESTful Implemented REST service Scala using Akka CBPMAN tracking application Developed Hibernate with Spring Integration data abstraction interact with database Used Hibernate mapping Java classes with database created queries with Hibernate query language Developed model objects using Hibernate Implemented services WSDL effectively worked with SOAP XMLXSLT Experience NoSQL MongoDB using Hierarchy Modelling Techniques like Tree Aggregation Adjacency Lists materialized paths Developed Java classes processing used XSLT parsing Develop quality code adhering Scala coding Standards best practices Worked extensively AngularJSNodeJS creating Controllers Implemented backend process sending data through Worked with messaging service Transaction management having knowledge with Java persistence Implemented architecture using SOAP services using Apache JAXWS Transform Data Using into user required format Designed built deployed multitude applications utilizing almost StackIncluding MongoDB focusing highavailability fault tolerance autoscaling Using send email notify companies users have subscribed particular services product Developed customer facing software managing advertisements grow business using JavaScriptJQuery HTML Implemented SOAP Client Consumer using Apache Used services WSDL SOAP consuming data from data center Implemented client side Javabeans pattern Used Soap testing SOAP Services Developed Service using WSDL SOAP UDDI JQuery High charts plugin integration with databases displaying custom graphs line Environment Java Agile Scrum Spring Spring Spring RESTful service Hibernate AJAX Struts Oracle Servlets AngularJs Javascript NodeJS Java Script HTML Windows Logj Client Invesco Houston Role Java Developer Duration June Responsibilities Gathered system requirements application worked with business team review requirements went through Software Requirement document Architecture document Implemented code according coding standards Created AngularJS Controller which isolate scopes perform operations Designed developed User Interface modules using HTML JavaScript Developed using Java struts JDBC HTML JavaScript LogJ Oracle Server Developed Presentation tier using Struts Architecture Developed applications implementing REST JAXRS services with annotations handled JSON response from server Integrated Java code pages responsible setting AngularJS framework development Developed html views with HTML bootstrap AngularJS Developed customer facing software managing advertisements grow business using JavaScript JQuery HTML Used Struts libraries custom libraries extensively while coding pages Involved designing case diagrams Class diagrams Sequence diagrams using Rational Rose Worked part Agile SCRUM team product development Created userfriendly interfaces pages using HTML JavaScripts Developed client request validations processed using JavaScript Extensive Programming testing debugging skills write applications Used methodology develop application Integrated Hibernate with spring Handling Transactions Developed application using Struts Framework that uses Model View Controller architecture Developed various Struts Action classes middle tier injected Spring Dependency Injection service layer implementation Developed presentation layer using HTML JQuery Extensively used Spring Dependency Injection Used standard design patterns Model View Controller application design Used SpringHibernate integration back fetch data from Oracle MySQL databases Used Business Delegate Singleton Front Controller Factory design patterns Developed Action classes classes access database Developed several POJO classes data into java Object Consumed messages from Implemented SOAP Client Consumer using Apache Used Java Mail implemented automated functionality generate emails managed whenever user registers applications Used Oracle database tables creation involved writing queries using Joins Stored Procedures Used Toad database tool build edit format database queries well eliminate performance issues code Created indexes avoiding inefficient queries avoiding many open connections avoiding inline queries wherever possible Involved doing performance tuning observing reports execution plans Implemented Queue receive input form parsed them through common Implemented JQuery JSON minimize code manage complex data Used JUnit testing application Maven building Projects Deployed applications Rational Application Developer Used tool keep track work changes source code Developed templets Multiple Screens using AngularJs Building application with frameworks Such Angular Developed heavily asynchronous single page application which takes user through extensive search criteria graphs reports using high charts plugin Used Jenkins Auto builds Environment Java Spring Spring Hibernate Struts MySQL HTML JQuery Java Mail AJAX MongoDB Oracle Agile Scrum SOAP Apache WSDL JUNIT Unix Oracle Jenkins Angular Javascript NodeJS Client PAREXEL Role Java Developer Duration July Responsibilities Designed case diagrams class diagrams sequence diagrams part Design Phase using Rational Rose Developed necessary front user interfaces JSPs HTML JavaScript AngularJS that will integrated using Spring Framework Developed entire application implementing Architecture integrating with Hibernate struts frameworks Worked extensively AngularJS creating Controllers Designed User Interface using Java Server Pages Cascading Style Sheets Developed Enterprise Java Beans Stateless Session beans handle different transactions such bill payments service providers Developed deployment descriptors deploy Sphere Application Server Implemented Service Oriented Architecture using sending receiving messages while creating services Developed Services data transfer from client server vice versa using Apache Axis SOAP WSDL UDDI Used publish messages queues processed message driven beans Extensively worked Series using pointpoint publishersubscriber messaging Domains implementing Exchange information through Messages Developed documents generated files Payment Transaction Reserve Transaction systems Implemented various Design patterns like Singleton Service Locator Business Delegate Transfer Object Worked AJAX develop interactive Application JavaScript Data Validations Used Subversion implement version control System Build Script application used LogJ debugging Used JUnit Framework unit testing Javaclasses Environment JNDI Hibernate Struts HTML JavaScript Angular JUnit iReport Services SOAP WSDL UDDI AXIS Ajax Eclipse Sphere subversion Linux Client Group Chicago Role Java Developer Duration April Responsibilities Implemented advance validation rule model administering rules against uploaded overrides based business requirement Designing developing secured business layer accessing rules persistence validated overrides Writing Oracle Procedures functions persistence managing rules that belong application layer database backend Developed Servlets dynamically generate HTML display data client side Extensively used libraries Designed developed Application based Struts Framework using design pattern Used Spring Core dependency injectionInversion control Used Hibernate Framework persistence onto oracle database Created Frontend application using Bootstrap Nodejs Restful AngularJS JSPs Hybris Swing ExtJS Spring registering patient configured connect database using Hibernate Wrote debugged Scripts building entire application Used transfer application data between client server Designed architected implemented system enhancements which utilized PowerBuilder dynamic front user interface Design includes services that encapsulate database interaction from front screens XSLT style sheets data transformations Used Data Access Objects abstract encapsulate access data source Used JDBC data retrieval from database various inquiries Performed purification application database entries using Oracleg Used source control Customer collaboration over contract negotiation Responding change over following plan been achieved using Agile Development Worked agile approaches including Extreme Programming TestDriven Development Used JUnit write repeatable tests mainly unit testing Used Agile Development Methodology tested application each iteration Wrote complex queries retrieve data from Oracle database Environment Java Servlets Struts Spring JDBC ServicesAngularJavascript JNDI Hibernate WebLogic Eclipse Oracle HTML Rational Rose Junit Logj JavaScript XMLXSLT Client Fidelity Malvern Role Java Developer Duration Responsibilities Involved phases SDLC including Design Analysis Customer Specifications Implementing testing Designing technical Design Documents Business requirements Worked server side implementation using spring core spring annotations navigation from presentation other layers using Spring integrated spring with Hibernate using Hibernate template implement persistent layer Implemented Spring message container listener retrieve objects from queue send different destinations Implemented configured spring message sources resource bundles labels message properties internationalization Using JIRA manage issuesproject work flow Implemented centralized dispatch controller pass incoming request helper classes using Spring annotations custom annotations java reflection technology Developed Java Services using SOAP REST WSDL UDDI Spring Worked implemented directives scope values using Angular existing webpage Used Oracle backend database integrated with Hibernate retrieve Data Access Objects Invoked restcore methods from individual change appliers using Jerseyclient library Used Agile Scrum methodologies testing purpose Designed developed unified messaging service platform using Apache Configured Hibernate configuration file configure data base drivers connection pooling session management mapping files tables oracle database Used Oracle JDeveloper HTML jQuery front development Developed stored procedures implement business logic called from hibernate using Callable statements Implemented Hibernate second level caching using configuration files EHcache provider Used Maven Selenium Grid execute Selenium automation suites different platform browser combinations parallel Developed maintained packages functions application procedures stored procedures triggers tables indexes views using Oracle PLSQL database programming language maintaining scripts Exported Test case Scripts JavaSelenium Eclipse modified selenium scripts executed Developed User Interface Components using Java Server Faces Designed module spring framework application Wrote Backing Beans controlling writing custom components validations Designed REST APIs supporting JSON that allow sophisticated effective cost application integration Used REST with JAXRS consuming services handle interfaces JSON Implemented single facade design pattern Implemented crossdomain calls using JQuery implemented call back functions handle JSON responses Communicated with other Health Care info using Services with help SOAP WSDL JAXB Implemented architecture using SOAP services JAXWS Created WSDL WADL start points develop application Developed RESTFUL services JBoss using Spring Framework Used JBoss with integrated server designing coding developing applications Developed REST architecture based webservices facilitate communication between client servers Developed user interface using servlet Spring jaxws Libraries simplify complexities application Tested REST SOAP based application SOAP Testing Tool Developed serverside services using Java spring Services Restful SOAP WSDL JAXB JAXRPC Service oriented architecture Integrated application with Spring Quartz framework Testing production support core java based multithreading tool distributed loading data into Oracleg database using JPAHibernate Environment JavaJEE Spring Spring HibernateAngular Rest services Junit Maven Rest JSON JAXRS JIRA Stored Procedures Apigee Easy Mock Jenkins apache Client Zonta Technologies Role Java Developer Duration Responsibilities Developed custom tags Pricing Order Management Product Management modules Wrote script AJAX implementations website Performed Transformations from value objects from Html data Designed developed views controller model components implementing Struts Framework Performed unit testing using JUnit Developed Logging framework using logj Implemented Design patterns recurring problems Developed Services which published Websphere application server Implemented Model View Controller architecture obtain Layered Architecture isolate each layer application avoid complexity integration customization Used WebLogic server application server host EJBs Used Eclipse developing application Used version control Responsible development DAOs Data Access Objects interact with database using JDBC Used build deployment files Tested services using SOAP Logj used both User interface Domain Level Messages Environment Java Rational Rose Servlets Struts Framework JavaScript Oracle WebLogic Server LogJ Education Jawaharlal Nehru Technological University ']"
     },
     "execution_count": 26,
     "metadata": {},
     "output_type": "execute_result"
    }
   ],
   "source": [
    "clean_cv"
   ]
  },
  {
   "cell_type": "code",
   "execution_count": 27,
   "id": "ad8a6111",
   "metadata": {},
   "outputs": [
    {
     "data": {
      "text/plain": "(1, 682984)"
     },
     "execution_count": 27,
     "metadata": {},
     "output_type": "execute_result"
    }
   ],
   "source": [
    "features = tfidf.transform(clean_cv).toarray()\n",
    "labels = df_new.category_id\n",
    "features.shape"
   ]
  },
  {
   "cell_type": "code",
   "execution_count": 28,
   "id": "7366e127",
   "metadata": {},
   "outputs": [],
   "source": [
    "y_pred_cv= model.predict(features)"
   ]
  },
  {
   "cell_type": "code",
   "execution_count": 29,
   "id": "f481debb",
   "metadata": {},
   "outputs": [
    {
     "data": {
      "text/plain": "2"
     },
     "execution_count": 29,
     "metadata": {},
     "output_type": "execute_result"
    }
   ],
   "source": [
    "y_pred_cv[0]"
   ]
  },
  {
   "cell_type": "code",
   "execution_count": 30,
   "id": "392b5ba9",
   "metadata": {},
   "outputs": [
    {
     "data": {
      "text/plain": "                    class  category_id\n2  INFORMATION-TECHNOLOGY            2",
      "text/html": "<div>\n<style scoped>\n    .dataframe tbody tr th:only-of-type {\n        vertical-align: middle;\n    }\n\n    .dataframe tbody tr th {\n        vertical-align: top;\n    }\n\n    .dataframe thead th {\n        text-align: right;\n    }\n</style>\n<table border=\"1\" class=\"dataframe\">\n  <thead>\n    <tr style=\"text-align: right;\">\n      <th></th>\n      <th>class</th>\n      <th>category_id</th>\n    </tr>\n  </thead>\n  <tbody>\n    <tr>\n      <th>2</th>\n      <td>INFORMATION-TECHNOLOGY</td>\n      <td>2</td>\n    </tr>\n  </tbody>\n</table>\n</div>"
     },
     "execution_count": 30,
     "metadata": {},
     "output_type": "execute_result"
    }
   ],
   "source": [
    "category_id_df[category_id_df['category_id']==y_pred_cv[0]]"
   ]
  }
 ],
 "metadata": {
  "kernelspec": {
   "display_name": "Python 3 (ipykernel)",
   "language": "python",
   "name": "python3"
  },
  "language_info": {
   "codemirror_mode": {
    "name": "ipython",
    "version": 3
   },
   "file_extension": ".py",
   "mimetype": "text/x-python",
   "name": "python",
   "nbconvert_exporter": "python",
   "pygments_lexer": "ipython3",
   "version": "3.7.10"
  }
 },
 "nbformat": 4,
 "nbformat_minor": 5
}